{
  "nbformat": 4,
  "nbformat_minor": 0,
  "metadata": {
    "colab": {
      "name": "models.ipynb",
      "provenance": [],
      "collapsed_sections": []
    },
    "kernelspec": {
      "name": "python3",
      "display_name": "Python 3"
    },
    "language_info": {
      "name": "python"
    }
  },
  "cells": [
    {
      "cell_type": "code",
      "metadata": {
        "id": "zGFwFzJph0u-",
        "colab": {
          "base_uri": "https://localhost:8080/"
        },
        "outputId": "e3ae68db-189c-4afd-e960-c1a8d88c1854"
      },
      "source": [
        "import pandas as pd\n",
        "import statsmodels.api as sm\n",
        "from sklearn.linear_model import LogisticRegression\n",
        "from sklearn.ensemble import RandomForestClassifier\n",
        "from sklearn.svm import SVC\n",
        "from sklearn.preprocessing import StandardScaler\n",
        "\n",
        "from sklearn.metrics import accuracy_score, recall_score, precision_score\n",
        "from sklearn.model_selection import train_test_split"
      ],
      "execution_count": 1,
      "outputs": [
        {
          "output_type": "stream",
          "name": "stderr",
          "text": [
            "/usr/local/lib/python3.7/dist-packages/statsmodels/tools/_testing.py:19: FutureWarning: pandas.util.testing is deprecated. Use the functions in the public API at pandas.testing instead.\n",
            "  import pandas.util.testing as tm\n"
          ]
        }
      ]
    },
    {
      "cell_type": "markdown",
      "metadata": {
        "id": "YvFKwOtgswNt"
      },
      "source": [
        "# Get Data"
      ]
    },
    {
      "cell_type": "code",
      "metadata": {
        "id": "WoSdxX3Zj6kb"
      },
      "source": [
        "data = pd.read_csv(\"cleaned.csv\", index_col = 0)"
      ],
      "execution_count": 2,
      "outputs": []
    },
    {
      "cell_type": "code",
      "metadata": {
        "id": "O91q6-3NksWo"
      },
      "source": [
        "data = data.replace({\n",
        "    'Fire' : {\n",
        "        True : 1,\n",
        "        False : 0\n",
        "    }\n",
        "})"
      ],
      "execution_count": 3,
      "outputs": []
    },
    {
      "cell_type": "code",
      "metadata": {
        "id": "ZgvoKOaHj6iD"
      },
      "source": [
        "all_features = list(data.columns)[6:21] + list(data.columns)[21:-1]\n",
        "target = ['Fire']"
      ],
      "execution_count": 5,
      "outputs": []
    },
    {
      "cell_type": "markdown",
      "metadata": {
        "id": "xKtcM6hAmoHs"
      },
      "source": [
        "# Model Training\n",
        "\n"
      ]
    },
    {
      "cell_type": "code",
      "metadata": {
        "id": "-oocBbZkqopU"
      },
      "source": [
        "class ModelsClass:\n",
        "  def __init__(self, X, y):\n",
        "    self.X = data[X].values\n",
        "    self.y = data[y].values\n",
        "    print(X)\n",
        "\n",
        "  def logisticReg(self):\n",
        "    X_train, X_test, y_train, y_test = train_test_split(self.X, self.y, test_size=0.33)\n",
        "\n",
        "    logreg = LogisticRegression(random_state=20191016, solver='lbfgs', max_iter= 1000)\n",
        "\n",
        "    logreg.fit(X_train, y_train.ravel())\n",
        "    self.score(X_test, y_test, logreg)\n",
        "\n",
        "  def logisticRegNormal(self):\n",
        "    scaler = StandardScaler()\n",
        "    scaled_train_features = scaler.fit_transform(self.X)\n",
        "\n",
        "    X_train, X_test, y_train, y_test = train_test_split(scaled_train_features, self.y, test_size=0.33)\n",
        "\n",
        "    logreg = LogisticRegression(random_state=20191016, solver='lbfgs', max_iter= 1000)\n",
        "\n",
        "    logreg.fit(X_train, y_train.ravel())\n",
        "    self.score(X_test, y_test, logreg)\n",
        "  \n",
        "  def RandomForest(self):\n",
        "    X_train, X_test, y_train, y_test = train_test_split(self.X, self.y, test_size=0.33)\n",
        "\n",
        "    random = RandomForestClassifier()\n",
        "\n",
        "    random.fit(X_train, y_train.ravel())\n",
        "    self.score(X_test, y_test, random)\n",
        "\n",
        "  def svc(self):\n",
        "    X_train, X_test, y_train, y_test = train_test_split(self.X, self.y, test_size=0.33)\n",
        "\n",
        "    svc = SVC()\n",
        "\n",
        "    svc.fit(X_train, y_train.ravel())\n",
        "    self.score(X_test, y_test, svc)\n",
        "\n",
        "  def score(self, a, b, model):\n",
        "    j = 0.000\n",
        "    for i in range(50):\n",
        "      j += model.score(a, b)\n",
        "    j = j / 50\n",
        "    print(\"The average score after running 50 times is : {avg:.2f}%\".format(avg = (j * 100)))"
      ],
      "execution_count": 107,
      "outputs": []
    },
    {
      "cell_type": "code",
      "metadata": {
        "id": "-u40G2t4qv_7"
      },
      "source": [
        "a = ModelsClass(all_features, target)"
      ],
      "execution_count": 87,
      "outputs": []
    },
    {
      "cell_type": "code",
      "metadata": {
        "colab": {
          "base_uri": "https://localhost:8080/"
        },
        "id": "J99aQrOT2yPR",
        "outputId": "bca3a00b-a47b-4d75-8e59-720ced3098c0"
      },
      "source": [
        "a.logisticReg()"
      ],
      "execution_count": 88,
      "outputs": [
        {
          "output_type": "stream",
          "name": "stdout",
          "text": [
            "The average score after running 50 times is : 55.81%\n"
          ]
        }
      ]
    },
    {
      "cell_type": "markdown",
      "metadata": {
        "id": "TH644SUVtCD3"
      },
      "source": [
        "*Let's try normalizing the data and see if the accuracy changes.*"
      ]
    },
    {
      "cell_type": "code",
      "metadata": {
        "colab": {
          "base_uri": "https://localhost:8080/"
        },
        "id": "RgtYHgQpzICi",
        "outputId": "28c12c38-bf24-41d4-988d-358dd131be9b"
      },
      "source": [
        "a.logisticRegNormal()"
      ],
      "execution_count": 89,
      "outputs": [
        {
          "output_type": "stream",
          "name": "stdout",
          "text": [
            "The average score after running 50 times is : 56.83%\n"
          ]
        }
      ]
    },
    {
      "cell_type": "markdown",
      "metadata": {
        "id": "MgOSnnyv3DiJ"
      },
      "source": [
        "**The accuracy seems to be the same. So let's maybe try a different model and see the result**"
      ]
    },
    {
      "cell_type": "markdown",
      "metadata": {
        "id": "QZZH_DdWeC8a"
      },
      "source": [
        "*Random Forest Classifier*"
      ]
    },
    {
      "cell_type": "code",
      "metadata": {
        "id": "xegnXHbd3BjL",
        "colab": {
          "base_uri": "https://localhost:8080/"
        },
        "outputId": "912b79d0-2b33-482e-9f80-79f4fc829c9a"
      },
      "source": [
        "a.RandomForest()"
      ],
      "execution_count": 90,
      "outputs": [
        {
          "output_type": "stream",
          "name": "stdout",
          "text": [
            "The average score after running 50 times is : 57.35%\n"
          ]
        }
      ]
    },
    {
      "cell_type": "markdown",
      "metadata": {
        "id": "l5RObXTJeHFh"
      },
      "source": [
        "*Support Vector Classifier*"
      ]
    },
    {
      "cell_type": "code",
      "metadata": {
        "colab": {
          "base_uri": "https://localhost:8080/"
        },
        "id": "Bme3wzNudH5i",
        "outputId": "b21503ef-b824-4625-d2ca-dd07cd039758"
      },
      "source": [
        "a.svc()"
      ],
      "execution_count": 91,
      "outputs": [
        {
          "output_type": "stream",
          "name": "stdout",
          "text": [
            "The average score after running 50 times is : 57.04%\n"
          ]
        }
      ]
    },
    {
      "cell_type": "markdown",
      "metadata": {
        "id": "phlRg_9cdxz8"
      },
      "source": [
        "**The accuracy did not change even when we tried different models. This means that we need to modify our features.** \\\\\n",
        "*Note that if we increase the training dataset size the accuracy of models like the SVC does increase*"
      ]
    },
    {
      "cell_type": "markdown",
      "metadata": {
        "id": "4u-6M8FEfkSB"
      },
      "source": [
        "## Approach #1"
      ]
    },
    {
      "cell_type": "markdown",
      "metadata": {
        "id": "bXfnZje2fqa2"
      },
      "source": [
        "*Instead of using all the value of the features let us look at the averages.*"
      ]
    },
    {
      "cell_type": "code",
      "metadata": {
        "id": "iPfHeSIOgX28"
      },
      "source": [
        "data['tmp avg'] = (data[\"Temp Day One\"] + data['Temp Day Two'] + data['Temp Day Three'] + data['Temp Day Four'] \n",
        "                   + data['Temp Day Five'])/5\n",
        "\n",
        "data['tmpMax avg'] = (data[\"MaxTemp Day One\"] + data['MaxTemp Day Two'] + data['MaxTemp Day Three'] + data['MaxTemp Day Four'] \n",
        "                   + data['MaxTemp Day Five'])/5\n",
        "\n",
        "data['tmpMin avg'] = (data[\"MinTemp Day One\"] + data['MinTemp Day Two'] + data['MinTemp Day Three'] + data['MinTemp Day Four'] \n",
        "                   + data['MinTemp Day Five'])/5\n"
      ],
      "execution_count": 96,
      "outputs": []
    },
    {
      "cell_type": "code",
      "metadata": {
        "id": "NLvxgv1pdt06"
      },
      "source": [
        "data['hum avg'] = (data[\"Humidity Day One\"] + data['Humidity Day Two'] + data['Humidity Day Three'] + data['Humidity Day Four'] + data['Humidity Day Five'])/5"
      ],
      "execution_count": 97,
      "outputs": []
    },
    {
      "cell_type": "code",
      "metadata": {
        "id": "fGAa3J6NhULQ"
      },
      "source": [
        "all_features = list(data.columns)[27:-2]"
      ],
      "execution_count": 103,
      "outputs": []
    },
    {
      "cell_type": "code",
      "metadata": {
        "colab": {
          "base_uri": "https://localhost:8080/"
        },
        "id": "hdtfFzAqiAmt",
        "outputId": "34094a26-f6c7-410c-811d-50c07a1294d7"
      },
      "source": [
        "list(data.columns)[27: -2]"
      ],
      "execution_count": 102,
      "outputs": [
        {
          "output_type": "execute_result",
          "data": {
            "text/plain": [
              "['hum avg', 'tmp avg']"
            ]
          },
          "metadata": {},
          "execution_count": 102
        }
      ]
    },
    {
      "cell_type": "code",
      "metadata": {
        "colab": {
          "base_uri": "https://localhost:8080/"
        },
        "id": "Ev0_g3j9hUHv",
        "outputId": "d92b79f9-73d5-43d2-a1fa-f47eb6513bf4"
      },
      "source": [
        "b = ModelsClass(all_features, target)"
      ],
      "execution_count": 108,
      "outputs": [
        {
          "output_type": "stream",
          "name": "stdout",
          "text": [
            "['hum avg', 'tmp avg']\n"
          ]
        }
      ]
    },
    {
      "cell_type": "code",
      "metadata": {
        "colab": {
          "base_uri": "https://localhost:8080/"
        },
        "id": "L6xRGFzIhUEW",
        "outputId": "4a515eae-6fef-4991-98b7-22a0f7cfb811"
      },
      "source": [
        "b.logisticReg()"
      ],
      "execution_count": 110,
      "outputs": [
        {
          "output_type": "stream",
          "name": "stdout",
          "text": [
            "The average score after running 50 times is : 56.42%\n"
          ]
        }
      ]
    },
    {
      "cell_type": "code",
      "metadata": {
        "colab": {
          "base_uri": "https://localhost:8080/"
        },
        "id": "Q2cR1X_biR-B",
        "outputId": "d302b9ab-f552-47e8-da79-64dedeaa3f06"
      },
      "source": [
        "b.logisticRegNormal()"
      ],
      "execution_count": 111,
      "outputs": [
        {
          "output_type": "stream",
          "name": "stdout",
          "text": [
            "The average score after running 50 times is : 53.44%\n"
          ]
        }
      ]
    },
    {
      "cell_type": "code",
      "metadata": {
        "colab": {
          "base_uri": "https://localhost:8080/"
        },
        "id": "WMidN2VPiTDa",
        "outputId": "05c227dc-9fd1-4270-9373-3a2f199b5e16"
      },
      "source": [
        "b.RandomForest()"
      ],
      "execution_count": 112,
      "outputs": [
        {
          "output_type": "stream",
          "name": "stdout",
          "text": [
            "The average score after running 50 times is : 54.06%\n"
          ]
        }
      ]
    },
    {
      "cell_type": "code",
      "metadata": {
        "colab": {
          "base_uri": "https://localhost:8080/"
        },
        "id": "6WiDHv0viVW6",
        "outputId": "60a3a3c5-b6f4-4b86-c320-fc4a6b41fdc6"
      },
      "source": [
        "b.svc()"
      ],
      "execution_count": 113,
      "outputs": [
        {
          "output_type": "stream",
          "name": "stdout",
          "text": [
            "The average score after running 50 times is : 55.40%\n"
          ]
        }
      ]
    },
    {
      "cell_type": "markdown",
      "metadata": {
        "id": "fVVyxPPNiQai"
      },
      "source": [
        "*Using the averages does not change anything*"
      ]
    },
    {
      "cell_type": "code",
      "metadata": {
        "id": "yBM4XCsQhT6R"
      },
      "source": [
        ""
      ],
      "execution_count": null,
      "outputs": []
    }
  ]
}