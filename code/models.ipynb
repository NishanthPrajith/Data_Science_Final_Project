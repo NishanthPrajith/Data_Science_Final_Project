{
  "nbformat": 4,
  "nbformat_minor": 0,
  "metadata": {
    "colab": {
      "name": "models.ipynb",
      "provenance": []
    },
    "kernelspec": {
      "name": "python3",
      "display_name": "Python 3"
    },
    "language_info": {
      "name": "python"
    }
  },
  "cells": [
    {
      "cell_type": "code",
      "metadata": {
        "colab": {
          "base_uri": "https://localhost:8080/"
        },
        "id": "zGFwFzJph0u-",
        "outputId": "98be542c-054b-488e-b55b-0b45d27e8ee8"
      },
      "source": [
        "import pandas as pd\n",
        "import statsmodels.api as sm\n",
        "from sklearn.linear_model import LogisticRegression\n",
        "from sklearn.tree import DecisionTreeClassifier\n",
        "\n",
        "from sklearn.ensemble import RandomForestClassifier, GradientBoostingClassifier\n",
        "from sklearn.metrics import accuracy_score, recall_score, precision_score, confusion_matrix\n",
        "from sklearn.metrics import roc_curve, roc_auc_score\n",
        "from sklearn.model_selection import KFold, train_test_split"
      ],
      "execution_count": 1,
      "outputs": [
        {
          "output_type": "stream",
          "name": "stderr",
          "text": [
            "/usr/local/lib/python3.7/dist-packages/statsmodels/tools/_testing.py:19: FutureWarning: pandas.util.testing is deprecated. Use the functions in the public API at pandas.testing instead.\n",
            "  import pandas.util.testing as tm\n"
          ]
        }
      ]
    },
    {
      "cell_type": "markdown",
      "metadata": {
        "id": "YvFKwOtgswNt"
      },
      "source": [
        "# Get Data"
      ]
    },
    {
      "cell_type": "code",
      "metadata": {
        "id": "WoSdxX3Zj6kb"
      },
      "source": [
        "data = pd.read_csv(\"cleaned.csv\", index_col = 0)"
      ],
      "execution_count": 6,
      "outputs": []
    },
    {
      "cell_type": "code",
      "metadata": {
        "id": "O91q6-3NksWo"
      },
      "source": [
        "data = data.replace({\n",
        "    'Fire' : {\n",
        "        True : 1,\n",
        "        False : 0\n",
        "    }\n",
        "})"
      ],
      "execution_count": 18,
      "outputs": []
    },
    {
      "cell_type": "code",
      "metadata": {
        "id": "ZgvoKOaHj6iD"
      },
      "source": [
        "all_features = list(data.columns)[6:21] + list(data.columns)[21:-1]\n",
        "target = ['Fire']"
      ],
      "execution_count": 116,
      "outputs": []
    },
    {
      "cell_type": "markdown",
      "metadata": {
        "id": "xKtcM6hAmoHs"
      },
      "source": [
        "# Model Training\n",
        "\n"
      ]
    },
    {
      "cell_type": "code",
      "metadata": {
        "id": "Q7pWHD5_j6f2"
      },
      "source": [
        "X = data[all_features].values\n",
        "y = data[target].values"
      ],
      "execution_count": 118,
      "outputs": []
    },
    {
      "cell_type": "code",
      "metadata": {
        "id": "-oocBbZkqopU"
      },
      "source": [
        "class ModelsClass:\n",
        "  def __init__(self, X, y):\n",
        "    self.X = X\n",
        "    self.y = y\n",
        "\n",
        "  def logisticReg(self):\n",
        "    X_train, X_test, y_train, y_test = train_test_split(self.X, self.y, test_size=0.33)\n",
        "\n",
        "    logreg = LogisticRegression(random_state=20191016, solver='lbfgs', max_iter= 1000)\n",
        "\n",
        "    logreg.fit(X_train, y_train.ravel())\n",
        "\n",
        "    print(logreg.score(X_test, y_test.ravel()))\n"
      ],
      "execution_count": 111,
      "outputs": []
    },
    {
      "cell_type": "code",
      "metadata": {
        "id": "-u40G2t4qv_7"
      },
      "source": [
        "a = ModelsClass(X, y)"
      ],
      "execution_count": 119,
      "outputs": []
    },
    {
      "cell_type": "code",
      "metadata": {
        "colab": {
          "base_uri": "https://localhost:8080/"
        },
        "id": "JubdMPkjrt_s",
        "outputId": "fa2e7240-c794-4ddf-c08c-77137f26d37f"
      },
      "source": [
        "a.logisticReg() # Accuracy is only 50%+ which is not that great"
      ],
      "execution_count": 131,
      "outputs": [
        {
          "output_type": "stream",
          "name": "stdout",
          "text": [
            "0.5765673175745119\n"
          ]
        }
      ]
    },
    {
      "cell_type": "markdown",
      "metadata": {
        "id": "TH644SUVtCD3"
      },
      "source": [
        "### Let's try normalizing the data and see if the accuracy changes."
      ]
    },
    {
      "cell_type": "code",
      "metadata": {
        "id": "3V8WiQUgsUGq"
      },
      "source": [
        ""
      ],
      "execution_count": null,
      "outputs": []
    }
  ]
}