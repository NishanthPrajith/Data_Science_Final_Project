{
  "nbformat": 4,
  "nbformat_minor": 0,
  "metadata": {
    "colab": {
      "name": "models.ipynb",
      "provenance": [],
      "collapsed_sections": []
    },
    "kernelspec": {
      "name": "python3",
      "display_name": "Python 3"
    },
    "language_info": {
      "name": "python"
    },
    "accelerator": "GPU"
  },
  "cells": [
    {
      "cell_type": "code",
      "metadata": {
        "id": "zGFwFzJph0u-"
      },
      "source": [
        "import pandas as pd\n",
        "import numpy as np\n",
        "import statsmodels.api as sm\n",
        "import seaborn as sns\n",
        "\n",
        "\n",
        "from sklearn.svm import SVC\n",
        "from sklearn.preprocessing import StandardScaler\n",
        "\n",
        "from sklearn.metrics import accuracy_score, recall_score, precision_score\n",
        "from sklearn.model_selection import train_test_split\n",
        "\n",
        "# Models from Scikit-Learn\n",
        "from sklearn.linear_model import LogisticRegression\n",
        "from sklearn.neighbors import KNeighborsClassifier\n",
        "from sklearn.ensemble import RandomForestClassifier\n",
        "from sklearn.ensemble import RandomForestRegressor\n",
        "\n",
        "#import data analysis tools\n",
        "import matplotlib.pyplot as plt\n",
        "\n",
        "#Model Evaluations\n",
        "from sklearn.model_selection import RandomizedSearchCV, GridSearchCV\n",
        "from sklearn.model_selection import KFold\n",
        "from sklearn.model_selection import cross_val_score\n",
        "from sklearn.metrics import plot_roc_curve\n",
        "from sklearn.metrics import confusion_matrix, classification_report\n"
      ],
      "execution_count": 98,
      "outputs": []
    },
    {
      "cell_type": "markdown",
      "metadata": {
        "id": "YvFKwOtgswNt"
      },
      "source": [
        "# Get Data"
      ]
    },
    {
      "cell_type": "code",
      "metadata": {
        "id": "WoSdxX3Zj6kb",
        "colab": {
          "base_uri": "https://localhost:8080/",
          "height": 825
        },
        "outputId": "582eab39-f375-4bea-a6f6-8c9b9dc2dadd"
      },
      "source": [
        "data = pd.read_csv(\"cleaned.csv\", index_col = 0)\n",
        "data"
      ],
      "execution_count": 3,
      "outputs": [
        {
          "output_type": "execute_result",
          "data": {
            "text/html": [
              "<div>\n",
              "<style scoped>\n",
              "    .dataframe tbody tr th:only-of-type {\n",
              "        vertical-align: middle;\n",
              "    }\n",
              "\n",
              "    .dataframe tbody tr th {\n",
              "        vertical-align: top;\n",
              "    }\n",
              "\n",
              "    .dataframe thead th {\n",
              "        text-align: right;\n",
              "    }\n",
              "</style>\n",
              "<table border=\"1\" class=\"dataframe\">\n",
              "  <thead>\n",
              "    <tr style=\"text-align: right;\">\n",
              "      <th></th>\n",
              "      <th>AcresBurned</th>\n",
              "      <th>Counties</th>\n",
              "      <th>Latitude</th>\n",
              "      <th>Longitude</th>\n",
              "      <th>Started</th>\n",
              "      <th>FIPS</th>\n",
              "      <th>Temp Day One</th>\n",
              "      <th>Temp Day Two</th>\n",
              "      <th>Temp Day Three</th>\n",
              "      <th>Temp Day Four</th>\n",
              "      <th>Temp Day Five</th>\n",
              "      <th>MaxTemp Day One</th>\n",
              "      <th>MaxTemp Day Two</th>\n",
              "      <th>MaxTemp Day Three</th>\n",
              "      <th>MaxTemp Day Four</th>\n",
              "      <th>MaxTemp Day Five</th>\n",
              "      <th>MinTemp Day One</th>\n",
              "      <th>MinTemp Day Two</th>\n",
              "      <th>MinTemp Day Three</th>\n",
              "      <th>MinTemp Day Four</th>\n",
              "      <th>MinTemp Day Five</th>\n",
              "      <th>Humidity Day One</th>\n",
              "      <th>Humidity Day Two</th>\n",
              "      <th>Humidity Day Three</th>\n",
              "      <th>Humidity Day Four</th>\n",
              "      <th>Humidity Day Five</th>\n",
              "      <th>Fire</th>\n",
              "    </tr>\n",
              "  </thead>\n",
              "  <tbody>\n",
              "    <tr>\n",
              "      <th>0</th>\n",
              "      <td>257314.0</td>\n",
              "      <td>Tuolumne</td>\n",
              "      <td>37.857000</td>\n",
              "      <td>-120.086000</td>\n",
              "      <td>2013-08-17 15:25:00</td>\n",
              "      <td>6109.0</td>\n",
              "      <td>74.0</td>\n",
              "      <td>78.0</td>\n",
              "      <td>79.0</td>\n",
              "      <td>79.0</td>\n",
              "      <td>80.0</td>\n",
              "      <td>83.0</td>\n",
              "      <td>87.0</td>\n",
              "      <td>88.0</td>\n",
              "      <td>88.0</td>\n",
              "      <td>89.0</td>\n",
              "      <td>50.0</td>\n",
              "      <td>52.0</td>\n",
              "      <td>52.0</td>\n",
              "      <td>52.0</td>\n",
              "      <td>54.0</td>\n",
              "      <td>38.000</td>\n",
              "      <td>33.000</td>\n",
              "      <td>34.000</td>\n",
              "      <td>35.125</td>\n",
              "      <td>33.000</td>\n",
              "      <td>True</td>\n",
              "    </tr>\n",
              "    <tr>\n",
              "      <th>1</th>\n",
              "      <td>30274.0</td>\n",
              "      <td>Los Angeles</td>\n",
              "      <td>34.585595</td>\n",
              "      <td>-118.423176</td>\n",
              "      <td>2013-05-30 15:28:00</td>\n",
              "      <td>6037.0</td>\n",
              "      <td>72.0</td>\n",
              "      <td>72.0</td>\n",
              "      <td>75.0</td>\n",
              "      <td>73.0</td>\n",
              "      <td>78.0</td>\n",
              "      <td>82.0</td>\n",
              "      <td>82.0</td>\n",
              "      <td>86.0</td>\n",
              "      <td>83.0</td>\n",
              "      <td>87.0</td>\n",
              "      <td>42.0</td>\n",
              "      <td>43.0</td>\n",
              "      <td>45.0</td>\n",
              "      <td>46.0</td>\n",
              "      <td>47.0</td>\n",
              "      <td>46.000</td>\n",
              "      <td>46.500</td>\n",
              "      <td>40.625</td>\n",
              "      <td>53.875</td>\n",
              "      <td>39.625</td>\n",
              "      <td>True</td>\n",
              "    </tr>\n",
              "    <tr>\n",
              "      <th>2</th>\n",
              "      <td>27531.0</td>\n",
              "      <td>Riverside</td>\n",
              "      <td>33.709500</td>\n",
              "      <td>-116.728850</td>\n",
              "      <td>2013-07-15 13:43:00</td>\n",
              "      <td>6065.0</td>\n",
              "      <td>82.0</td>\n",
              "      <td>77.0</td>\n",
              "      <td>79.0</td>\n",
              "      <td>82.0</td>\n",
              "      <td>84.0</td>\n",
              "      <td>88.0</td>\n",
              "      <td>82.0</td>\n",
              "      <td>84.0</td>\n",
              "      <td>88.0</td>\n",
              "      <td>90.0</td>\n",
              "      <td>66.0</td>\n",
              "      <td>65.0</td>\n",
              "      <td>65.0</td>\n",
              "      <td>66.0</td>\n",
              "      <td>68.0</td>\n",
              "      <td>34.750</td>\n",
              "      <td>51.375</td>\n",
              "      <td>48.375</td>\n",
              "      <td>27.875</td>\n",
              "      <td>27.000</td>\n",
              "      <td>True</td>\n",
              "    </tr>\n",
              "    <tr>\n",
              "      <th>3</th>\n",
              "      <td>27440.0</td>\n",
              "      <td>Placer</td>\n",
              "      <td>39.120000</td>\n",
              "      <td>-120.650000</td>\n",
              "      <td>2013-08-10 16:30:00</td>\n",
              "      <td>6061.0</td>\n",
              "      <td>74.0</td>\n",
              "      <td>73.0</td>\n",
              "      <td>68.0</td>\n",
              "      <td>67.0</td>\n",
              "      <td>67.0</td>\n",
              "      <td>85.0</td>\n",
              "      <td>83.0</td>\n",
              "      <td>77.0</td>\n",
              "      <td>77.0</td>\n",
              "      <td>78.0</td>\n",
              "      <td>45.0</td>\n",
              "      <td>44.0</td>\n",
              "      <td>45.0</td>\n",
              "      <td>41.0</td>\n",
              "      <td>40.0</td>\n",
              "      <td>44.625</td>\n",
              "      <td>42.750</td>\n",
              "      <td>53.125</td>\n",
              "      <td>56.250</td>\n",
              "      <td>53.000</td>\n",
              "      <td>True</td>\n",
              "    </tr>\n",
              "    <tr>\n",
              "      <th>4</th>\n",
              "      <td>22992.0</td>\n",
              "      <td>Fresno</td>\n",
              "      <td>37.279000</td>\n",
              "      <td>-119.318000</td>\n",
              "      <td>2013-07-22 22:15:00</td>\n",
              "      <td>6019.0</td>\n",
              "      <td>68.0</td>\n",
              "      <td>71.0</td>\n",
              "      <td>74.0</td>\n",
              "      <td>75.0</td>\n",
              "      <td>74.0</td>\n",
              "      <td>76.0</td>\n",
              "      <td>80.0</td>\n",
              "      <td>82.0</td>\n",
              "      <td>84.0</td>\n",
              "      <td>82.0</td>\n",
              "      <td>46.0</td>\n",
              "      <td>52.0</td>\n",
              "      <td>55.0</td>\n",
              "      <td>57.0</td>\n",
              "      <td>54.0</td>\n",
              "      <td>29.375</td>\n",
              "      <td>28.125</td>\n",
              "      <td>27.250</td>\n",
              "      <td>25.000</td>\n",
              "      <td>34.000</td>\n",
              "      <td>True</td>\n",
              "    </tr>\n",
              "    <tr>\n",
              "      <th>...</th>\n",
              "      <td>...</td>\n",
              "      <td>...</td>\n",
              "      <td>...</td>\n",
              "      <td>...</td>\n",
              "      <td>...</td>\n",
              "      <td>...</td>\n",
              "      <td>...</td>\n",
              "      <td>...</td>\n",
              "      <td>...</td>\n",
              "      <td>...</td>\n",
              "      <td>...</td>\n",
              "      <td>...</td>\n",
              "      <td>...</td>\n",
              "      <td>...</td>\n",
              "      <td>...</td>\n",
              "      <td>...</td>\n",
              "      <td>...</td>\n",
              "      <td>...</td>\n",
              "      <td>...</td>\n",
              "      <td>...</td>\n",
              "      <td>...</td>\n",
              "      <td>...</td>\n",
              "      <td>...</td>\n",
              "      <td>...</td>\n",
              "      <td>...</td>\n",
              "      <td>...</td>\n",
              "      <td>...</td>\n",
              "    </tr>\n",
              "    <tr>\n",
              "      <th>2941</th>\n",
              "      <td>0.0</td>\n",
              "      <td>Riverside</td>\n",
              "      <td>33.827979</td>\n",
              "      <td>-117.499619</td>\n",
              "      <td>2018-10-10 12:08:00</td>\n",
              "      <td>6065.0</td>\n",
              "      <td>70.0</td>\n",
              "      <td>69.0</td>\n",
              "      <td>77.0</td>\n",
              "      <td>65.0</td>\n",
              "      <td>71.0</td>\n",
              "      <td>74.0</td>\n",
              "      <td>74.0</td>\n",
              "      <td>85.0</td>\n",
              "      <td>67.0</td>\n",
              "      <td>78.0</td>\n",
              "      <td>63.0</td>\n",
              "      <td>63.0</td>\n",
              "      <td>69.0</td>\n",
              "      <td>64.0</td>\n",
              "      <td>64.0</td>\n",
              "      <td>59.500</td>\n",
              "      <td>56.375</td>\n",
              "      <td>48.625</td>\n",
              "      <td>73.750</td>\n",
              "      <td>64.875</td>\n",
              "      <td>False</td>\n",
              "    </tr>\n",
              "    <tr>\n",
              "      <th>2942</th>\n",
              "      <td>0.0</td>\n",
              "      <td>Nevada</td>\n",
              "      <td>39.409722</td>\n",
              "      <td>-121.000556</td>\n",
              "      <td>2018-06-28 15:03:04</td>\n",
              "      <td>6057.0</td>\n",
              "      <td>73.0</td>\n",
              "      <td>79.0</td>\n",
              "      <td>87.0</td>\n",
              "      <td>86.0</td>\n",
              "      <td>84.0</td>\n",
              "      <td>79.0</td>\n",
              "      <td>86.0</td>\n",
              "      <td>96.0</td>\n",
              "      <td>93.0</td>\n",
              "      <td>90.0</td>\n",
              "      <td>57.0</td>\n",
              "      <td>58.0</td>\n",
              "      <td>67.0</td>\n",
              "      <td>69.0</td>\n",
              "      <td>66.0</td>\n",
              "      <td>39.250</td>\n",
              "      <td>37.875</td>\n",
              "      <td>27.250</td>\n",
              "      <td>27.375</td>\n",
              "      <td>33.500</td>\n",
              "      <td>False</td>\n",
              "    </tr>\n",
              "    <tr>\n",
              "      <th>2943</th>\n",
              "      <td>0.0</td>\n",
              "      <td>Yolo</td>\n",
              "      <td>38.734634</td>\n",
              "      <td>-121.729691</td>\n",
              "      <td>2018-11-25 12:02:02</td>\n",
              "      <td>6113.0</td>\n",
              "      <td>58.0</td>\n",
              "      <td>58.0</td>\n",
              "      <td>55.0</td>\n",
              "      <td>59.0</td>\n",
              "      <td>55.0</td>\n",
              "      <td>64.0</td>\n",
              "      <td>64.0</td>\n",
              "      <td>57.0</td>\n",
              "      <td>63.0</td>\n",
              "      <td>57.0</td>\n",
              "      <td>50.0</td>\n",
              "      <td>50.0</td>\n",
              "      <td>51.0</td>\n",
              "      <td>53.0</td>\n",
              "      <td>51.0</td>\n",
              "      <td>64.250</td>\n",
              "      <td>63.625</td>\n",
              "      <td>86.000</td>\n",
              "      <td>83.875</td>\n",
              "      <td>82.875</td>\n",
              "      <td>False</td>\n",
              "    </tr>\n",
              "    <tr>\n",
              "      <th>2944</th>\n",
              "      <td>0.0</td>\n",
              "      <td>San Diego</td>\n",
              "      <td>33.351145</td>\n",
              "      <td>-117.403719</td>\n",
              "      <td>2018-10-22 19:20:44</td>\n",
              "      <td>6073.0</td>\n",
              "      <td>67.0</td>\n",
              "      <td>68.0</td>\n",
              "      <td>71.0</td>\n",
              "      <td>71.0</td>\n",
              "      <td>77.0</td>\n",
              "      <td>72.0</td>\n",
              "      <td>73.0</td>\n",
              "      <td>75.0</td>\n",
              "      <td>76.0</td>\n",
              "      <td>82.0</td>\n",
              "      <td>60.0</td>\n",
              "      <td>60.0</td>\n",
              "      <td>58.0</td>\n",
              "      <td>62.0</td>\n",
              "      <td>65.0</td>\n",
              "      <td>76.625</td>\n",
              "      <td>79.125</td>\n",
              "      <td>79.000</td>\n",
              "      <td>74.500</td>\n",
              "      <td>58.750</td>\n",
              "      <td>False</td>\n",
              "    </tr>\n",
              "    <tr>\n",
              "      <th>2945</th>\n",
              "      <td>0.0</td>\n",
              "      <td>Riverside</td>\n",
              "      <td>33.451480</td>\n",
              "      <td>-116.058980</td>\n",
              "      <td>2018-10-14 15:32:20</td>\n",
              "      <td>6065.0</td>\n",
              "      <td>73.0</td>\n",
              "      <td>65.0</td>\n",
              "      <td>65.0</td>\n",
              "      <td>68.0</td>\n",
              "      <td>70.0</td>\n",
              "      <td>79.0</td>\n",
              "      <td>72.0</td>\n",
              "      <td>75.0</td>\n",
              "      <td>76.0</td>\n",
              "      <td>80.0</td>\n",
              "      <td>57.0</td>\n",
              "      <td>50.0</td>\n",
              "      <td>48.0</td>\n",
              "      <td>49.0</td>\n",
              "      <td>49.0</td>\n",
              "      <td>49.375</td>\n",
              "      <td>17.875</td>\n",
              "      <td>18.125</td>\n",
              "      <td>31.125</td>\n",
              "      <td>31.000</td>\n",
              "      <td>False</td>\n",
              "    </tr>\n",
              "  </tbody>\n",
              "</table>\n",
              "<p>2946 rows × 27 columns</p>\n",
              "</div>"
            ],
            "text/plain": [
              "      AcresBurned     Counties  ...  Humidity Day Five   Fire\n",
              "0        257314.0     Tuolumne  ...             33.000   True\n",
              "1         30274.0  Los Angeles  ...             39.625   True\n",
              "2         27531.0    Riverside  ...             27.000   True\n",
              "3         27440.0       Placer  ...             53.000   True\n",
              "4         22992.0       Fresno  ...             34.000   True\n",
              "...           ...          ...  ...                ...    ...\n",
              "2941          0.0    Riverside  ...             64.875  False\n",
              "2942          0.0       Nevada  ...             33.500  False\n",
              "2943          0.0         Yolo  ...             82.875  False\n",
              "2944          0.0    San Diego  ...             58.750  False\n",
              "2945          0.0    Riverside  ...             31.000  False\n",
              "\n",
              "[2946 rows x 27 columns]"
            ]
          },
          "metadata": {},
          "execution_count": 3
        }
      ]
    },
    {
      "cell_type": "code",
      "metadata": {
        "id": "O91q6-3NksWo"
      },
      "source": [
        "data = data.replace({\n",
        "    'Fire' : {\n",
        "        True : 1,\n",
        "        False : 0\n",
        "    }\n",
        "})"
      ],
      "execution_count": 4,
      "outputs": []
    },
    {
      "cell_type": "code",
      "metadata": {
        "id": "ZgvoKOaHj6iD",
        "colab": {
          "base_uri": "https://localhost:8080/"
        },
        "outputId": "70c04973-bcb9-4e06-dd8b-fe5dfeeaf55b"
      },
      "source": [
        "all_features = list(data.columns)[6:21] + list(data.columns)[21:-1]\n",
        "target = ['Fire']\n",
        "all_features\n"
      ],
      "execution_count": 5,
      "outputs": [
        {
          "output_type": "execute_result",
          "data": {
            "text/plain": [
              "['Temp Day One',\n",
              " 'Temp Day Two',\n",
              " 'Temp Day Three',\n",
              " 'Temp Day Four',\n",
              " 'Temp Day Five',\n",
              " 'MaxTemp Day One',\n",
              " 'MaxTemp Day Two',\n",
              " 'MaxTemp Day Three',\n",
              " 'MaxTemp Day Four',\n",
              " 'MaxTemp Day Five',\n",
              " 'MinTemp Day One',\n",
              " 'MinTemp Day Two',\n",
              " 'MinTemp Day Three',\n",
              " 'MinTemp Day Four',\n",
              " 'MinTemp Day Five',\n",
              " 'Humidity Day One',\n",
              " 'Humidity Day Two',\n",
              " 'Humidity Day Three',\n",
              " 'Humidity Day Four',\n",
              " 'Humidity Day Five']"
            ]
          },
          "metadata": {},
          "execution_count": 5
        }
      ]
    },
    {
      "cell_type": "code",
      "metadata": {
        "id": "4qteaKNCKo54"
      },
      "source": [
        ""
      ],
      "execution_count": 5,
      "outputs": []
    },
    {
      "cell_type": "markdown",
      "metadata": {
        "id": "xKtcM6hAmoHs"
      },
      "source": [
        "#**Model Training**\n",
        "\n"
      ]
    },
    {
      "cell_type": "markdown",
      "metadata": {
        "id": "fhr50pb-K3E6"
      },
      "source": [
        "### Base approach"
      ]
    },
    {
      "cell_type": "code",
      "metadata": {
        "id": "-oocBbZkqopU"
      },
      "source": [
        "class ModelsClass:\n",
        "  def __init__(self, X, y):\n",
        "    self.X = data[X].values\n",
        "    self.y = data[y].values\n",
        "    print(X)\n",
        "\n",
        "  def logisticReg(self):\n",
        "    X_train, X_test, y_train, y_test = train_test_split(self.X, self.y, test_size=0.33)\n",
        "\n",
        "    logreg = LogisticRegression(random_state=20191016, solver='lbfgs', max_iter= 1000)\n",
        "\n",
        "    logreg.fit(X_train, y_train.ravel())\n",
        "    self.score(X_test, y_test, logreg)\n",
        "\n",
        "  def logisticRegNormal(self):\n",
        "    scaler = StandardScaler()\n",
        "    scaled_train_features = scaler.fit_transform(self.X)\n",
        "\n",
        "    X_train, X_test, y_train, y_test = train_test_split(scaled_train_features, self.y, test_size=0.33)\n",
        "\n",
        "    logreg = LogisticRegression(random_state=20191016, solver='lbfgs', max_iter= 1000)\n",
        "\n",
        "    logreg.fit(X_train, y_train.ravel())\n",
        "    self.score(X_test, y_test, logreg)\n",
        "  \n",
        "  def RandomForest(self):\n",
        "    X_train, X_test, y_train, y_test = train_test_split(self.X, self.y, test_size=0.33)\n",
        "\n",
        "    random = RandomForestClassifier()\n",
        "\n",
        "    random.fit(X_train, y_train.ravel())\n",
        "    self.score(X_test, y_test, random)\n",
        "\n",
        "  def svc(self):\n",
        "    X_train, X_test, y_train, y_test = train_test_split(self.X, self.y, test_size=0.33)\n",
        "\n",
        "    svc = SVC()\n",
        "\n",
        "    svc.fit(X_train, y_train.ravel())\n",
        "    self.score(X_test, y_test, svc)\n",
        "\n",
        "  def score(self, a, b, model):\n",
        "    j = 0.000\n",
        "    for i in range(50):\n",
        "      j += model.score(a, b)\n",
        "    j = j / 50\n",
        "    print(\"The average score after running 50 times is : {avg:.2f}%\".format(avg = (j * 100)))"
      ],
      "execution_count": 6,
      "outputs": []
    },
    {
      "cell_type": "code",
      "metadata": {
        "id": "-u40G2t4qv_7",
        "colab": {
          "base_uri": "https://localhost:8080/"
        },
        "outputId": "0fb14c33-e835-477c-e4ef-0ab3ab89625d"
      },
      "source": [
        "a = ModelsClass(all_features, target)"
      ],
      "execution_count": 7,
      "outputs": [
        {
          "output_type": "stream",
          "name": "stdout",
          "text": [
            "['Temp Day One', 'Temp Day Two', 'Temp Day Three', 'Temp Day Four', 'Temp Day Five', 'MaxTemp Day One', 'MaxTemp Day Two', 'MaxTemp Day Three', 'MaxTemp Day Four', 'MaxTemp Day Five', 'MinTemp Day One', 'MinTemp Day Two', 'MinTemp Day Three', 'MinTemp Day Four', 'MinTemp Day Five', 'Humidity Day One', 'Humidity Day Two', 'Humidity Day Three', 'Humidity Day Four', 'Humidity Day Five']\n"
          ]
        }
      ]
    },
    {
      "cell_type": "code",
      "metadata": {
        "colab": {
          "base_uri": "https://localhost:8080/"
        },
        "id": "J99aQrOT2yPR",
        "outputId": "cbbce210-e46a-434e-f63e-051686ad2b45"
      },
      "source": [
        "a.logisticReg()"
      ],
      "execution_count": 8,
      "outputs": [
        {
          "output_type": "stream",
          "name": "stdout",
          "text": [
            "The average score after running 50 times is : 56.73%\n"
          ]
        }
      ]
    },
    {
      "cell_type": "markdown",
      "metadata": {
        "id": "TH644SUVtCD3"
      },
      "source": [
        "*Let's try normalizing the data and see if the accuracy changes.*"
      ]
    },
    {
      "cell_type": "code",
      "metadata": {
        "colab": {
          "base_uri": "https://localhost:8080/"
        },
        "id": "RgtYHgQpzICi",
        "outputId": "ac529e99-0867-4885-fd03-5f4cbefe0c7e"
      },
      "source": [
        "a.logisticRegNormal()"
      ],
      "execution_count": 9,
      "outputs": [
        {
          "output_type": "stream",
          "name": "stdout",
          "text": [
            "The average score after running 50 times is : 57.45%\n"
          ]
        }
      ]
    },
    {
      "cell_type": "markdown",
      "metadata": {
        "id": "MgOSnnyv3DiJ"
      },
      "source": [
        "**The accuracy seems to be the same. So let's maybe try a different model and see the result**"
      ]
    },
    {
      "cell_type": "markdown",
      "metadata": {
        "id": "QZZH_DdWeC8a"
      },
      "source": [
        "*Random Forest Classifier*"
      ]
    },
    {
      "cell_type": "code",
      "metadata": {
        "id": "xegnXHbd3BjL",
        "colab": {
          "base_uri": "https://localhost:8080/"
        },
        "outputId": "04ff8e72-882a-410e-9c96-50653d7464d5"
      },
      "source": [
        "a.RandomForest()"
      ],
      "execution_count": 10,
      "outputs": [
        {
          "output_type": "stream",
          "name": "stdout",
          "text": [
            "The average score after running 50 times is : 55.70%\n"
          ]
        }
      ]
    },
    {
      "cell_type": "markdown",
      "metadata": {
        "id": "l5RObXTJeHFh"
      },
      "source": [
        "*Support Vector Classifier*"
      ]
    },
    {
      "cell_type": "code",
      "metadata": {
        "colab": {
          "base_uri": "https://localhost:8080/"
        },
        "id": "Bme3wzNudH5i",
        "outputId": "40b5178d-6fe9-4bb2-82a8-45f63aa95b4f"
      },
      "source": [
        "a.svc()"
      ],
      "execution_count": 11,
      "outputs": [
        {
          "output_type": "stream",
          "name": "stdout",
          "text": [
            "The average score after running 50 times is : 58.27%\n"
          ]
        }
      ]
    },
    {
      "cell_type": "markdown",
      "metadata": {
        "id": "phlRg_9cdxz8"
      },
      "source": [
        "**The accuracy did not change even when we tried different models. This means that we need to modify our features.** \\\\\n",
        "*Note that if we increase the training dataset size the accuracy of models like the SVC does increase*"
      ]
    },
    {
      "cell_type": "markdown",
      "metadata": {
        "id": "4u-6M8FEfkSB"
      },
      "source": [
        "## Approach #1"
      ]
    },
    {
      "cell_type": "markdown",
      "metadata": {
        "id": "bXfnZje2fqa2"
      },
      "source": [
        "*Instead of using all the value of the features let us look at the averages.*"
      ]
    },
    {
      "cell_type": "code",
      "metadata": {
        "id": "iPfHeSIOgX28"
      },
      "source": [
        "data['tmp avg'] = (data[\"Temp Day One\"] + data['Temp Day Two'] + data['Temp Day Three'] + data['Temp Day Four'] \n",
        "                   + data['Temp Day Five'])/5\n",
        "\n",
        "data['tmpMax avg'] = (data[\"MaxTemp Day One\"] + data['MaxTemp Day Two'] + data['MaxTemp Day Three'] + data['MaxTemp Day Four'] \n",
        "                   + data['MaxTemp Day Five'])/5\n",
        "\n",
        "data['tmpMin avg'] = (data[\"MinTemp Day One\"] + data['MinTemp Day Two'] + data['MinTemp Day Three'] + data['MinTemp Day Four'] \n",
        "                   + data['MinTemp Day Five'])/5\n"
      ],
      "execution_count": 12,
      "outputs": []
    },
    {
      "cell_type": "code",
      "metadata": {
        "id": "NLvxgv1pdt06"
      },
      "source": [
        "data['hum avg'] = (data[\"Humidity Day One\"] + data['Humidity Day Two'] + data['Humidity Day Three'] + data['Humidity Day Four'] + data['Humidity Day Five'])/5"
      ],
      "execution_count": 13,
      "outputs": []
    },
    {
      "cell_type": "code",
      "metadata": {
        "id": "fGAa3J6NhULQ"
      },
      "source": [
        "all_features = list(data.columns)[27:]"
      ],
      "execution_count": 14,
      "outputs": []
    },
    {
      "cell_type": "code",
      "metadata": {
        "colab": {
          "base_uri": "https://localhost:8080/"
        },
        "id": "Ev0_g3j9hUHv",
        "outputId": "01ee6230-845f-42e4-b890-513f65fb027c"
      },
      "source": [
        "b = ModelsClass(all_features, target)"
      ],
      "execution_count": 15,
      "outputs": [
        {
          "output_type": "stream",
          "name": "stdout",
          "text": [
            "['tmp avg', 'tmpMax avg', 'tmpMin avg', 'hum avg']\n"
          ]
        }
      ]
    },
    {
      "cell_type": "code",
      "metadata": {
        "colab": {
          "base_uri": "https://localhost:8080/"
        },
        "id": "L6xRGFzIhUEW",
        "outputId": "db201989-d1f9-4a10-9d28-6161504a3d1c"
      },
      "source": [
        "b.logisticReg()"
      ],
      "execution_count": 16,
      "outputs": [
        {
          "output_type": "stream",
          "name": "stdout",
          "text": [
            "The average score after running 50 times is : 52.42%\n"
          ]
        }
      ]
    },
    {
      "cell_type": "code",
      "metadata": {
        "colab": {
          "base_uri": "https://localhost:8080/"
        },
        "id": "Q2cR1X_biR-B",
        "outputId": "0d239131-6f1b-4cdd-84cc-5252dbb564df"
      },
      "source": [
        "b.logisticRegNormal()"
      ],
      "execution_count": 17,
      "outputs": [
        {
          "output_type": "stream",
          "name": "stdout",
          "text": [
            "The average score after running 50 times is : 54.27%\n"
          ]
        }
      ]
    },
    {
      "cell_type": "code",
      "metadata": {
        "colab": {
          "base_uri": "https://localhost:8080/"
        },
        "id": "WMidN2VPiTDa",
        "outputId": "ee549d73-6e7f-431c-f884-e2b774b44f97"
      },
      "source": [
        "b.RandomForest()"
      ],
      "execution_count": 18,
      "outputs": [
        {
          "output_type": "stream",
          "name": "stdout",
          "text": [
            "The average score after running 50 times is : 53.24%\n"
          ]
        }
      ]
    },
    {
      "cell_type": "code",
      "metadata": {
        "colab": {
          "base_uri": "https://localhost:8080/"
        },
        "id": "6WiDHv0viVW6",
        "outputId": "3c3c6a28-2e12-44c0-91fe-4e5700131bed"
      },
      "source": [
        "b.svc()"
      ],
      "execution_count": 19,
      "outputs": [
        {
          "output_type": "stream",
          "name": "stdout",
          "text": [
            "The average score after running 50 times is : 52.52%\n"
          ]
        }
      ]
    },
    {
      "cell_type": "markdown",
      "metadata": {
        "id": "fVVyxPPNiQai"
      },
      "source": [
        "*Using the averages does not change anything*"
      ]
    },
    {
      "cell_type": "markdown",
      "metadata": {
        "id": "1oalyQrau7Qu"
      },
      "source": [
        "#**Another Model**\n",
        "\n"
      ]
    },
    {
      "cell_type": "markdown",
      "metadata": {
        "id": "kQg2OZdpvJIV"
      },
      "source": [
        "First we will check if our dataset is ready to process without any missing values.If there is missing values we will take care of that for the accuracy of our model."
      ]
    },
    {
      "cell_type": "code",
      "metadata": {
        "id": "yBM4XCsQhT6R",
        "colab": {
          "base_uri": "https://localhost:8080/"
        },
        "outputId": "e2cfaeaa-ef00-41c7-b557-ae4c61f29511"
      },
      "source": [
        "data.isna().sum()"
      ],
      "execution_count": 20,
      "outputs": [
        {
          "output_type": "execute_result",
          "data": {
            "text/plain": [
              "AcresBurned           618\n",
              "Counties                0\n",
              "Latitude                0\n",
              "Longitude               0\n",
              "Started                 0\n",
              "FIPS                    8\n",
              "Temp Day One            0\n",
              "Temp Day Two            0\n",
              "Temp Day Three          0\n",
              "Temp Day Four           0\n",
              "Temp Day Five           0\n",
              "MaxTemp Day One         0\n",
              "MaxTemp Day Two         0\n",
              "MaxTemp Day Three       0\n",
              "MaxTemp Day Four        0\n",
              "MaxTemp Day Five        0\n",
              "MinTemp Day One         0\n",
              "MinTemp Day Two         0\n",
              "MinTemp Day Three       0\n",
              "MinTemp Day Four        0\n",
              "MinTemp Day Five        0\n",
              "Humidity Day One        0\n",
              "Humidity Day Two        0\n",
              "Humidity Day Three      0\n",
              "Humidity Day Four       0\n",
              "Humidity Day Five       0\n",
              "Fire                    0\n",
              "tmp avg                 0\n",
              "tmpMax avg              0\n",
              "tmpMin avg              0\n",
              "hum avg                 0\n",
              "dtype: int64"
            ]
          },
          "metadata": {},
          "execution_count": 20
        }
      ]
    },
    {
      "cell_type": "markdown",
      "metadata": {
        "id": "cp9mQssP-Lat"
      },
      "source": [
        "We need to fill the missing 618 values of \"Acresburned\" in order to drive maximum accuracy of our model. We will track if the value is missing with T/F. So after \n",
        "filling the column we should see AcresBurned with comments \"is_missing\" as False which means there is no missing."
      ]
    },
    {
      "cell_type": "code",
      "metadata": {
        "id": "PbUmVJDwBsLp"
      },
      "source": [
        "# Fill numeric rows with the median\n",
        "for label, content in data.items():\n",
        "    if pd.api.types.is_numeric_dtype(content):\n",
        "        if pd.isnull(content).sum():\n",
        "            # Add a binary column which tells if the data was missing our not\n",
        "            data[label+\"_is_missing\"] = pd.isnull(content)\n",
        "            # Fill missing numeric values with median since it's more robust than the mean\n",
        "            data[label] = content.fillna(content.median())"
      ],
      "execution_count": 21,
      "outputs": []
    },
    {
      "cell_type": "code",
      "metadata": {
        "id": "9V_PUiPKrGUY"
      },
      "source": [
        "# Check if there's any null values\n",
        "for label, content in data.items():\n",
        "    if pd.api.types.is_numeric_dtype(content):\n",
        "        if pd.isnull(content).sum():\n",
        "            print(label)\n"
      ],
      "execution_count": 22,
      "outputs": []
    },
    {
      "cell_type": "code",
      "metadata": {
        "colab": {
          "base_uri": "https://localhost:8080/"
        },
        "id": "GJGbtFAJ7SUe",
        "outputId": "35ae08c4-f45b-4bd4-f93c-8605674ff4f8"
      },
      "source": [
        "# Check columns which aren't numeric\n",
        "for label, content in data.items():\n",
        "    if not pd.api.types.is_numeric_dtype(content):\n",
        "        print(label)"
      ],
      "execution_count": 23,
      "outputs": [
        {
          "output_type": "stream",
          "name": "stdout",
          "text": [
            "Counties\n",
            "Started\n"
          ]
        }
      ]
    },
    {
      "cell_type": "code",
      "metadata": {
        "id": "z9iDxRLS7bOq"
      },
      "source": [
        "# Turn \"Countries\" & \"Started\" into numbers\n",
        "for label, content in data.items():\n",
        "    # Check columns which *aren't* numeric\n",
        "    if not pd.api.types.is_numeric_dtype(content):\n",
        "        # Add binary column to inidicate whether sample had missing value\n",
        "        data[label+\"_is_missing\"] = pd.isnull(content)\n",
        "        # We add the +1 because pandas encodes missing categories as -1\n",
        "        data[label] = pd.Categorical(content).codes+1 "
      ],
      "execution_count": 24,
      "outputs": []
    },
    {
      "cell_type": "code",
      "metadata": {
        "id": "-kt4PKhArGm2",
        "colab": {
          "base_uri": "https://localhost:8080/"
        },
        "outputId": "1fdb8b0f-4b80-4d51-b0bf-dbb8592f6bc6"
      },
      "source": [
        "data.isna().sum()"
      ],
      "execution_count": 25,
      "outputs": [
        {
          "output_type": "execute_result",
          "data": {
            "text/plain": [
              "AcresBurned               0\n",
              "Counties                  0\n",
              "Latitude                  0\n",
              "Longitude                 0\n",
              "Started                   0\n",
              "FIPS                      0\n",
              "Temp Day One              0\n",
              "Temp Day Two              0\n",
              "Temp Day Three            0\n",
              "Temp Day Four             0\n",
              "Temp Day Five             0\n",
              "MaxTemp Day One           0\n",
              "MaxTemp Day Two           0\n",
              "MaxTemp Day Three         0\n",
              "MaxTemp Day Four          0\n",
              "MaxTemp Day Five          0\n",
              "MinTemp Day One           0\n",
              "MinTemp Day Two           0\n",
              "MinTemp Day Three         0\n",
              "MinTemp Day Four          0\n",
              "MinTemp Day Five          0\n",
              "Humidity Day One          0\n",
              "Humidity Day Two          0\n",
              "Humidity Day Three        0\n",
              "Humidity Day Four         0\n",
              "Humidity Day Five         0\n",
              "Fire                      0\n",
              "tmp avg                   0\n",
              "tmpMax avg                0\n",
              "tmpMin avg                0\n",
              "hum avg                   0\n",
              "AcresBurned_is_missing    0\n",
              "FIPS_is_missing           0\n",
              "Counties_is_missing       0\n",
              "Started_is_missing        0\n",
              "dtype: int64"
            ]
          },
          "metadata": {},
          "execution_count": 25
        }
      ]
    },
    {
      "cell_type": "markdown",
      "metadata": {
        "id": "WjZts6KMv5Rz"
      },
      "source": [
        "***Now all of our data is numeric and there are no missing values, we should be able to build a machine learning model!***"
      ]
    },
    {
      "cell_type": "code",
      "metadata": {
        "colab": {
          "base_uri": "https://localhost:8080/"
        },
        "id": "NK3ucLVxzsXN",
        "outputId": "6e5d6e42-d1ad-49f9-fec9-1b0e545bf4b2"
      },
      "source": [
        "len(data)"
      ],
      "execution_count": 26,
      "outputs": [
        {
          "output_type": "execute_result",
          "data": {
            "text/plain": [
              "2946"
            ]
          },
          "metadata": {},
          "execution_count": 26
        }
      ]
    },
    {
      "cell_type": "markdown",
      "metadata": {
        "id": "BJaGQ8zszvDr"
      },
      "source": [
        "### Lets try to use a linear regression model to predict the number of Acres Burned if a wildfire where to occur"
      ]
    },
    {
      "cell_type": "code",
      "metadata": {
        "id": "SdKEoBN9rG44",
        "colab": {
          "base_uri": "https://localhost:8080/"
        },
        "outputId": "224f3aaf-6194-42e0-af2a-b5a372e72a31"
      },
      "source": [
        "#How many acres per county are burnt by Wildfires?\n",
        "%%time\n",
        "# Instantiate model\n",
        "model = RandomForestRegressor(n_jobs=-1,random_state=42)\n",
        "\n",
        "# Fit the model\n",
        "model.fit(data.drop([\"AcresBurned\",\"Counties\",\"Latitude\",\"Longitude\",\"Started\",\"FIPS\",\"Fire\"], axis=1), data.AcresBurned)"
      ],
      "execution_count": 27,
      "outputs": [
        {
          "output_type": "stream",
          "name": "stdout",
          "text": [
            "CPU times: user 6.03 s, sys: 48.4 ms, total: 6.08 s\n",
            "Wall time: 3.26 s\n"
          ]
        }
      ]
    },
    {
      "cell_type": "markdown",
      "metadata": {
        "id": "878EX5VP0RFK"
      },
      "source": [
        "We have almost 2946 values so we will track how much time it will take a forestregression model. We will instantiate a random forest model with random state 42. It takes about 6.00s+ to go through the model which took fairly less time considering the data cleaning that we have done in out dataset.In the regression model, the default score value is upto R^2 which is 1 .  When we scored the model it came 0.905...+\n"
      ]
    },
    {
      "cell_type": "code",
      "metadata": {
        "colab": {
          "base_uri": "https://localhost:8080/"
        },
        "id": "43B0TbThwy8R",
        "outputId": "8dd255f5-e6e1-49f8-f6db-3b5919e1b00f"
      },
      "source": [
        "# Score the model\n",
        "model.score(data.drop([\"AcresBurned\",\"Counties\",\"Latitude\",\"Longitude\",\"Started\",\"FIPS\",\"Fire\"], axis=1), data.AcresBurned)"
      ],
      "execution_count": 28,
      "outputs": [
        {
          "output_type": "execute_result",
          "data": {
            "text/plain": [
              "0.9192605577466735"
            ]
          },
          "metadata": {},
          "execution_count": 28
        }
      ]
    },
    {
      "cell_type": "markdown",
      "metadata": {
        "id": "jF8BI5hMUDol"
      },
      "source": [
        "Given **all_features** can we predict a **Fire**?"
      ]
    },
    {
      "cell_type": "code",
      "metadata": {
        "id": "P0m6BjQEy7hh"
      },
      "source": [
        "# lets make our training set (Split data into X and y)\n",
        "X = data.drop([\"AcresBurned\",\"Counties\",\"Latitude\",\"Longitude\",\"Started\",\"FIPS\",\"Fire\"], axis=1)\n",
        "\n",
        "y = data[\"Fire\"]"
      ],
      "execution_count": 29,
      "outputs": []
    },
    {
      "cell_type": "code",
      "metadata": {
        "id": "2SDWkjlm5p4p"
      },
      "source": [
        "# Split data into train and test sets\n",
        "np.random.seed(42)\n",
        "\n",
        "# Split into train & test set\n",
        "X_train, X_test, y_train, y_test = train_test_split(X,\n",
        "                                                    y,\n",
        "                                                    test_size=0.2)"
      ],
      "execution_count": 30,
      "outputs": []
    },
    {
      "cell_type": "code",
      "metadata": {
        "id": "EIvIgoQ16Aaw"
      },
      "source": [
        "# Put all our models in a dictionary\n",
        "models = {\"Logistic Regression\": LogisticRegression(),\n",
        "          \"KNN\": KNeighborsClassifier(),\n",
        "          \"Random Forest\": RandomForestClassifier()}\n",
        "\n",
        "def fit_and_score(models, X_train, X_test, y_train, y_test):\n",
        "    np.random.seed(42)\n",
        "    # Make a dictionary to keep model scores\n",
        "    model_scores = {}\n",
        "    # Loop through models\n",
        "    for name, model in models.items():\n",
        "        # Fit the model to the data\n",
        "        model.fit(X_train, y_train)\n",
        "        # Evaluate the model and append its score to model_scores\n",
        "        model_scores[name] = model.score(X_test, y_test)\n",
        "    return model_scores\n",
        "\n"
      ],
      "execution_count": 31,
      "outputs": []
    },
    {
      "cell_type": "code",
      "metadata": {
        "colab": {
          "base_uri": "https://localhost:8080/"
        },
        "id": "FEuiYtim6WJK",
        "outputId": "445cae9d-c396-421a-9eed-0f8e7e0e7a7d"
      },
      "source": [
        "model_scores = fit_and_score(models=models,\n",
        "                             X_train=X_train,\n",
        "                             X_test=X_test,\n",
        "                             y_train=y_train,\n",
        "                             y_test=y_test)\n",
        "\n",
        "model_scores"
      ],
      "execution_count": 32,
      "outputs": [
        {
          "output_type": "stream",
          "name": "stderr",
          "text": [
            "/usr/local/lib/python3.7/dist-packages/sklearn/linear_model/_logistic.py:818: ConvergenceWarning: lbfgs failed to converge (status=1):\n",
            "STOP: TOTAL NO. of ITERATIONS REACHED LIMIT.\n",
            "\n",
            "Increase the number of iterations (max_iter) or scale the data as shown in:\n",
            "    https://scikit-learn.org/stable/modules/preprocessing.html\n",
            "Please also refer to the documentation for alternative solver options:\n",
            "    https://scikit-learn.org/stable/modules/linear_model.html#logistic-regression\n",
            "  extra_warning_msg=_LOGISTIC_SOLVER_CONVERGENCE_MSG,\n"
          ]
        },
        {
          "output_type": "execute_result",
          "data": {
            "text/plain": [
              "{'KNN': 0.5644067796610169,\n",
              " 'Logistic Regression': 0.6711864406779661,\n",
              " 'Random Forest': 0.6983050847457627}"
            ]
          },
          "metadata": {},
          "execution_count": 32
        }
      ]
    },
    {
      "cell_type": "markdown",
      "metadata": {
        "id": "peasyEXX7Moy"
      },
      "source": [
        "Above we have got our data split into training and test sets, it's time to build a machine learning model to find the patterns on the training set and we will use the patterns on the test set.\n",
        "We have looked at three models \n",
        "\n",
        "\n",
        "*   Logistic Regression\n",
        "*   K-Nearest Neighbours Classifier\n",
        "*   Random Forest Classifier   \n",
        "\n",
        "Here is the result: \n",
        "1.   KNN: 0.5644067796610169\n",
        "2.   Logistic Regression: 0.6677966101694915\n",
        "3.   Random Forest': 0.7016949152542373\n",
        "\n",
        "\n",
        "---\n",
        "\n",
        "\n",
        "\n",
        "---\n",
        "\n",
        "Now we will try to otimize the KNN model which has approx **56%** accuracy.\n",
        "\n",
        "From the result we can see that the Random Forest Classifier has got the highest score **70%**.We can Create a visulaization to investigate the result.\n"
      ]
    },
    {
      "cell_type": "markdown",
      "metadata": {
        "id": "Ws0EC1GW6zdS"
      },
      "source": [
        "#**Model Comparison and Optimization**"
      ]
    },
    {
      "cell_type": "code",
      "metadata": {
        "colab": {
          "base_uri": "https://localhost:8080/",
          "height": 334
        },
        "id": "9TTl1WNP65e-",
        "outputId": "da457d9c-4d2a-41e5-bde0-757c2011020d"
      },
      "source": [
        "model_compare = pd.DataFrame(model_scores, index=[\"Model Accuracy\"])\n",
        "model_compare.plot.bar();\n"
      ],
      "execution_count": 33,
      "outputs": [
        {
          "output_type": "display_data",
          "data": {
            "image/png": "[encoded data removed]",
            "text/plain": [
              "<Figure size 432x288 with 1 Axes>"
            ]
          },
          "metadata": {
            "needs_background": "light"
          }
        }
      ]
    },
    {
      "cell_type": "markdown",
      "metadata": {
        "id": "6ze3_meK8O4j"
      },
      "source": [
        "### Now we've got a  model running. Let's look at tuning methods, We would want to better our KNN model which showed **70%+** accuracy."
      ]
    },
    {
      "cell_type": "code",
      "metadata": {
        "id": "bTAC59T666FN"
      },
      "source": [
        "train_scores = []\n",
        "test_scores = []\n",
        "\n",
        "# Create a list of differnt values for n_neighbors\n",
        "neighbors = range(1, 21)\n",
        "\n",
        "# Setup KNN instance\n",
        "knn = KNeighborsClassifier()\n",
        "\n",
        "# Loop through different n_neighbors\n",
        "for i in neighbors:\n",
        "    knn.set_params(n_neighbors=i)\n",
        "    knn.fit(X_train, y_train)\n",
        "    \n",
        "    # Update the training scores list\n",
        "    train_scores.append(knn.score(X_train, y_train))\n",
        "    \n",
        "    # Update the test scores list\n",
        "    test_scores.append(knn.score(X_test, y_test))"
      ],
      "execution_count": 34,
      "outputs": []
    },
    {
      "cell_type": "code",
      "metadata": {
        "colab": {
          "base_uri": "https://localhost:8080/"
        },
        "id": "VQ7tnTGG72Re",
        "outputId": "ca1ac445-752c-4c2f-818d-5b1fd2454176"
      },
      "source": [
        "train_scores"
      ],
      "execution_count": 35,
      "outputs": [
        {
          "output_type": "execute_result",
          "data": {
            "text/plain": [
              "[0.9991511035653651,\n",
              " 0.7780135823429541,\n",
              " 0.7729202037351444,\n",
              " 0.715195246179966,\n",
              " 0.7058573853989814,\n",
              " 0.683786078098472,\n",
              " 0.6880305602716469,\n",
              " 0.6706281833616299,\n",
              " 0.6752971137521222,\n",
              " 0.6604414261460102,\n",
              " 0.6642614601018676,\n",
              " 0.6502546689303905,\n",
              " 0.6464346349745331,\n",
              " 0.6443123938879457,\n",
              " 0.6519524617996605,\n",
              " 0.6383701188455009,\n",
              " 0.6421901528013583,\n",
              " 0.6320033955857386,\n",
              " 0.6383701188455009,\n",
              " 0.6307300509337861]"
            ]
          },
          "metadata": {},
          "execution_count": 35
        }
      ]
    },
    {
      "cell_type": "code",
      "metadata": {
        "colab": {
          "base_uri": "https://localhost:8080/"
        },
        "id": "WElrVjmV79T_",
        "outputId": "de3e1e25-355c-4128-c7db-67221c9bfb29"
      },
      "source": [
        "test_scores"
      ],
      "execution_count": 36,
      "outputs": [
        {
          "output_type": "execute_result",
          "data": {
            "text/plain": [
              "[0.5457627118644067,\n",
              " 0.5813559322033899,\n",
              " 0.5745762711864407,\n",
              " 0.5542372881355933,\n",
              " 0.5644067796610169,\n",
              " 0.5627118644067797,\n",
              " 0.5440677966101695,\n",
              " 0.5491525423728814,\n",
              " 0.5576271186440678,\n",
              " 0.5542372881355933,\n",
              " 0.5677966101694916,\n",
              " 0.5525423728813559,\n",
              " 0.5644067796610169,\n",
              " 0.5559322033898305,\n",
              " 0.5644067796610169,\n",
              " 0.5525423728813559,\n",
              " 0.5711864406779661,\n",
              " 0.5576271186440678,\n",
              " 0.5627118644067797,\n",
              " 0.5542372881355933]"
            ]
          },
          "metadata": {},
          "execution_count": 36
        }
      ]
    },
    {
      "cell_type": "code",
      "metadata": {
        "colab": {
          "base_uri": "https://localhost:8080/",
          "height": 297
        },
        "id": "HN1GglyE7_um",
        "outputId": "60d68bc0-d4fb-4d2f-f832-775146a1acf5"
      },
      "source": [
        "plt.plot(neighbors, train_scores, label=\"Train score\")\n",
        "plt.plot(neighbors, test_scores, label=\"Test score\")\n",
        "plt.xticks(np.arange(1, 21, 1))\n",
        "plt.xlabel(\"Number of neighbors\")\n",
        "plt.ylabel(\"Our Model score\")\n",
        "plt.legend()\n",
        "\n",
        "print(f\"The Maximum KNN score on our test data: {max(test_scores)*100:.2f}%\")"
      ],
      "execution_count": 37,
      "outputs": [
        {
          "output_type": "stream",
          "name": "stdout",
          "text": [
            "The Maximum KNN score on our test data: 58.14%\n"
          ]
        },
        {
          "output_type": "display_data",
          "data": {
            "image/png": "[encoded data removed]",
            "text/plain": [
              "<Figure size 432x288 with 1 Axes>"
            ]
          },
          "metadata": {
            "needs_background": "light"
          }
        }
      ]
    },
    {
      "cell_type": "markdown",
      "metadata": {
        "id": "JZd8NKALEm-L"
      },
      "source": [
        "If we pay attention to out test score which is in orange line, the highest value is about in 2(number of neighbors). The default is 5 [KNN_Neighbors_Classifier](https://scikit-learn.org/stable/modules/generated/sklearn.neighbors.KNeighborsClassifier.html). we just did some hyperparameter tuning to better our KNN\n",
        " and the result improved from **56%** to **58.14%**. "
      ]
    },
    {
      "cell_type": "markdown",
      "metadata": {
        "id": "45SIaX9_AjmF"
      },
      "source": [
        "We're going to tune:\n",
        "**LogisticRegression()** which got the second highest score. In order to acheive that we are going to get hyperparameter grids setup for our  scored model and tune it using [RandomizedSearchCV](https://www.programcreek.com/python/example/91146/sklearn.model_selection.RandomizedSearchCV) and [Tuning _LogisticRegression](https://scikit-learn.org/stable/modules/generated/sklearn.linear_model.LogisticRegression.html). There's few hyperparameter we can tune, And we chose C from the documentation. \n"
      ]
    },
    {
      "cell_type": "code",
      "metadata": {
        "id": "DTvj2BY4A6Lk",
        "colab": {
          "base_uri": "https://localhost:8080/"
        },
        "outputId": "2f68a158-9a7b-4ca8-b240-d1c586197cd5"
      },
      "source": [
        "# Create a hyperparameter grid for LogisticRegression\n",
        "log_reg_grid = {\"C\": np.logspace(-4, 4, 20),\n",
        "                \"solver\": [\"liblinear\"]}\n",
        "\n",
        "\n",
        " \n",
        "# Setup random hyperparameter search for LogisticRegression\n",
        "randomSearch_log_reg = RandomizedSearchCV(LogisticRegression(),\n",
        "                                param_distributions=log_reg_grid,\n",
        "                                cv=10,\n",
        "                                n_iter=20,\n",
        "                                verbose=True)\n",
        "\n",
        "# Fit random hyperparameter search model for LogisticRegression\n",
        "randomSearch_log_reg.fit(X_train, y_train)"
      ],
      "execution_count": 38,
      "outputs": [
        {
          "output_type": "stream",
          "name": "stdout",
          "text": [
            "Fitting 10 folds for each of 20 candidates, totalling 200 fits\n"
          ]
        },
        {
          "output_type": "execute_result",
          "data": {
            "text/plain": [
              "RandomizedSearchCV(cv=10, estimator=LogisticRegression(), n_iter=20,\n",
              "                   param_distributions={'C': array([1.00000000e-04, 2.63665090e-04, 6.95192796e-04, 1.83298071e-03,\n",
              "       4.83293024e-03, 1.27427499e-02, 3.35981829e-02, 8.85866790e-02,\n",
              "       2.33572147e-01, 6.15848211e-01, 1.62377674e+00, 4.28133240e+00,\n",
              "       1.12883789e+01, 2.97635144e+01, 7.84759970e+01, 2.06913808e+02,\n",
              "       5.45559478e+02, 1.43844989e+03, 3.79269019e+03, 1.00000000e+04]),\n",
              "                                        'solver': ['liblinear']},\n",
              "                   verbose=True)"
            ]
          },
          "metadata": {},
          "execution_count": 38
        }
      ]
    },
    {
      "cell_type": "code",
      "metadata": {
        "colab": {
          "base_uri": "https://localhost:8080/"
        },
        "id": "ywwATiWHBagt",
        "outputId": "74458b2e-35dd-4c4e-af57-622d4dcb71bf"
      },
      "source": [
        "# Find the best hyperparameters\n",
        "randomSearch_log_reg.best_params_"
      ],
      "execution_count": 39,
      "outputs": [
        {
          "output_type": "execute_result",
          "data": {
            "text/plain": [
              "{'C': 1.623776739188721, 'solver': 'liblinear'}"
            ]
          },
          "metadata": {},
          "execution_count": 39
        }
      ]
    },
    {
      "cell_type": "code",
      "metadata": {
        "colab": {
          "base_uri": "https://localhost:8080/"
        },
        "id": "g0K1jzvDTwTH",
        "outputId": "f2fda1ff-bbc3-46a8-f451-ae28a2097e5f"
      },
      "source": [
        "randomSearch_log_reg.score(X_test, y_test)"
      ],
      "execution_count": 40,
      "outputs": [
        {
          "output_type": "execute_result",
          "data": {
            "text/plain": [
              "0.711864406779661"
            ]
          },
          "metadata": {},
          "execution_count": 40
        }
      ]
    },
    {
      "cell_type": "markdown",
      "metadata": {
        "id": "yEEMgtQXo6XT"
      },
      "source": [
        "In the above step, We have applied our LogisticRegression model to the same data and evaluated its score. And We have got an improvement here. Our LogisticRegression model was **66%** before and after tuning it's increased to **71%**"
      ]
    },
    {
      "cell_type": "code",
      "metadata": {
        "colab": {
          "base_uri": "https://localhost:8080/"
        },
        "id": "_8YljClQpndh",
        "outputId": "ac66dc42-53ee-4011-bc9c-c8268e0c31e4"
      },
      "source": [
        ""
      ],
      "execution_count": 41,
      "outputs": [
        {
          "output_type": "execute_result",
          "data": {
            "text/plain": [
              "{'KNN': 0.5644067796610169,\n",
              " 'Logistic Regression': 0.6711864406779661,\n",
              " 'Random Forest': 0.6983050847457627}"
            ]
          },
          "metadata": {},
          "execution_count": 41
        }
      ]
    },
    {
      "cell_type": "markdown",
      "metadata": {
        "id": "DnyMdlO5p6tw"
      },
      "source": [
        "We are not impressed by the results of Our KNN model which stil has not shown much improvement.The function we used [RandomForestClassifier](https://scikit-learn.org/stable/modules/generated/sklearn.ensemble.RandomForestClassifier.html) and we are going to try hyperparameter tuning RandomizedSearchCV"
      ]
    },
    {
      "cell_type": "markdown",
      "metadata": {
        "id": "Lz1Wy_f9el3q"
      },
      "source": [
        ""
      ]
    },
    {
      "cell_type": "code",
      "metadata": {
        "colab": {
          "base_uri": "https://localhost:8080/"
        },
        "id": "HWV0fF3tAer5",
        "outputId": "168f7b7a-0353-438f-8a1a-bd62219e6efb"
      },
      "source": [
        "rf_grid = {\n",
        "    'bootstrap': [True],\n",
        "    'max_depth': [80, 90, 100, 110],\n",
        "    'max_features': [2, 3],\n",
        "    'min_samples_leaf': [3, 4, 5],\n",
        "    'min_samples_split': [8, 10, 12],\n",
        "    'n_estimators': [100, 200, 300, 1000]\n",
        "}\n",
        "print(rf_grid)"
      ],
      "execution_count": 42,
      "outputs": [
        {
          "output_type": "stream",
          "name": "stdout",
          "text": [
            "{'bootstrap': [True], 'max_depth': [80, 90, 100, 110], 'max_features': [2, 3], 'min_samples_leaf': [3, 4, 5], 'min_samples_split': [8, 10, 12], 'n_estimators': [100, 200, 300, 1000]}\n"
          ]
        }
      ]
    },
    {
      "cell_type": "code",
      "metadata": {
        "colab": {
          "base_uri": "https://localhost:8080/"
        },
        "id": "gA1sADZNfM3U",
        "outputId": "e4506623-29c5-49e2-d43b-6c4e94e5db62"
      },
      "source": [
        "rf = RandomForestClassifier()\n",
        "# Setup random seed\n",
        "np.random.seed(42)\n",
        "# Random search of parameters, using 3(CV) to search across 100 different combinations.\n",
        "rf_model = RandomizedSearchCV(estimator = rf, \n",
        "                              param_distributions = rf_grid, \n",
        "                              n_iter = 100, \n",
        "                              cv = 3, \n",
        "                              verbose=2, \n",
        "                              random_state=42, \n",
        "                              n_jobs = -1)\n",
        "# Fit the random search model\n",
        "rf_model.fit(X_train, y_train)"
      ],
      "execution_count": 43,
      "outputs": [
        {
          "output_type": "stream",
          "name": "stdout",
          "text": [
            "Fitting 3 folds for each of 100 candidates, totalling 300 fits\n"
          ]
        },
        {
          "output_type": "execute_result",
          "data": {
            "text/plain": [
              "RandomizedSearchCV(cv=3, estimator=RandomForestClassifier(), n_iter=100,\n",
              "                   n_jobs=-1,\n",
              "                   param_distributions={'bootstrap': [True],\n",
              "                                        'max_depth': [80, 90, 100, 110],\n",
              "                                        'max_features': [2, 3],\n",
              "                                        'min_samples_leaf': [3, 4, 5],\n",
              "                                        'min_samples_split': [8, 10, 12],\n",
              "                                        'n_estimators': [100, 200, 300, 1000]},\n",
              "                   random_state=42, verbose=2)"
            ]
          },
          "metadata": {},
          "execution_count": 43
        }
      ]
    },
    {
      "cell_type": "code",
      "metadata": {
        "colab": {
          "base_uri": "https://localhost:8080/"
        },
        "id": "_o5H8XLjqQFo",
        "outputId": "d622cc87-1d47-4e62-eb1b-8495429caa55"
      },
      "source": [
        "# Fit random hyperparameter \n",
        "rf_model.best_params_"
      ],
      "execution_count": 44,
      "outputs": [
        {
          "output_type": "execute_result",
          "data": {
            "text/plain": [
              "{'bootstrap': True,\n",
              " 'max_depth': 80,\n",
              " 'max_features': 3,\n",
              " 'min_samples_leaf': 3,\n",
              " 'min_samples_split': 8,\n",
              " 'n_estimators': 200}"
            ]
          },
          "metadata": {},
          "execution_count": 44
        }
      ]
    },
    {
      "cell_type": "code",
      "metadata": {
        "colab": {
          "base_uri": "https://localhost:8080/"
        },
        "id": "aVD4H4aXrsWo",
        "outputId": "12a2d6d1-cbf4-4755-d412-2e882a83f37d"
      },
      "source": [
        "# we will Evaluate the randomized search RandomForest model\n",
        "rf_model.score(X_test, y_test)"
      ],
      "execution_count": 100,
      "outputs": [
        {
          "output_type": "execute_result",
          "data": {
            "text/plain": [
              "0.6864406779661016"
            ]
          },
          "metadata": {},
          "execution_count": 100
        }
      ]
    },
    {
      "cell_type": "code",
      "metadata": {
        "colab": {
          "base_uri": "https://localhost:8080/"
        },
        "id": "tgXlkOicazHn",
        "outputId": "2015a5ca-2fa6-499e-d3f6-32e20cbd076b"
      },
      "source": [
        "# we will Evaluate best score of  the randomized search RandomForest model\n",
        "rf_model.best_score_"
      ],
      "execution_count": 103,
      "outputs": [
        {
          "output_type": "execute_result",
          "data": {
            "text/plain": [
              "0.7118042387211444"
            ]
          },
          "metadata": {},
          "execution_count": 103
        }
      ]
    },
    {
      "cell_type": "markdown",
      "metadata": {
        "id": "9YPuBU-6s-tL"
      },
      "source": [
        "### By just tuning the hyperparameters for RandomForest model we have seen a slight boost from **70%** to **71%**"
      ]
    },
    {
      "cell_type": "markdown",
      "metadata": {
        "id": "W4xz4xsNtcME"
      },
      "source": [
        "Let's try to do the same with **`LogisticRegression Model`**\n",
        "\n"
      ]
    },
    {
      "cell_type": "code",
      "metadata": {
        "colab": {
          "base_uri": "https://localhost:8080/"
        },
        "id": "N6CYt6GItmpR",
        "outputId": "a22b1f0e-2ca7-4dc0-acaf-498b1245ccc6"
      },
      "source": [
        "logistic_regress_grid = {\"C\": np.logspace(-4, 4, 20),\n",
        "                \"solver\": [\"liblinear\"]}\n",
        "# Setup random seed\n",
        "np.random.seed(42)\n",
        "\n",
        "# hyperparameter search for LogisticRegression\n",
        "rs_logistic_regress = RandomizedSearchCV(LogisticRegression(),\n",
        "                                param_distributions=logistic_regress_grid,\n",
        "                                cv=5,\n",
        "                                n_iter=20,\n",
        "                                verbose=True)\n",
        "\n",
        "# Fit random hyperparameter search model\n",
        "rs_logistic_regress.fit(X_train, y_train);"
      ],
      "execution_count": 46,
      "outputs": [
        {
          "output_type": "stream",
          "name": "stdout",
          "text": [
            "Fitting 5 folds for each of 20 candidates, totalling 100 fits\n"
          ]
        }
      ]
    },
    {
      "cell_type": "code",
      "metadata": {
        "colab": {
          "base_uri": "https://localhost:8080/"
        },
        "id": "-6pbC01stnp_",
        "outputId": "e37f3096-8748-430d-d6a8-5f9088c6d39e"
      },
      "source": [
        "rs_logistic_regress.best_params_"
      ],
      "execution_count": 47,
      "outputs": [
        {
          "output_type": "execute_result",
          "data": {
            "text/plain": [
              "{'C': 4.281332398719396, 'solver': 'liblinear'}"
            ]
          },
          "metadata": {},
          "execution_count": 47
        }
      ]
    },
    {
      "cell_type": "code",
      "metadata": {
        "colab": {
          "base_uri": "https://localhost:8080/"
        },
        "id": "BCgobwB6tnzi",
        "outputId": "cd64617f-05f5-4b2e-a423-d82a366920d3"
      },
      "source": [
        "rs_logistic_regress.score(X_test, y_test)"
      ],
      "execution_count": 48,
      "outputs": [
        {
          "output_type": "execute_result",
          "data": {
            "text/plain": [
              "0.7101694915254237"
            ]
          },
          "metadata": {},
          "execution_count": 48
        }
      ]
    },
    {
      "cell_type": "markdown",
      "metadata": {
        "id": "nBRdkp_yurEi"
      },
      "source": [
        "We can tune it using GridSearchCv too"
      ]
    },
    {
      "cell_type": "code",
      "metadata": {
        "colab": {
          "base_uri": "https://localhost:8080/"
        },
        "id": "2bJt98qqtn81",
        "outputId": "93eca9cd-5f32-458e-ae28-a3e05002f868"
      },
      "source": [
        "# Different LogisticRegression hyperparameters\n",
        "log_reg_grid = {\"C\": np.logspace(-4, 4, 20),\n",
        "                \"solver\": [\"liblinear\"]}\n",
        "\n",
        "# Setup grid hyperparameter search for LogisticRegression\n",
        "gs_log_reg = GridSearchCV(LogisticRegression(),\n",
        "                          param_grid=log_reg_grid,\n",
        "                          cv=5,\n",
        "                          verbose=True)\n",
        "gs_log_reg.fit(X_train, y_train);"
      ],
      "execution_count": 49,
      "outputs": [
        {
          "output_type": "stream",
          "name": "stdout",
          "text": [
            "Fitting 5 folds for each of 20 candidates, totalling 100 fits\n"
          ]
        }
      ]
    },
    {
      "cell_type": "code",
      "metadata": {
        "colab": {
          "base_uri": "https://localhost:8080/"
        },
        "id": "1HOvVhbNfM_V",
        "outputId": "2cc04a78-6ca8-4154-821e-a891af3560ed"
      },
      "source": [
        "# Check the best parameters\n",
        "gs_log_reg.best_params_"
      ],
      "execution_count": 50,
      "outputs": [
        {
          "output_type": "execute_result",
          "data": {
            "text/plain": [
              "{'C': 4.281332398719396, 'solver': 'liblinear'}"
            ]
          },
          "metadata": {},
          "execution_count": 50
        }
      ]
    },
    {
      "cell_type": "code",
      "metadata": {
        "colab": {
          "base_uri": "https://localhost:8080/"
        },
        "id": "3v4e8HLn4Inb",
        "outputId": "bf78922a-87ba-4c2f-c620-356d6eb3bc63"
      },
      "source": [
        "gs_log_reg.score(X_test, y_test)"
      ],
      "execution_count": 51,
      "outputs": [
        {
          "output_type": "execute_result",
          "data": {
            "text/plain": [
              "0.7101694915254237"
            ]
          },
          "metadata": {},
          "execution_count": 51
        }
      ]
    },
    {
      "cell_type": "markdown",
      "metadata": {
        "id": "ITHYlEU34kTw"
      },
      "source": [
        "The above score using [GridSearchCV](https://scikit-learn.org/stable/modules/generated/sklearn.model_selection.GridSearchCV.html) is same as when we use [RandomizedSearchCV](https://machinelearningmastery.com/hyperparameter-optimization-with-random-search-and-grid-search/) for LogicticRegressionModel\n"
      ]
    },
    {
      "cell_type": "markdown",
      "metadata": {
        "id": "mPjid0bm2Vti"
      },
      "source": [
        "### By just tuning the hyperparameters for LogisticRegression model we have seen a slight boost from **66%** to **71%**"
      ]
    },
    {
      "cell_type": "code",
      "metadata": {
        "id": "P6rkEMbqp51y"
      },
      "source": [
        "# # Create a hyperparameter grid for RandomForestRegressor\n",
        "# rf_grid = {\"n_estimators\": np.arange(10, 1000, 50),\n",
        "#            \"max_depth\": [None, 3, 5, 10],\n",
        "#            \"min_samples_split\": np.arange(2, 20, 2),\n",
        "#            \"min_samples_leaf\": np.arange(1, 20, 2)}\n",
        "\n",
        "# # Setup grid hyperparameter search for LogisticRegression\n",
        "# gs_rf = GridSearchCV(RandomForestRegressor(),\n",
        "#                           param_grid=rf_grid,\n",
        "#                           cv=5,\n",
        "#                           verbose=True)\n",
        "\n",
        "# # Fit grid hyperparameter search model\n",
        "# gs_rf.fit(X_train, y_train);\n",
        "\n",
        "# ## This takes too long...\n"
      ],
      "execution_count": 52,
      "outputs": []
    },
    {
      "cell_type": "markdown",
      "metadata": {
        "id": "btvoHX7rCN38"
      },
      "source": [
        "#**Evaluating our tuned ML models**"
      ]
    },
    {
      "cell_type": "markdown",
      "metadata": {
        "id": "q9x1avu4OKNh"
      },
      "source": [
        " **In order to better understand these outcomes,  the purpose of our model is trying to predict if our collection of\n",
        "several weather parameters in real time i.e (all_features[temp,humidity etc]) sparks Fire Behavior. the positive outcome would be if the proportion of\n",
        "weather instances correctly predicted Fire, and understandably, the negative outcome would be if the weather instances does not predict the fire.**\n",
        "\n",
        "To make comparison and the evaluation of our trained model we set a prediction variable, y_pred and set our trained version of logictic regression model there and compare them with our test data which is y_test. "
      ]
    },
    {
      "cell_type": "markdown",
      "metadata": {
        "id": "XE95IquOzFs3"
      },
      "source": [
        "# We will evaluate our ML models using the below metrics:\n",
        "\n",
        "\n",
        "1.   ROC curve and AUC score \n",
        "2.   Confusion matrix \n",
        "3.   Classification report\n",
        "\n",
        "\n",
        "\n",
        "\n"
      ]
    },
    {
      "cell_type": "markdown",
      "metadata": {
        "id": "-Qt_RML9xTPk"
      },
      "source": [
        "**To check and visualize the performance of our model**, we will use the AUC (Area Under The Curve) ROC (Receiver Operating Characteristics) [AUC-ROC-curve](https://www.analyticsvidhya.com/blog/2020/06/auc-roc-curve-machine-learning/) curve evaluation metrics for checking performance. We will try to evaluate how our model is performing by comparing the true positive rate to the false positive rate using plot_roc_curve from Scikit-Learn which can help us create a ROC curve as well as calculate the (AUC) metric."
      ]
    },
    {
      "cell_type": "markdown",
      "metadata": {
        "id": "-19pIZA-RVJ0"
      },
      "source": [
        "## **ROC curve and AUC score**"
      ]
    },
    {
      "cell_type": "code",
      "metadata": {
        "colab": {
          "base_uri": "https://localhost:8080/"
        },
        "id": "AgyK_QJk4No6",
        "outputId": "c6190365-02b7-44aa-b071-75ad69075fcf"
      },
      "source": [
        "#ROC curve and AUC score\n",
        "# Make preidctions on test data\n",
        "y_preds = rs_logistic_regress.predict(X_test)\n",
        "y_preds"
      ],
      "execution_count": 86,
      "outputs": [
        {
          "output_type": "execute_result",
          "data": {
            "text/plain": [
              "array([1, 0, 0, 0, 0, 0, 0, 0, 0, 1, 1, 1, 0, 1, 0, 0, 0, 1, 0, 0, 0, 0,\n",
              "       0, 0, 0, 1, 1, 0, 1, 0, 0, 1, 1, 0, 0, 0, 0, 1, 0, 1, 0, 0, 1, 0,\n",
              "       1, 0, 0, 0, 0, 0, 0, 1, 0, 0, 0, 1, 0, 0, 0, 0, 1, 1, 0, 1, 1, 0,\n",
              "       1, 0, 0, 1, 1, 0, 0, 0, 1, 0, 1, 0, 0, 1, 1, 0, 1, 0, 1, 0, 0, 0,\n",
              "       0, 0, 0, 0, 0, 0, 1, 0, 0, 0, 0, 0, 0, 1, 1, 0, 0, 0, 0, 0, 0, 1,\n",
              "       0, 0, 0, 0, 0, 0, 0, 0, 0, 1, 0, 1, 0, 0, 0, 0, 0, 0, 0, 1, 0, 0,\n",
              "       0, 0, 0, 0, 0, 1, 0, 1, 0, 0, 0, 0, 1, 0, 1, 0, 0, 1, 0, 0, 0, 0,\n",
              "       0, 1, 1, 0, 1, 0, 0, 0, 1, 1, 0, 1, 0, 0, 0, 1, 0, 0, 0, 0, 0, 0,\n",
              "       0, 0, 1, 0, 0, 1, 0, 0, 0, 0, 1, 0, 0, 0, 0, 0, 1, 0, 0, 0, 1, 0,\n",
              "       1, 1, 0, 1, 0, 0, 0, 0, 1, 1, 0, 1, 1, 0, 1, 0, 1, 0, 0, 1, 0, 1,\n",
              "       0, 0, 0, 1, 0, 0, 1, 0, 0, 0, 1, 1, 0, 0, 1, 1, 0, 0, 1, 1, 0, 0,\n",
              "       0, 0, 0, 0, 1, 0, 0, 0, 0, 0, 0, 0, 0, 0, 1, 0, 0, 0, 0, 1, 1, 0,\n",
              "       1, 0, 1, 0, 0, 1, 0, 1, 0, 0, 0, 0, 0, 0, 0, 0, 0, 1, 0, 0, 0, 0,\n",
              "       1, 0, 1, 0, 1, 1, 0, 0, 0, 1, 1, 0, 0, 0, 0, 0, 0, 0, 0, 0, 0, 1,\n",
              "       0, 0, 1, 0, 1, 1, 0, 0, 1, 1, 1, 0, 0, 0, 1, 0, 0, 0, 0, 0, 1, 1,\n",
              "       0, 0, 0, 0, 0, 0, 0, 1, 0, 0, 0, 1, 0, 1, 0, 1, 0, 1, 0, 1, 1, 0,\n",
              "       0, 0, 0, 0, 0, 1, 1, 0, 0, 0, 0, 0, 0, 1, 0, 0, 1, 0, 0, 0, 1, 0,\n",
              "       0, 1, 0, 1, 0, 0, 1, 0, 0, 0, 0, 0, 0, 1, 0, 0, 1, 1, 1, 0, 0, 1,\n",
              "       0, 0, 0, 0, 0, 1, 0, 0, 0, 0, 0, 0, 0, 0, 0, 0, 1, 0, 0, 0, 1, 0,\n",
              "       1, 1, 1, 0, 0, 0, 0, 0, 0, 0, 1, 1, 0, 0, 1, 0, 0, 0, 1, 0, 0, 1,\n",
              "       1, 1, 0, 0, 0, 0, 0, 0, 1, 1, 0, 0, 0, 1, 0, 0, 0, 0, 0, 0, 0, 0,\n",
              "       1, 1, 1, 0, 1, 1, 0, 0, 1, 0, 0, 0, 1, 0, 0, 1, 1, 0, 0, 0, 1, 0,\n",
              "       0, 0, 0, 0, 1, 0, 0, 0, 0, 1, 0, 0, 0, 0, 0, 0, 1, 0, 1, 0, 0, 1,\n",
              "       1, 0, 0, 0, 1, 1, 0, 1, 0, 0, 0, 1, 1, 1, 0, 1, 0, 1, 0, 0, 1, 0,\n",
              "       0, 0, 0, 0, 0, 0, 0, 0, 1, 1, 0, 0, 0, 0, 1, 0, 0, 0, 0, 0, 0, 1,\n",
              "       1, 1, 0, 0, 0, 0, 0, 0, 0, 0, 0, 0, 0, 1, 1, 0, 1, 0, 0, 0, 1, 0,\n",
              "       0, 0, 0, 0, 0, 0, 0, 1, 0, 0, 1, 0, 1, 0, 0, 0, 0, 1])"
            ]
          },
          "metadata": {},
          "execution_count": 86
        }
      ]
    },
    {
      "cell_type": "markdown",
      "metadata": {
        "id": "6JC4azsl9nCB"
      },
      "source": [
        ""
      ]
    },
    {
      "cell_type": "code",
      "metadata": {
        "id": "X028wLHcC3xV"
      },
      "source": [
        ""
      ],
      "execution_count": 60,
      "outputs": []
    },
    {
      "cell_type": "code",
      "metadata": {
        "colab": {
          "base_uri": "https://localhost:8080/"
        },
        "id": "nkWy_wE64VTT",
        "outputId": "f09f0e87-e193-4a17-aa5e-0ad888098492"
      },
      "source": [
        "y_test"
      ],
      "execution_count": 87,
      "outputs": [
        {
          "output_type": "execute_result",
          "data": {
            "text/plain": [
              "565     1\n",
              "1220    1\n",
              "1677    0\n",
              "1577    0\n",
              "2833    0\n",
              "       ..\n",
              "1255    1\n",
              "2560    0\n",
              "2935    0\n",
              "1412    1\n",
              "685     1\n",
              "Name: Fire, Length: 590, dtype: int64"
            ]
          },
          "metadata": {},
          "execution_count": 87
        }
      ]
    },
    {
      "cell_type": "code",
      "metadata": {
        "colab": {
          "base_uri": "https://localhost:8080/",
          "height": 410
        },
        "id": "x7ECKMrLw6O7",
        "outputId": "990814f5-f2c0-4591-cbb9-51ff1a16eb7b"
      },
      "source": [
        "# Plot ROC curve and calculate AUC metric\n",
        "plot_roc_curve(rs_logistic_regress, X_test, y_test);"
      ],
      "execution_count": 88,
      "outputs": [
        {
          "output_type": "stream",
          "name": "stderr",
          "text": [
            "/usr/local/lib/python3.7/dist-packages/sklearn/utils/deprecation.py:87: FutureWarning: Function plot_roc_curve is deprecated; Function `plot_roc_curve` is deprecated in 1.0 and will be removed in 1.2. Use one of the class methods: RocCurveDisplay.from_predictions or RocCurveDisplay.from_estimator.\n",
            "  warnings.warn(msg, category=FutureWarning)\n"
          ]
        },
        {
          "output_type": "display_data",
          "data": {
            "image/png": "[encoded data removed]",
            "text/plain": [
              "<Figure size 432x288 with 1 Axes>"
            ]
          },
          "metadata": {}
        }
      ]
    },
    {
      "cell_type": "markdown",
      "metadata": {
        "id": "O54VRUDiPzbE"
      },
      "source": [
        "If we analyze the area under curve the perfect score should be 1.0 but our model score is AUC:0.73.\n",
        "[Perfect ROC Curve](https://classeval.wordpress.com/introduction/introduction-to-the-roc-receiver-operating-characteristics-plot/)\n",
        "\n"
      ]
    },
    {
      "cell_type": "markdown",
      "metadata": {
        "id": "yPwBWQY_RjjG"
      },
      "source": [
        "## **Confusion Matrix**"
      ]
    },
    {
      "cell_type": "code",
      "metadata": {
        "colab": {
          "base_uri": "https://localhost:8080/"
        },
        "id": "j6AXcqSlw6Ra",
        "outputId": "54050fd4-2db5-4e6f-cad7-6cb9db75c070"
      },
      "source": [
        "# In order To make comparisons and evaluate our trained model, we will look at confusion matrix\n",
        "print(confusion_matrix(y_test, y_preds))"
      ],
      "execution_count": 89,
      "outputs": [
        {
          "output_type": "stream",
          "name": "stdout",
          "text": [
            "[[269  23]\n",
            " [148 150]]\n"
          ]
        }
      ]
    },
    {
      "cell_type": "code",
      "metadata": {
        "colab": {
          "base_uri": "https://localhost:8080/",
          "height": 243
        },
        "id": "D1YEKoDVw6US",
        "outputId": "790776f8-9d2b-4be2-9d5b-ce413335533d"
      },
      "source": [
        "sns.set(font_scale=1.5) \n",
        "\n",
        "def plot_conf_mat(y_test, y_preds):\n",
        "  fig, ax = plt.subplots(figsize=(3, 3))\n",
        "  ax = sns.heatmap(confusion_matrix(y_test, y_preds),\n",
        "                     annot=True, # Annotate the boxes\n",
        "                     cbar=False,\n",
        "                   fmt=\"0.1f\")\n",
        "  plt.xlabel(\"true label\")\n",
        "  plt.ylabel(\"predicted label\")\n",
        "    \n",
        "plot_conf_mat(y_test, y_preds)"
      ],
      "execution_count": 82,
      "outputs": [
        {
          "output_type": "display_data",
          "data": {
            "image/png": "[encoded data removed]",
            "text/plain": [
              "<Figure size 216x216 with 1 Axes>"
            ]
          },
          "metadata": {}
        }
      ]
    },
    {
      "cell_type": "markdown",
      "metadata": {
        "id": "By-B0-Oa3H-A"
      },
      "source": [
        "\n",
        "\n",
        "\n",
        "*   TN:([TP FP,FN,TP](https://www.analyticsvidhya.com/blog/2021/04/confusion-matrix-detailed-intuition-and-trick-to-learn/)) the intersection of true label and predicted label of true occurence is 150.0 meaning that our weather instances did happen while predicting fire.\n",
        "In other words from our model, this means that fires occurences which were predicted to be happening because of higher humidity and relatively low temperatures indeed does not cause fires on those days.\n",
        "*   TP: 269.0 of the observations did not happen and would not happen based on our model  In our example, this means that lower humidity and relatively high temperature which predicted to cause fire did not actually cause the fire. \n",
        "*   FN: 148.0 of the observations that the model predicted  would not happen but actually did happen, this means that The lower humidity and higher temperatures which predicted fire eventually actually sparked fires. \n",
        "*  FP: there are ONLY 23 occasaions where the model predicted to happen but did not happen (false negative). \n",
        "\n",
        "\n"
      ]
    },
    {
      "cell_type": "markdown",
      "metadata": {
        "id": "Am3sBr6io5my"
      },
      "source": [
        "## **Classification report**"
      ]
    },
    {
      "cell_type": "markdown",
      "metadata": {
        "id": "5E5nTun1TQKQ"
      },
      "source": [
        "We will use  [classfication report](https://scikit-learn.org/stable/modules/generated/sklearn.metrics.classification_report.html) from sklearn to show the precision, recall, F1 Score, and support score of your trained classification model.  "
      ]
    },
    {
      "cell_type": "code",
      "metadata": {
        "colab": {
          "base_uri": "https://localhost:8080/"
        },
        "id": "ys_4Quj-THG8",
        "outputId": "2ce1cf86-f923-486e-fdaa-a8ee405a5a6e"
      },
      "source": [
        "print(classification_report(y_test, y_preds))"
      ],
      "execution_count": 92,
      "outputs": [
        {
          "output_type": "stream",
          "name": "stdout",
          "text": [
            "              precision    recall  f1-score   support\n",
            "\n",
            "           0       0.65      0.92      0.76       292\n",
            "           1       0.87      0.50      0.64       298\n",
            "\n",
            "    accuracy                           0.71       590\n",
            "   macro avg       0.76      0.71      0.70       590\n",
            "weighted avg       0.76      0.71      0.70       590\n",
            "\n"
          ]
        }
      ]
    },
    {
      "cell_type": "markdown",
      "metadata": {
        "id": "XFirKONgAUJG"
      },
      "source": [
        "**The model predicts fire which were actually correct meaning no False positives(148.0 in our model) will have a precision of 1.0**. The proportion of actual  positives which were correctly identified meaning (No false Negatives) will have recall of 1.0. **If our model is perfect our FP which is 23.0 and FN which is 148.0 will be 0**. The f1-score is the harmonic mean between precision & recall since our model is not absolutely perfect our f1 score is not 1.0. The support which is number of samples each metrics are calculated on in our test data set(y_test). **In our modle there are 292 samples with a avalue of 0 and 298 with a value of 1** meaning the correct prediction of fire from weather instances.\n"
      ]
    },
    {
      "cell_type": "markdown",
      "metadata": {
        "id": "87KZXbBxZPTa"
      },
      "source": [
        "# **Which different attributes of the data were most important when it comes to predicting the outcome**"
      ]
    },
    {
      "cell_type": "code",
      "metadata": {
        "id": "SrmlBsE4bl2N"
      },
      "source": [
        ""
      ],
      "execution_count": null,
      "outputs": []
    },
    {
      "cell_type": "markdown",
      "metadata": {
        "id": "ZRT7hvWpYcCQ"
      },
      "source": [
        "we will find feature that is contributed best in our model"
      ]
    },
    {
      "cell_type": "markdown",
      "metadata": {
        "id": "a7HziEwF_DXU"
      },
      "source": [
        ""
      ]
    }
  ]
}