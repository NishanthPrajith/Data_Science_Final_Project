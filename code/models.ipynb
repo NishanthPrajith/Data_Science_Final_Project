{
  "nbformat": 4,
  "nbformat_minor": 0,
  "metadata": {
    "colab": {
      "name": "models.ipynb",
      "provenance": [],
      "collapsed_sections": []
    },
    "kernelspec": {
      "name": "python3",
      "display_name": "Python 3"
    },
    "language_info": {
      "name": "python"
    }
  },
  "cells": [
    {
      "cell_type": "code",
      "metadata": {
        "id": "zGFwFzJph0u-"
      },
      "source": [
        "import pandas as pd\n",
        "import statsmodels.api as sm\n",
        "from sklearn.linear_model import LogisticRegression\n",
        "from sklearn.ensemble import RandomForestClassifier\n",
        "from sklearn.svm import SVC\n",
        "from sklearn.preprocessing import StandardScaler\n",
        "\n",
        "from sklearn.metrics import accuracy_score, recall_score, precision_score\n",
        "from sklearn.model_selection import train_test_split"
      ],
      "execution_count": 202,
      "outputs": []
    },
    {
      "cell_type": "markdown",
      "metadata": {
        "id": "YvFKwOtgswNt"
      },
      "source": [
        "# Get Data"
      ]
    },
    {
      "cell_type": "code",
      "metadata": {
        "id": "WoSdxX3Zj6kb"
      },
      "source": [
        "data = pd.read_csv(\"cleaned.csv\", index_col = 0)"
      ],
      "execution_count": null,
      "outputs": []
    },
    {
      "cell_type": "code",
      "metadata": {
        "id": "O91q6-3NksWo"
      },
      "source": [
        "data = data.replace({\n",
        "    'Fire' : {\n",
        "        True : 1,\n",
        "        False : 0\n",
        "    }\n",
        "})"
      ],
      "execution_count": null,
      "outputs": []
    },
    {
      "cell_type": "code",
      "metadata": {
        "id": "ZgvoKOaHj6iD"
      },
      "source": [
        "all_features = list(data.columns)[6:21] + list(data.columns)[21:-1]\n",
        "target = ['Fire']"
      ],
      "execution_count": null,
      "outputs": []
    },
    {
      "cell_type": "markdown",
      "metadata": {
        "id": "xKtcM6hAmoHs"
      },
      "source": [
        "# Model Training\n",
        "\n"
      ]
    },
    {
      "cell_type": "code",
      "metadata": {
        "id": "Q7pWHD5_j6f2"
      },
      "source": [
        "X = data[all_features].values\n",
        "y = data[target].values"
      ],
      "execution_count": null,
      "outputs": []
    },
    {
      "cell_type": "code",
      "metadata": {
        "id": "-oocBbZkqopU"
      },
      "source": [
        "class ModelsClass:\n",
        "  def __init__(self, X, y):\n",
        "    self.X = X\n",
        "    self.y = y\n",
        "\n",
        "  def logisticReg(self):\n",
        "    X_train, X_test, y_train, y_test = train_test_split(self.X, self.y, test_size=0.33)\n",
        "\n",
        "    logreg = LogisticRegression(random_state=20191016, solver='lbfgs', max_iter= 1000)\n",
        "\n",
        "    logreg.fit(X_train, y_train.ravel())\n",
        "    self.score(X_test, y_test, logreg)\n",
        "\n",
        "  def logisticRegNormal(self):\n",
        "    scaler = StandardScaler()\n",
        "    scaled_train_features = scaler.fit_transform(self.X)\n",
        "\n",
        "    X_train, X_test, y_train, y_test = train_test_split(scaled_train_features, self.y, test_size=0.33)\n",
        "\n",
        "    logreg = LogisticRegression(random_state=20191016, solver='lbfgs', max_iter= 1000)\n",
        "\n",
        "    logreg.fit(X_train, y_train.ravel())\n",
        "    self.score(X_test, y_test, logreg)\n",
        "  \n",
        "  def score(self, a, b, model):\n",
        "    j = 0.000\n",
        "    for i in range(20):\n",
        "      j += model.score(a, b)\n",
        "    j = j / 20\n",
        "    print(\"The average score after running 20 times is : \", j)"
      ],
      "execution_count": 200,
      "outputs": []
    },
    {
      "cell_type": "code",
      "metadata": {
        "id": "-u40G2t4qv_7"
      },
      "source": [
        "a = ModelsClass(X, y)"
      ],
      "execution_count": 198,
      "outputs": []
    },
    {
      "cell_type": "code",
      "metadata": {
        "colab": {
          "base_uri": "https://localhost:8080/",
          "height": 290
        },
        "id": "J99aQrOT2yPR",
        "outputId": "af13a915-56cf-4b9f-dea8-f1a3608b7f3e"
      },
      "source": [
        "a.logisticReg()"
      ],
      "execution_count": 201,
      "outputs": [
        {
          "output_type": "stream",
          "name": "stdout",
          "text": [
            "The average score after running 20 times is :  0.5745118191161358\n"
          ]
        },
        {
          "output_type": "error",
          "ename": "AttributeError",
          "evalue": "ignored",
          "traceback": [
            "\u001b[0;31m---------------------------------------------------------------------------\u001b[0m",
            "\u001b[0;31mAttributeError\u001b[0m                            Traceback (most recent call last)",
            "\u001b[0;32m<ipython-input-201-036e62cd4056>\u001b[0m in \u001b[0;36m<module>\u001b[0;34m()\u001b[0m\n\u001b[0;32m----> 1\u001b[0;31m \u001b[0ma\u001b[0m\u001b[0;34m.\u001b[0m\u001b[0mlogisticReg\u001b[0m\u001b[0;34m(\u001b[0m\u001b[0;34m)\u001b[0m\u001b[0;34m\u001b[0m\u001b[0;34m\u001b[0m\u001b[0m\n\u001b[0m",
            "\u001b[0;32m<ipython-input-197-792f03bfc44c>\u001b[0m in \u001b[0;36mlogisticReg\u001b[0;34m(self)\u001b[0m\n\u001b[1;32m     10\u001b[0m \u001b[0;34m\u001b[0m\u001b[0m\n\u001b[1;32m     11\u001b[0m     \u001b[0mlogreg\u001b[0m\u001b[0;34m.\u001b[0m\u001b[0mfit\u001b[0m\u001b[0;34m(\u001b[0m\u001b[0mX_train\u001b[0m\u001b[0;34m,\u001b[0m \u001b[0my_train\u001b[0m\u001b[0;34m.\u001b[0m\u001b[0mravel\u001b[0m\u001b[0;34m(\u001b[0m\u001b[0;34m)\u001b[0m\u001b[0;34m)\u001b[0m\u001b[0;34m\u001b[0m\u001b[0;34m\u001b[0m\u001b[0m\n\u001b[0;32m---> 12\u001b[0;31m     \u001b[0mself\u001b[0m\u001b[0;34m.\u001b[0m\u001b[0mscore\u001b[0m\u001b[0;34m(\u001b[0m\u001b[0mX_test\u001b[0m\u001b[0;34m,\u001b[0m \u001b[0my_test\u001b[0m\u001b[0;34m,\u001b[0m \u001b[0mlogreg\u001b[0m\u001b[0;34m)\u001b[0m\u001b[0;34m\u001b[0m\u001b[0;34m\u001b[0m\u001b[0m\n\u001b[0m\u001b[1;32m     13\u001b[0m \u001b[0;34m\u001b[0m\u001b[0m\n\u001b[1;32m     14\u001b[0m   \u001b[0;32mdef\u001b[0m \u001b[0mlogisticRegNormal\u001b[0m\u001b[0;34m(\u001b[0m\u001b[0mself\u001b[0m\u001b[0;34m)\u001b[0m\u001b[0;34m:\u001b[0m\u001b[0;34m\u001b[0m\u001b[0;34m\u001b[0m\u001b[0m\n",
            "\u001b[0;32m<ipython-input-197-792f03bfc44c>\u001b[0m in \u001b[0;36mscore\u001b[0;34m(self, a, b, model)\u001b[0m\n\u001b[1;32m     29\u001b[0m     \u001b[0mj\u001b[0m \u001b[0;34m=\u001b[0m \u001b[0mj\u001b[0m \u001b[0;34m/\u001b[0m \u001b[0;36m20\u001b[0m\u001b[0;34m\u001b[0m\u001b[0;34m\u001b[0m\u001b[0m\n\u001b[1;32m     30\u001b[0m     \u001b[0mprint\u001b[0m\u001b[0;34m(\u001b[0m\u001b[0;34m\"The average score after running 20 times is : \"\u001b[0m\u001b[0;34m,\u001b[0m \u001b[0mj\u001b[0m\u001b[0;34m)\u001b[0m\u001b[0;34m\u001b[0m\u001b[0;34m\u001b[0m\u001b[0m\n\u001b[0;32m---> 31\u001b[0;31m     \u001b[0mprint\u001b[0m\u001b[0;34m(\u001b[0m\u001b[0mmodel\u001b[0m\u001b[0;34m.\u001b[0m\u001b[0mbest_score_\u001b[0m\u001b[0;34m)\u001b[0m\u001b[0;34m\u001b[0m\u001b[0;34m\u001b[0m\u001b[0m\n\u001b[0m",
            "\u001b[0;31mAttributeError\u001b[0m: 'LogisticRegression' object has no attribute 'best_score_'"
          ]
        }
      ]
    },
    {
      "cell_type": "markdown",
      "metadata": {
        "id": "TH644SUVtCD3"
      },
      "source": [
        "*Let's try normalizing the data and see if the accuracy changes.*"
      ]
    },
    {
      "cell_type": "code",
      "metadata": {
        "colab": {
          "base_uri": "https://localhost:8080/"
        },
        "id": "RgtYHgQpzICi",
        "outputId": "6071f476-e3e4-4f60-8718-ad383bfe5a12"
      },
      "source": [
        "a.logisticRegNormal()"
      ],
      "execution_count": 196,
      "outputs": [
        {
          "output_type": "stream",
          "name": "stdout",
          "text": [
            "The average score after running 20 times is :  0.5930113052415211\n"
          ]
        }
      ]
    },
    {
      "cell_type": "markdown",
      "metadata": {
        "id": "MgOSnnyv3DiJ"
      },
      "source": [
        "**The accuracy seems to be the same. So let's maybe try a different model and see the result**"
      ]
    },
    {
      "cell_type": "code",
      "metadata": {
        "id": "xegnXHbd3BjL"
      },
      "source": [
        ""
      ],
      "execution_count": null,
      "outputs": []
    }
  ]
}