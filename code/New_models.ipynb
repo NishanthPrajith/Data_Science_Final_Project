{
  "nbformat": 4,
  "nbformat_minor": 0,
  "metadata": {
    "colab": {
      "name": "New_models.ipynb",
      "provenance": [],
      "collapsed_sections": []
    },
    "kernelspec": {
      "name": "python3",
      "display_name": "Python 3"
    },
    "language_info": {
      "name": "python"
    }
  },
  "cells": [
    {
      "cell_type": "code",
      "metadata": {
        "id": "zGFwFzJph0u-"
      },
      "source": [
        "import pandas as pd\n",
        "import numpy as np\n",
        "import statsmodels.api as sm\n",
        "import seaborn as sns\n",
        "\n",
        "\n",
        "from sklearn.svm import SVC\n",
        "from sklearn.preprocessing import StandardScaler\n",
        "\n",
        "from sklearn.metrics import accuracy_score, recall_score, precision_score\n",
        "from sklearn.model_selection import train_test_split\n",
        "\n",
        "# Models from Scikit-Learn\n",
        "from sklearn.linear_model import LogisticRegression\n",
        "from sklearn.neighbors import KNeighborsClassifier\n",
        "from sklearn.ensemble import RandomForestClassifier\n",
        "from sklearn.ensemble import RandomForestRegressor\n",
        "\n",
        "#import data analysis tools\n",
        "import matplotlib.pyplot as plt\n",
        "\n",
        "#Model Evaluations\n",
        "from sklearn.model_selection import RandomizedSearchCV, GridSearchCV\n",
        "from sklearn.model_selection import KFold\n",
        "from sklearn.model_selection import cross_val_score\n",
        "from sklearn.metrics import plot_roc_curve\n",
        "from sklearn.metrics import confusion_matrix, classification_report"
      ],
      "execution_count": 264,
      "outputs": []
    },
    {
      "cell_type": "markdown",
      "metadata": {
        "id": "YvFKwOtgswNt"
      },
      "source": [
        "# Get Data"
      ]
    },
    {
      "cell_type": "code",
      "metadata": {
        "id": "WoSdxX3Zj6kb",
        "colab": {
          "base_uri": "https://localhost:8080/",
          "height": 825
        },
        "outputId": "73447839-7296-4e70-e8a7-7a8ba982f3f4"
      },
      "source": [
        "data = pd.read_csv(\"cleaned.csv\", index_col = 0)\n",
        "data"
      ],
      "execution_count": 14,
      "outputs": [
        {
          "output_type": "execute_result",
          "data": {
            "text/html": [
              "<div>\n",
              "<style scoped>\n",
              "    .dataframe tbody tr th:only-of-type {\n",
              "        vertical-align: middle;\n",
              "    }\n",
              "\n",
              "    .dataframe tbody tr th {\n",
              "        vertical-align: top;\n",
              "    }\n",
              "\n",
              "    .dataframe thead th {\n",
              "        text-align: right;\n",
              "    }\n",
              "</style>\n",
              "<table border=\"1\" class=\"dataframe\">\n",
              "  <thead>\n",
              "    <tr style=\"text-align: right;\">\n",
              "      <th></th>\n",
              "      <th>AcresBurned</th>\n",
              "      <th>Counties</th>\n",
              "      <th>Latitude</th>\n",
              "      <th>Longitude</th>\n",
              "      <th>Started</th>\n",
              "      <th>FIPS</th>\n",
              "      <th>Temp Day One</th>\n",
              "      <th>Temp Day Two</th>\n",
              "      <th>Temp Day Three</th>\n",
              "      <th>Temp Day Four</th>\n",
              "      <th>Temp Day Five</th>\n",
              "      <th>MaxTemp Day One</th>\n",
              "      <th>MaxTemp Day Two</th>\n",
              "      <th>MaxTemp Day Three</th>\n",
              "      <th>MaxTemp Day Four</th>\n",
              "      <th>MaxTemp Day Five</th>\n",
              "      <th>MinTemp Day One</th>\n",
              "      <th>MinTemp Day Two</th>\n",
              "      <th>MinTemp Day Three</th>\n",
              "      <th>MinTemp Day Four</th>\n",
              "      <th>MinTemp Day Five</th>\n",
              "      <th>Humidity Day One</th>\n",
              "      <th>Humidity Day Two</th>\n",
              "      <th>Humidity Day Three</th>\n",
              "      <th>Humidity Day Four</th>\n",
              "      <th>Humidity Day Five</th>\n",
              "      <th>Fire</th>\n",
              "    </tr>\n",
              "  </thead>\n",
              "  <tbody>\n",
              "    <tr>\n",
              "      <th>0</th>\n",
              "      <td>257314.0</td>\n",
              "      <td>Tuolumne</td>\n",
              "      <td>37.857000</td>\n",
              "      <td>-120.086000</td>\n",
              "      <td>2013-08-17 15:25:00</td>\n",
              "      <td>6109.0</td>\n",
              "      <td>74.0</td>\n",
              "      <td>78.0</td>\n",
              "      <td>79.0</td>\n",
              "      <td>79.0</td>\n",
              "      <td>80.0</td>\n",
              "      <td>83.0</td>\n",
              "      <td>87.0</td>\n",
              "      <td>88.0</td>\n",
              "      <td>88.0</td>\n",
              "      <td>89.0</td>\n",
              "      <td>50.0</td>\n",
              "      <td>52.0</td>\n",
              "      <td>52.0</td>\n",
              "      <td>52.0</td>\n",
              "      <td>54.0</td>\n",
              "      <td>38.000</td>\n",
              "      <td>33.000</td>\n",
              "      <td>34.000</td>\n",
              "      <td>35.125</td>\n",
              "      <td>33.000</td>\n",
              "      <td>True</td>\n",
              "    </tr>\n",
              "    <tr>\n",
              "      <th>1</th>\n",
              "      <td>30274.0</td>\n",
              "      <td>Los Angeles</td>\n",
              "      <td>34.585595</td>\n",
              "      <td>-118.423176</td>\n",
              "      <td>2013-05-30 15:28:00</td>\n",
              "      <td>6037.0</td>\n",
              "      <td>72.0</td>\n",
              "      <td>72.0</td>\n",
              "      <td>75.0</td>\n",
              "      <td>73.0</td>\n",
              "      <td>78.0</td>\n",
              "      <td>82.0</td>\n",
              "      <td>82.0</td>\n",
              "      <td>86.0</td>\n",
              "      <td>83.0</td>\n",
              "      <td>87.0</td>\n",
              "      <td>42.0</td>\n",
              "      <td>43.0</td>\n",
              "      <td>45.0</td>\n",
              "      <td>46.0</td>\n",
              "      <td>47.0</td>\n",
              "      <td>46.000</td>\n",
              "      <td>46.500</td>\n",
              "      <td>40.625</td>\n",
              "      <td>53.875</td>\n",
              "      <td>39.625</td>\n",
              "      <td>True</td>\n",
              "    </tr>\n",
              "    <tr>\n",
              "      <th>2</th>\n",
              "      <td>27531.0</td>\n",
              "      <td>Riverside</td>\n",
              "      <td>33.709500</td>\n",
              "      <td>-116.728850</td>\n",
              "      <td>2013-07-15 13:43:00</td>\n",
              "      <td>6065.0</td>\n",
              "      <td>82.0</td>\n",
              "      <td>77.0</td>\n",
              "      <td>79.0</td>\n",
              "      <td>82.0</td>\n",
              "      <td>84.0</td>\n",
              "      <td>88.0</td>\n",
              "      <td>82.0</td>\n",
              "      <td>84.0</td>\n",
              "      <td>88.0</td>\n",
              "      <td>90.0</td>\n",
              "      <td>66.0</td>\n",
              "      <td>65.0</td>\n",
              "      <td>65.0</td>\n",
              "      <td>66.0</td>\n",
              "      <td>68.0</td>\n",
              "      <td>34.750</td>\n",
              "      <td>51.375</td>\n",
              "      <td>48.375</td>\n",
              "      <td>27.875</td>\n",
              "      <td>27.000</td>\n",
              "      <td>True</td>\n",
              "    </tr>\n",
              "    <tr>\n",
              "      <th>3</th>\n",
              "      <td>27440.0</td>\n",
              "      <td>Placer</td>\n",
              "      <td>39.120000</td>\n",
              "      <td>-120.650000</td>\n",
              "      <td>2013-08-10 16:30:00</td>\n",
              "      <td>6061.0</td>\n",
              "      <td>74.0</td>\n",
              "      <td>73.0</td>\n",
              "      <td>68.0</td>\n",
              "      <td>67.0</td>\n",
              "      <td>67.0</td>\n",
              "      <td>85.0</td>\n",
              "      <td>83.0</td>\n",
              "      <td>77.0</td>\n",
              "      <td>77.0</td>\n",
              "      <td>78.0</td>\n",
              "      <td>45.0</td>\n",
              "      <td>44.0</td>\n",
              "      <td>45.0</td>\n",
              "      <td>41.0</td>\n",
              "      <td>40.0</td>\n",
              "      <td>44.625</td>\n",
              "      <td>42.750</td>\n",
              "      <td>53.125</td>\n",
              "      <td>56.250</td>\n",
              "      <td>53.000</td>\n",
              "      <td>True</td>\n",
              "    </tr>\n",
              "    <tr>\n",
              "      <th>4</th>\n",
              "      <td>22992.0</td>\n",
              "      <td>Fresno</td>\n",
              "      <td>37.279000</td>\n",
              "      <td>-119.318000</td>\n",
              "      <td>2013-07-22 22:15:00</td>\n",
              "      <td>6019.0</td>\n",
              "      <td>68.0</td>\n",
              "      <td>71.0</td>\n",
              "      <td>74.0</td>\n",
              "      <td>75.0</td>\n",
              "      <td>74.0</td>\n",
              "      <td>76.0</td>\n",
              "      <td>80.0</td>\n",
              "      <td>82.0</td>\n",
              "      <td>84.0</td>\n",
              "      <td>82.0</td>\n",
              "      <td>46.0</td>\n",
              "      <td>52.0</td>\n",
              "      <td>55.0</td>\n",
              "      <td>57.0</td>\n",
              "      <td>54.0</td>\n",
              "      <td>29.375</td>\n",
              "      <td>28.125</td>\n",
              "      <td>27.250</td>\n",
              "      <td>25.000</td>\n",
              "      <td>34.000</td>\n",
              "      <td>True</td>\n",
              "    </tr>\n",
              "    <tr>\n",
              "      <th>...</th>\n",
              "      <td>...</td>\n",
              "      <td>...</td>\n",
              "      <td>...</td>\n",
              "      <td>...</td>\n",
              "      <td>...</td>\n",
              "      <td>...</td>\n",
              "      <td>...</td>\n",
              "      <td>...</td>\n",
              "      <td>...</td>\n",
              "      <td>...</td>\n",
              "      <td>...</td>\n",
              "      <td>...</td>\n",
              "      <td>...</td>\n",
              "      <td>...</td>\n",
              "      <td>...</td>\n",
              "      <td>...</td>\n",
              "      <td>...</td>\n",
              "      <td>...</td>\n",
              "      <td>...</td>\n",
              "      <td>...</td>\n",
              "      <td>...</td>\n",
              "      <td>...</td>\n",
              "      <td>...</td>\n",
              "      <td>...</td>\n",
              "      <td>...</td>\n",
              "      <td>...</td>\n",
              "      <td>...</td>\n",
              "    </tr>\n",
              "    <tr>\n",
              "      <th>2941</th>\n",
              "      <td>0.0</td>\n",
              "      <td>Riverside</td>\n",
              "      <td>33.827979</td>\n",
              "      <td>-117.499619</td>\n",
              "      <td>2018-10-10 12:08:00</td>\n",
              "      <td>6065.0</td>\n",
              "      <td>70.0</td>\n",
              "      <td>69.0</td>\n",
              "      <td>77.0</td>\n",
              "      <td>65.0</td>\n",
              "      <td>71.0</td>\n",
              "      <td>74.0</td>\n",
              "      <td>74.0</td>\n",
              "      <td>85.0</td>\n",
              "      <td>67.0</td>\n",
              "      <td>78.0</td>\n",
              "      <td>63.0</td>\n",
              "      <td>63.0</td>\n",
              "      <td>69.0</td>\n",
              "      <td>64.0</td>\n",
              "      <td>64.0</td>\n",
              "      <td>59.500</td>\n",
              "      <td>56.375</td>\n",
              "      <td>48.625</td>\n",
              "      <td>73.750</td>\n",
              "      <td>64.875</td>\n",
              "      <td>False</td>\n",
              "    </tr>\n",
              "    <tr>\n",
              "      <th>2942</th>\n",
              "      <td>0.0</td>\n",
              "      <td>Nevada</td>\n",
              "      <td>39.409722</td>\n",
              "      <td>-121.000556</td>\n",
              "      <td>2018-06-28 15:03:04</td>\n",
              "      <td>6057.0</td>\n",
              "      <td>73.0</td>\n",
              "      <td>79.0</td>\n",
              "      <td>87.0</td>\n",
              "      <td>86.0</td>\n",
              "      <td>84.0</td>\n",
              "      <td>79.0</td>\n",
              "      <td>86.0</td>\n",
              "      <td>96.0</td>\n",
              "      <td>93.0</td>\n",
              "      <td>90.0</td>\n",
              "      <td>57.0</td>\n",
              "      <td>58.0</td>\n",
              "      <td>67.0</td>\n",
              "      <td>69.0</td>\n",
              "      <td>66.0</td>\n",
              "      <td>39.250</td>\n",
              "      <td>37.875</td>\n",
              "      <td>27.250</td>\n",
              "      <td>27.375</td>\n",
              "      <td>33.500</td>\n",
              "      <td>False</td>\n",
              "    </tr>\n",
              "    <tr>\n",
              "      <th>2943</th>\n",
              "      <td>0.0</td>\n",
              "      <td>Yolo</td>\n",
              "      <td>38.734634</td>\n",
              "      <td>-121.729691</td>\n",
              "      <td>2018-11-25 12:02:02</td>\n",
              "      <td>6113.0</td>\n",
              "      <td>58.0</td>\n",
              "      <td>58.0</td>\n",
              "      <td>55.0</td>\n",
              "      <td>59.0</td>\n",
              "      <td>55.0</td>\n",
              "      <td>64.0</td>\n",
              "      <td>64.0</td>\n",
              "      <td>57.0</td>\n",
              "      <td>63.0</td>\n",
              "      <td>57.0</td>\n",
              "      <td>50.0</td>\n",
              "      <td>50.0</td>\n",
              "      <td>51.0</td>\n",
              "      <td>53.0</td>\n",
              "      <td>51.0</td>\n",
              "      <td>64.250</td>\n",
              "      <td>63.625</td>\n",
              "      <td>86.000</td>\n",
              "      <td>83.875</td>\n",
              "      <td>82.875</td>\n",
              "      <td>False</td>\n",
              "    </tr>\n",
              "    <tr>\n",
              "      <th>2944</th>\n",
              "      <td>0.0</td>\n",
              "      <td>San Diego</td>\n",
              "      <td>33.351145</td>\n",
              "      <td>-117.403719</td>\n",
              "      <td>2018-10-22 19:20:44</td>\n",
              "      <td>6073.0</td>\n",
              "      <td>67.0</td>\n",
              "      <td>68.0</td>\n",
              "      <td>71.0</td>\n",
              "      <td>71.0</td>\n",
              "      <td>77.0</td>\n",
              "      <td>72.0</td>\n",
              "      <td>73.0</td>\n",
              "      <td>75.0</td>\n",
              "      <td>76.0</td>\n",
              "      <td>82.0</td>\n",
              "      <td>60.0</td>\n",
              "      <td>60.0</td>\n",
              "      <td>58.0</td>\n",
              "      <td>62.0</td>\n",
              "      <td>65.0</td>\n",
              "      <td>76.625</td>\n",
              "      <td>79.125</td>\n",
              "      <td>79.000</td>\n",
              "      <td>74.500</td>\n",
              "      <td>58.750</td>\n",
              "      <td>False</td>\n",
              "    </tr>\n",
              "    <tr>\n",
              "      <th>2945</th>\n",
              "      <td>0.0</td>\n",
              "      <td>Riverside</td>\n",
              "      <td>33.451480</td>\n",
              "      <td>-116.058980</td>\n",
              "      <td>2018-10-14 15:32:20</td>\n",
              "      <td>6065.0</td>\n",
              "      <td>73.0</td>\n",
              "      <td>65.0</td>\n",
              "      <td>65.0</td>\n",
              "      <td>68.0</td>\n",
              "      <td>70.0</td>\n",
              "      <td>79.0</td>\n",
              "      <td>72.0</td>\n",
              "      <td>75.0</td>\n",
              "      <td>76.0</td>\n",
              "      <td>80.0</td>\n",
              "      <td>57.0</td>\n",
              "      <td>50.0</td>\n",
              "      <td>48.0</td>\n",
              "      <td>49.0</td>\n",
              "      <td>49.0</td>\n",
              "      <td>49.375</td>\n",
              "      <td>17.875</td>\n",
              "      <td>18.125</td>\n",
              "      <td>31.125</td>\n",
              "      <td>31.000</td>\n",
              "      <td>False</td>\n",
              "    </tr>\n",
              "  </tbody>\n",
              "</table>\n",
              "<p>2946 rows × 27 columns</p>\n",
              "</div>"
            ],
            "text/plain": [
              "      AcresBurned     Counties  ...  Humidity Day Five   Fire\n",
              "0        257314.0     Tuolumne  ...             33.000   True\n",
              "1         30274.0  Los Angeles  ...             39.625   True\n",
              "2         27531.0    Riverside  ...             27.000   True\n",
              "3         27440.0       Placer  ...             53.000   True\n",
              "4         22992.0       Fresno  ...             34.000   True\n",
              "...           ...          ...  ...                ...    ...\n",
              "2941          0.0    Riverside  ...             64.875  False\n",
              "2942          0.0       Nevada  ...             33.500  False\n",
              "2943          0.0         Yolo  ...             82.875  False\n",
              "2944          0.0    San Diego  ...             58.750  False\n",
              "2945          0.0    Riverside  ...             31.000  False\n",
              "\n",
              "[2946 rows x 27 columns]"
            ]
          },
          "metadata": {},
          "execution_count": 14
        }
      ]
    },
    {
      "cell_type": "code",
      "metadata": {
        "id": "O91q6-3NksWo"
      },
      "source": [
        "data = data.replace({\n",
        "    'Fire' : {\n",
        "        True : 1,\n",
        "        False : 0\n",
        "    }\n",
        "})"
      ],
      "execution_count": 15,
      "outputs": []
    },
    {
      "cell_type": "code",
      "metadata": {
        "id": "ZgvoKOaHj6iD",
        "colab": {
          "base_uri": "https://localhost:8080/"
        },
        "outputId": "c3b0d1d1-58de-451c-d283-038b67e4f76b"
      },
      "source": [
        "all_features = list(data.columns)[6:21] + list(data.columns)[21:-1]\n",
        "target = ['Fire']\n",
        "all_features\n"
      ],
      "execution_count": 136,
      "outputs": [
        {
          "output_type": "execute_result",
          "data": {
            "text/plain": [
              "['Temp Day One',\n",
              " 'Temp Day Two',\n",
              " 'Temp Day Three',\n",
              " 'Temp Day Four',\n",
              " 'Temp Day Five',\n",
              " 'MaxTemp Day One',\n",
              " 'MaxTemp Day Two',\n",
              " 'MaxTemp Day Three',\n",
              " 'MaxTemp Day Four',\n",
              " 'MaxTemp Day Five',\n",
              " 'MinTemp Day One',\n",
              " 'MinTemp Day Two',\n",
              " 'MinTemp Day Three',\n",
              " 'MinTemp Day Four',\n",
              " 'MinTemp Day Five',\n",
              " 'Humidity Day One',\n",
              " 'Humidity Day Two',\n",
              " 'Humidity Day Three',\n",
              " 'Humidity Day Four',\n",
              " 'Humidity Day Five',\n",
              " 'Fire',\n",
              " 'tmp avg',\n",
              " 'tmpMax avg',\n",
              " 'tmpMin avg',\n",
              " 'hum avg',\n",
              " 'Counties_is_missing',\n",
              " 'Started_is_missing',\n",
              " 'AcresBurned_is_missing']"
            ]
          },
          "metadata": {},
          "execution_count": 136
        }
      ]
    },
    {
      "cell_type": "markdown",
      "metadata": {
        "id": "xKtcM6hAmoHs"
      },
      "source": [
        "# Model Training\n",
        "\n"
      ]
    },
    {
      "cell_type": "code",
      "metadata": {
        "id": "-oocBbZkqopU"
      },
      "source": [
        "class ModelsClass:\n",
        "  def __init__(self, X, y):\n",
        "    self.X = data[X].values\n",
        "    self.y = data[y].values\n",
        "    print(X)\n",
        "\n",
        "  def logisticReg(self):\n",
        "    X_train, X_test, y_train, y_test = train_test_split(self.X, self.y, test_size=0.33)\n",
        "\n",
        "    logreg = LogisticRegression(random_state=20191016, solver='lbfgs', max_iter= 1000)\n",
        "\n",
        "    logreg.fit(X_train, y_train.ravel())\n",
        "    self.score(X_test, y_test, logreg)\n",
        "\n",
        "  def logisticRegNormal(self):\n",
        "    scaler = StandardScaler()\n",
        "    scaled_train_features = scaler.fit_transform(self.X)\n",
        "\n",
        "    X_train, X_test, y_train, y_test = train_test_split(scaled_train_features, self.y, test_size=0.33)\n",
        "\n",
        "    logreg = LogisticRegression(random_state=20191016, solver='lbfgs', max_iter= 1000)\n",
        "\n",
        "    logreg.fit(X_train, y_train.ravel())\n",
        "    self.score(X_test, y_test, logreg)\n",
        "  \n",
        "  def RandomForest(self):\n",
        "    X_train, X_test, y_train, y_test = train_test_split(self.X, self.y, test_size=0.33)\n",
        "\n",
        "    random = RandomForestClassifier()\n",
        "\n",
        "    random.fit(X_train, y_train.ravel())\n",
        "    self.score(X_test, y_test, random)\n",
        "\n",
        "  def svc(self):\n",
        "    X_train, X_test, y_train, y_test = train_test_split(self.X, self.y, test_size=0.33)\n",
        "\n",
        "    svc = SVC()\n",
        "\n",
        "    svc.fit(X_train, y_train.ravel())\n",
        "    self.score(X_test, y_test, svc)\n",
        "\n",
        "  def score(self, a, b, model):\n",
        "    j = 0.000\n",
        "    for i in range(50):\n",
        "      j += model.score(a, b)\n",
        "    j = j / 50\n",
        "    print(\"The average score after running 50 times is : {avg:.2f}%\".format(avg = (j * 100)))"
      ],
      "execution_count": 17,
      "outputs": []
    },
    {
      "cell_type": "code",
      "metadata": {
        "id": "-u40G2t4qv_7",
        "colab": {
          "base_uri": "https://localhost:8080/"
        },
        "outputId": "9f96994f-868b-419d-e15e-52d76ff2a50a"
      },
      "source": [
        "a = ModelsClass(all_features, target)"
      ],
      "execution_count": 18,
      "outputs": [
        {
          "output_type": "stream",
          "name": "stdout",
          "text": [
            "['Temp Day One', 'Temp Day Two', 'Temp Day Three', 'Temp Day Four', 'Temp Day Five', 'MaxTemp Day One', 'MaxTemp Day Two', 'MaxTemp Day Three', 'MaxTemp Day Four', 'MaxTemp Day Five', 'MinTemp Day One', 'MinTemp Day Two', 'MinTemp Day Three', 'MinTemp Day Four', 'MinTemp Day Five', 'Humidity Day One', 'Humidity Day Two', 'Humidity Day Three', 'Humidity Day Four', 'Humidity Day Five']\n"
          ]
        }
      ]
    },
    {
      "cell_type": "code",
      "metadata": {
        "colab": {
          "base_uri": "https://localhost:8080/"
        },
        "id": "J99aQrOT2yPR",
        "outputId": "b3a86097-ccd0-4108-fa27-d744ac54ee24"
      },
      "source": [
        "a.logisticReg()"
      ],
      "execution_count": 19,
      "outputs": [
        {
          "output_type": "stream",
          "name": "stdout",
          "text": [
            "The average score after running 50 times is : 57.97%\n"
          ]
        }
      ]
    },
    {
      "cell_type": "markdown",
      "metadata": {
        "id": "TH644SUVtCD3"
      },
      "source": [
        "*Let's try normalizing the data and see if the accuracy changes.*"
      ]
    },
    {
      "cell_type": "code",
      "metadata": {
        "colab": {
          "base_uri": "https://localhost:8080/"
        },
        "id": "RgtYHgQpzICi",
        "outputId": "cac60cbd-d996-43fd-adb6-77bf4a3a915e"
      },
      "source": [
        "a.logisticRegNormal()"
      ],
      "execution_count": 20,
      "outputs": [
        {
          "output_type": "stream",
          "name": "stdout",
          "text": [
            "The average score after running 50 times is : 57.45%\n"
          ]
        }
      ]
    },
    {
      "cell_type": "markdown",
      "metadata": {
        "id": "MgOSnnyv3DiJ"
      },
      "source": [
        "**The accuracy seems to be the same. So let's maybe try a different model and see the result**"
      ]
    },
    {
      "cell_type": "markdown",
      "metadata": {
        "id": "QZZH_DdWeC8a"
      },
      "source": [
        "*Random Forest Classifier*"
      ]
    },
    {
      "cell_type": "code",
      "metadata": {
        "id": "xegnXHbd3BjL",
        "colab": {
          "base_uri": "https://localhost:8080/"
        },
        "outputId": "6c59a803-fe2c-4670-ab82-c720daa13856"
      },
      "source": [
        "a.RandomForest()"
      ],
      "execution_count": 21,
      "outputs": [
        {
          "output_type": "stream",
          "name": "stdout",
          "text": [
            "The average score after running 50 times is : 58.27%\n"
          ]
        }
      ]
    },
    {
      "cell_type": "markdown",
      "metadata": {
        "id": "l5RObXTJeHFh"
      },
      "source": [
        "*Support Vector Classifier*"
      ]
    },
    {
      "cell_type": "code",
      "metadata": {
        "colab": {
          "base_uri": "https://localhost:8080/"
        },
        "id": "Bme3wzNudH5i",
        "outputId": "c10a2cfe-45d0-4106-c568-7bfa240ec2fb"
      },
      "source": [
        "a.svc()"
      ],
      "execution_count": 22,
      "outputs": [
        {
          "output_type": "stream",
          "name": "stdout",
          "text": [
            "The average score after running 50 times is : 57.97%\n"
          ]
        }
      ]
    },
    {
      "cell_type": "markdown",
      "metadata": {
        "id": "phlRg_9cdxz8"
      },
      "source": [
        "**The accuracy did not change even when we tried different models. This means that we need to modify our features.** \\\\\n",
        "*Note that if we increase the training dataset size the accuracy of models like the SVC does increase*"
      ]
    },
    {
      "cell_type": "markdown",
      "metadata": {
        "id": "4u-6M8FEfkSB"
      },
      "source": [
        "## Approach #1"
      ]
    },
    {
      "cell_type": "markdown",
      "metadata": {
        "id": "bXfnZje2fqa2"
      },
      "source": [
        "*Instead of using all the value of the features let us look at the averages.*"
      ]
    },
    {
      "cell_type": "code",
      "metadata": {
        "id": "iPfHeSIOgX28"
      },
      "source": [
        "data['tmp avg'] = (data[\"Temp Day One\"] + data['Temp Day Two'] + data['Temp Day Three'] + data['Temp Day Four'] \n",
        "                   + data['Temp Day Five'])/5\n",
        "\n",
        "data['tmpMax avg'] = (data[\"MaxTemp Day One\"] + data['MaxTemp Day Two'] + data['MaxTemp Day Three'] + data['MaxTemp Day Four'] \n",
        "                   + data['MaxTemp Day Five'])/5\n",
        "\n",
        "data['tmpMin avg'] = (data[\"MinTemp Day One\"] + data['MinTemp Day Two'] + data['MinTemp Day Three'] + data['MinTemp Day Four'] \n",
        "                   + data['MinTemp Day Five'])/5\n"
      ],
      "execution_count": 23,
      "outputs": []
    },
    {
      "cell_type": "code",
      "metadata": {
        "id": "NLvxgv1pdt06"
      },
      "source": [
        "data['hum avg'] = (data[\"Humidity Day One\"] + data['Humidity Day Two'] + data['Humidity Day Three'] + data['Humidity Day Four'] + data['Humidity Day Five'])/5"
      ],
      "execution_count": 24,
      "outputs": []
    },
    {
      "cell_type": "code",
      "metadata": {
        "id": "fGAa3J6NhULQ"
      },
      "source": [
        "all_features = list(data.columns)[27:-2]"
      ],
      "execution_count": 25,
      "outputs": []
    },
    {
      "cell_type": "code",
      "metadata": {
        "colab": {
          "base_uri": "https://localhost:8080/"
        },
        "id": "hdtfFzAqiAmt",
        "outputId": "5ec4a3b9-f9db-4810-e339-54026e360adb"
      },
      "source": [
        "list(data.columns)[27: -2]"
      ],
      "execution_count": 26,
      "outputs": [
        {
          "output_type": "execute_result",
          "data": {
            "text/plain": [
              "['tmp avg', 'tmpMax avg']"
            ]
          },
          "metadata": {},
          "execution_count": 26
        }
      ]
    },
    {
      "cell_type": "code",
      "metadata": {
        "colab": {
          "base_uri": "https://localhost:8080/"
        },
        "id": "Ev0_g3j9hUHv",
        "outputId": "2f2c4677-a266-4913-8da2-26c493f0402c"
      },
      "source": [
        "b = ModelsClass(all_features, target)"
      ],
      "execution_count": 27,
      "outputs": [
        {
          "output_type": "stream",
          "name": "stdout",
          "text": [
            "['tmp avg', 'tmpMax avg']\n"
          ]
        }
      ]
    },
    {
      "cell_type": "code",
      "metadata": {
        "colab": {
          "base_uri": "https://localhost:8080/"
        },
        "id": "L6xRGFzIhUEW",
        "outputId": "4480e278-690f-44ae-ce87-35264a4bacd0"
      },
      "source": [
        "b.logisticReg()"
      ],
      "execution_count": 28,
      "outputs": [
        {
          "output_type": "stream",
          "name": "stdout",
          "text": [
            "The average score after running 50 times is : 49.02%\n"
          ]
        }
      ]
    },
    {
      "cell_type": "code",
      "metadata": {
        "colab": {
          "base_uri": "https://localhost:8080/"
        },
        "id": "Q2cR1X_biR-B",
        "outputId": "9a75a73f-9773-4519-8bc0-af2a440cefc2"
      },
      "source": [
        "b.logisticRegNormal()"
      ],
      "execution_count": 29,
      "outputs": [
        {
          "output_type": "stream",
          "name": "stdout",
          "text": [
            "The average score after running 50 times is : 47.79%\n"
          ]
        }
      ]
    },
    {
      "cell_type": "code",
      "metadata": {
        "colab": {
          "base_uri": "https://localhost:8080/"
        },
        "id": "WMidN2VPiTDa",
        "outputId": "59262d8d-7478-4549-bad9-ee226443f38f"
      },
      "source": [
        "b.RandomForest()"
      ],
      "execution_count": 30,
      "outputs": [
        {
          "output_type": "stream",
          "name": "stdout",
          "text": [
            "The average score after running 50 times is : 50.57%\n"
          ]
        }
      ]
    },
    {
      "cell_type": "code",
      "metadata": {
        "colab": {
          "base_uri": "https://localhost:8080/"
        },
        "id": "6WiDHv0viVW6",
        "outputId": "8389d74d-a0e0-46df-c8a3-e968fd529948"
      },
      "source": [
        "b.svc()"
      ],
      "execution_count": 31,
      "outputs": [
        {
          "output_type": "stream",
          "name": "stdout",
          "text": [
            "The average score after running 50 times is : 49.02%\n"
          ]
        }
      ]
    },
    {
      "cell_type": "markdown",
      "metadata": {
        "id": "fVVyxPPNiQai"
      },
      "source": [
        "*Using the averages does not change anything*"
      ]
    },
    {
      "cell_type": "markdown",
      "metadata": {
        "id": "1oalyQrau7Qu"
      },
      "source": [
        "#**Another Model**\n",
        "\n"
      ]
    },
    {
      "cell_type": "markdown",
      "metadata": {
        "id": "kQg2OZdpvJIV"
      },
      "source": [
        "First we will check if our dataset is ready to process without any missing values.If there is missing values we will take care of that for the accuracy of our model."
      ]
    },
    {
      "cell_type": "code",
      "metadata": {
        "id": "yBM4XCsQhT6R",
        "colab": {
          "base_uri": "https://localhost:8080/"
        },
        "outputId": "86726b9d-f3f9-4467-99d4-f96224ced902"
      },
      "source": [
        "data.isna().sum()"
      ],
      "execution_count": 32,
      "outputs": [
        {
          "output_type": "execute_result",
          "data": {
            "text/plain": [
              "AcresBurned           618\n",
              "Counties                0\n",
              "Latitude                0\n",
              "Longitude               0\n",
              "Started                 0\n",
              "FIPS                    8\n",
              "Temp Day One            0\n",
              "Temp Day Two            0\n",
              "Temp Day Three          0\n",
              "Temp Day Four           0\n",
              "Temp Day Five           0\n",
              "MaxTemp Day One         0\n",
              "MaxTemp Day Two         0\n",
              "MaxTemp Day Three       0\n",
              "MaxTemp Day Four        0\n",
              "MaxTemp Day Five        0\n",
              "MinTemp Day One         0\n",
              "MinTemp Day Two         0\n",
              "MinTemp Day Three       0\n",
              "MinTemp Day Four        0\n",
              "MinTemp Day Five        0\n",
              "Humidity Day One        0\n",
              "Humidity Day Two        0\n",
              "Humidity Day Three      0\n",
              "Humidity Day Four       0\n",
              "Humidity Day Five       0\n",
              "Fire                    0\n",
              "tmp avg                 0\n",
              "tmpMax avg              0\n",
              "tmpMin avg              0\n",
              "hum avg                 0\n",
              "dtype: int64"
            ]
          },
          "metadata": {},
          "execution_count": 32
        }
      ]
    },
    {
      "cell_type": "markdown",
      "metadata": {
        "id": "cp9mQssP-Lat"
      },
      "source": [
        "We need to fill the missing 618 values of \"Acresburned\" in order to drive maximum accuracy of our model. We will track if the value is missing with T/F. So after \n",
        "filling the column we should see AcresBurned with comments \"is_missing\" as False which means there is no missing."
      ]
    },
    {
      "cell_type": "code",
      "metadata": {
        "colab": {
          "base_uri": "https://localhost:8080/"
        },
        "id": "CBZPceIiB91U",
        "outputId": "b2ccdc72-1299-4318-bd73-153c99218637"
      },
      "source": [
        "data.info()"
      ],
      "execution_count": 33,
      "outputs": [
        {
          "output_type": "stream",
          "name": "stdout",
          "text": [
            "<class 'pandas.core.frame.DataFrame'>\n",
            "Int64Index: 2946 entries, 0 to 2945\n",
            "Data columns (total 31 columns):\n",
            " #   Column              Non-Null Count  Dtype  \n",
            "---  ------              --------------  -----  \n",
            " 0   AcresBurned         2328 non-null   float64\n",
            " 1   Counties            2946 non-null   object \n",
            " 2   Latitude            2946 non-null   float64\n",
            " 3   Longitude           2946 non-null   float64\n",
            " 4   Started             2946 non-null   object \n",
            " 5   FIPS                2938 non-null   float64\n",
            " 6   Temp Day One        2946 non-null   float64\n",
            " 7   Temp Day Two        2946 non-null   float64\n",
            " 8   Temp Day Three      2946 non-null   float64\n",
            " 9   Temp Day Four       2946 non-null   float64\n",
            " 10  Temp Day Five       2946 non-null   float64\n",
            " 11  MaxTemp Day One     2946 non-null   float64\n",
            " 12  MaxTemp Day Two     2946 non-null   float64\n",
            " 13  MaxTemp Day Three   2946 non-null   float64\n",
            " 14  MaxTemp Day Four    2946 non-null   float64\n",
            " 15  MaxTemp Day Five    2946 non-null   float64\n",
            " 16  MinTemp Day One     2946 non-null   float64\n",
            " 17  MinTemp Day Two     2946 non-null   float64\n",
            " 18  MinTemp Day Three   2946 non-null   float64\n",
            " 19  MinTemp Day Four    2946 non-null   float64\n",
            " 20  MinTemp Day Five    2946 non-null   float64\n",
            " 21  Humidity Day One    2946 non-null   float64\n",
            " 22  Humidity Day Two    2946 non-null   float64\n",
            " 23  Humidity Day Three  2946 non-null   float64\n",
            " 24  Humidity Day Four   2946 non-null   float64\n",
            " 25  Humidity Day Five   2946 non-null   float64\n",
            " 26  Fire                2946 non-null   int64  \n",
            " 27  tmp avg             2946 non-null   float64\n",
            " 28  tmpMax avg          2946 non-null   float64\n",
            " 29  tmpMin avg          2946 non-null   float64\n",
            " 30  hum avg             2946 non-null   float64\n",
            "dtypes: float64(28), int64(1), object(2)\n",
            "memory usage: 736.5+ KB\n"
          ]
        }
      ]
    },
    {
      "cell_type": "code",
      "metadata": {
        "id": "JzGfl30PrF48"
      },
      "source": [
        ""
      ],
      "execution_count": 101,
      "outputs": []
    },
    {
      "cell_type": "code",
      "metadata": {
        "id": "PbUmVJDwBsLp"
      },
      "source": [
        "# Fill numeric rows with the median\n",
        "for label, content in data.items():\n",
        "    if pd.api.types.is_numeric_dtype(content):\n",
        "        if pd.isnull(content).sum():\n",
        "            # Add a binary column which tells if the data was missing our not\n",
        "            data[label+\"_is_missing\"] = pd.isnull(content)\n",
        "            # Fill missing numeric values with median since it's more robust than the mean\n",
        "            data[label] = content.fillna(content.median())"
      ],
      "execution_count": 34,
      "outputs": []
    },
    {
      "cell_type": "code",
      "metadata": {
        "id": "9V_PUiPKrGUY"
      },
      "source": [
        "# Check if there's any null values\n",
        "for label, content in data.items():\n",
        "    if pd.api.types.is_numeric_dtype(content):\n",
        "        if pd.isnull(content).sum():\n",
        "            print(label)\n"
      ],
      "execution_count": 35,
      "outputs": []
    },
    {
      "cell_type": "code",
      "metadata": {
        "colab": {
          "base_uri": "https://localhost:8080/"
        },
        "id": "GJGbtFAJ7SUe",
        "outputId": "7ef7a5e8-2a16-4a48-b6f3-f99d7dee073c"
      },
      "source": [
        "# Check columns which aren't numeric\n",
        "for label, content in data.items():\n",
        "    if not pd.api.types.is_numeric_dtype(content):\n",
        "        print(label)"
      ],
      "execution_count": 44,
      "outputs": [
        {
          "output_type": "stream",
          "name": "stdout",
          "text": [
            "Counties\n",
            "Started\n"
          ]
        }
      ]
    },
    {
      "cell_type": "code",
      "metadata": {
        "id": "z9iDxRLS7bOq"
      },
      "source": [
        "# Turn \"Countries\" & \"Started\" into numbers\n",
        "for label, content in data.items():\n",
        "    # Check columns which *aren't* numeric\n",
        "    if not pd.api.types.is_numeric_dtype(content):\n",
        "        # Add binary column to inidicate whether sample had missing value\n",
        "        data[label+\"_is_missing\"] = pd.isnull(content)\n",
        "        # We add the +1 because pandas encodes missing categories as -1\n",
        "        data[label] = pd.Categorical(content).codes+1 "
      ],
      "execution_count": 45,
      "outputs": []
    },
    {
      "cell_type": "code",
      "metadata": {
        "id": "-kt4PKhArGm2",
        "colab": {
          "base_uri": "https://localhost:8080/"
        },
        "outputId": "1c458313-f095-4773-8835-1f925bc12159"
      },
      "source": [
        "data.isna().sum()"
      ],
      "execution_count": 46,
      "outputs": [
        {
          "output_type": "execute_result",
          "data": {
            "text/plain": [
              "AcresBurned               0\n",
              "Counties                  0\n",
              "Latitude                  0\n",
              "Longitude                 0\n",
              "Started                   0\n",
              "FIPS                      0\n",
              "Temp Day One              0\n",
              "Temp Day Two              0\n",
              "Temp Day Three            0\n",
              "Temp Day Four             0\n",
              "Temp Day Five             0\n",
              "MaxTemp Day One           0\n",
              "MaxTemp Day Two           0\n",
              "MaxTemp Day Three         0\n",
              "MaxTemp Day Four          0\n",
              "MaxTemp Day Five          0\n",
              "MinTemp Day One           0\n",
              "MinTemp Day Two           0\n",
              "MinTemp Day Three         0\n",
              "MinTemp Day Four          0\n",
              "MinTemp Day Five          0\n",
              "Humidity Day One          0\n",
              "Humidity Day Two          0\n",
              "Humidity Day Three        0\n",
              "Humidity Day Four         0\n",
              "Humidity Day Five         0\n",
              "Fire                      0\n",
              "tmp avg                   0\n",
              "tmpMax avg                0\n",
              "tmpMin avg                0\n",
              "hum avg                   0\n",
              "AcresBurned_is_missing    0\n",
              "FIPS_is_missing           0\n",
              "Counties_is_missing       0\n",
              "Started_is_missing        0\n",
              "dtype: int64"
            ]
          },
          "metadata": {},
          "execution_count": 46
        }
      ]
    },
    {
      "cell_type": "markdown",
      "metadata": {
        "id": "WjZts6KMv5Rz"
      },
      "source": [
        "## Now all of our data is numeric and there are no missing values, we should be able to build a machine learning model!"
      ]
    },
    {
      "cell_type": "code",
      "metadata": {
        "colab": {
          "base_uri": "https://localhost:8080/"
        },
        "id": "NK3ucLVxzsXN",
        "outputId": "f11be7ef-cd5a-45d5-9f3f-c659ce77f7ac"
      },
      "source": [
        "len(data)"
      ],
      "execution_count": 47,
      "outputs": [
        {
          "output_type": "execute_result",
          "data": {
            "text/plain": [
              "2946"
            ]
          },
          "metadata": {},
          "execution_count": 47
        }
      ]
    },
    {
      "cell_type": "markdown",
      "metadata": {
        "id": "BJaGQ8zszvDr"
      },
      "source": [
        ""
      ]
    },
    {
      "cell_type": "code",
      "metadata": {
        "id": "SdKEoBN9rG44",
        "colab": {
          "base_uri": "https://localhost:8080/"
        },
        "outputId": "f56487ec-de77-4d60-a934-270e38a488b3"
      },
      "source": [
        "#How many acres per county are burnt by Wildfires?\n",
        "%%time\n",
        "# Instantiate model\n",
        "model = RandomForestRegressor(n_jobs=-1,random_state=42)\n",
        "\n",
        "# Fit the model\n",
        "model.fit(data.drop(\"AcresBurned\", axis=1), data.AcresBurned)"
      ],
      "execution_count": 48,
      "outputs": [
        {
          "output_type": "stream",
          "name": "stdout",
          "text": [
            "CPU times: user 3.92 s, sys: 34.6 ms, total: 3.96 s\n",
            "Wall time: 2.18 s\n"
          ]
        }
      ]
    },
    {
      "cell_type": "markdown",
      "metadata": {
        "id": "878EX5VP0RFK"
      },
      "source": [
        "We have almost 2946 values so we will track how much time it will take a forestregression model.we will instantiate a random forest model with random state 42. It takes about 2.26s to go through the model which took fairly less time considering the data cleaning that we have done in out dataset.In the regression model, the default score value is upto R^2 which is 1 .  When we scored the model it came 0.905...\n"
      ]
    },
    {
      "cell_type": "code",
      "metadata": {
        "colab": {
          "base_uri": "https://localhost:8080/"
        },
        "id": "43B0TbThwy8R",
        "outputId": "7a6caba6-1793-4526-c8c5-64708c53c417"
      },
      "source": [
        "# Score the model\n",
        "model.score(data.drop(\"AcresBurned\", axis=1), data.AcresBurned)"
      ],
      "execution_count": 49,
      "outputs": [
        {
          "output_type": "execute_result",
          "data": {
            "text/plain": [
              "0.9043291170879522"
            ]
          },
          "metadata": {},
          "execution_count": 49
        }
      ]
    },
    {
      "cell_type": "code",
      "metadata": {
        "id": "IKAyZ21zRZk3"
      },
      "source": [
        ""
      ],
      "execution_count": 188,
      "outputs": []
    },
    {
      "cell_type": "code",
      "metadata": {
        "id": "h_cnkUFOUDPb"
      },
      "source": [
        ""
      ],
      "execution_count": 188,
      "outputs": []
    },
    {
      "cell_type": "markdown",
      "metadata": {
        "id": "jF8BI5hMUDol"
      },
      "source": [
        "Given **all_features** can we predict a **Fire**?"
      ]
    },
    {
      "cell_type": "code",
      "metadata": {
        "id": "P0m6BjQEy7hh"
      },
      "source": [
        "# lets make our training set (Split data into X and y)\n",
        "X = data.drop([\"AcresBurned\",\"Counties\",\"Latitude\",\"Longitude\",\"Started\",\"FIPS\",\"Fire\"], axis=1)\n",
        "\n",
        "y = data[\"Fire\"]"
      ],
      "execution_count": 193,
      "outputs": []
    },
    {
      "cell_type": "code",
      "metadata": {
        "colab": {
          "base_uri": "https://localhost:8080/",
          "height": 478
        },
        "id": "lw6Ae-_Y5Zl3",
        "outputId": "2a41094b-d2e8-4920-f4ef-974c1cac14c6"
      },
      "source": [
        "X"
      ],
      "execution_count": 194,
      "outputs": [
        {
          "output_type": "execute_result",
          "data": {
            "text/html": [
              "<div>\n",
              "<style scoped>\n",
              "    .dataframe tbody tr th:only-of-type {\n",
              "        vertical-align: middle;\n",
              "    }\n",
              "\n",
              "    .dataframe tbody tr th {\n",
              "        vertical-align: top;\n",
              "    }\n",
              "\n",
              "    .dataframe thead th {\n",
              "        text-align: right;\n",
              "    }\n",
              "</style>\n",
              "<table border=\"1\" class=\"dataframe\">\n",
              "  <thead>\n",
              "    <tr style=\"text-align: right;\">\n",
              "      <th></th>\n",
              "      <th>Temp Day One</th>\n",
              "      <th>Temp Day Two</th>\n",
              "      <th>Temp Day Three</th>\n",
              "      <th>Temp Day Four</th>\n",
              "      <th>Temp Day Five</th>\n",
              "      <th>MaxTemp Day One</th>\n",
              "      <th>MaxTemp Day Two</th>\n",
              "      <th>MaxTemp Day Three</th>\n",
              "      <th>MaxTemp Day Four</th>\n",
              "      <th>MaxTemp Day Five</th>\n",
              "      <th>MinTemp Day One</th>\n",
              "      <th>MinTemp Day Two</th>\n",
              "      <th>MinTemp Day Three</th>\n",
              "      <th>MinTemp Day Four</th>\n",
              "      <th>MinTemp Day Five</th>\n",
              "      <th>Humidity Day One</th>\n",
              "      <th>Humidity Day Two</th>\n",
              "      <th>Humidity Day Three</th>\n",
              "      <th>Humidity Day Four</th>\n",
              "      <th>Humidity Day Five</th>\n",
              "      <th>tmp avg</th>\n",
              "      <th>tmpMax avg</th>\n",
              "      <th>tmpMin avg</th>\n",
              "      <th>hum avg</th>\n",
              "      <th>Counties_is_missing</th>\n",
              "      <th>Started_is_missing</th>\n",
              "      <th>AcresBurned_is_missing</th>\n",
              "      <th>FIPS_is_missing</th>\n",
              "    </tr>\n",
              "  </thead>\n",
              "  <tbody>\n",
              "    <tr>\n",
              "      <th>0</th>\n",
              "      <td>74.0</td>\n",
              "      <td>78.0</td>\n",
              "      <td>79.0</td>\n",
              "      <td>79.0</td>\n",
              "      <td>80.0</td>\n",
              "      <td>83.0</td>\n",
              "      <td>87.0</td>\n",
              "      <td>88.0</td>\n",
              "      <td>88.0</td>\n",
              "      <td>89.0</td>\n",
              "      <td>50.0</td>\n",
              "      <td>52.0</td>\n",
              "      <td>52.0</td>\n",
              "      <td>52.0</td>\n",
              "      <td>54.0</td>\n",
              "      <td>38.000</td>\n",
              "      <td>33.000</td>\n",
              "      <td>34.000</td>\n",
              "      <td>35.125</td>\n",
              "      <td>33.000</td>\n",
              "      <td>78.0</td>\n",
              "      <td>87.0</td>\n",
              "      <td>52.0</td>\n",
              "      <td>34.625</td>\n",
              "      <td>False</td>\n",
              "      <td>False</td>\n",
              "      <td>False</td>\n",
              "      <td>False</td>\n",
              "    </tr>\n",
              "    <tr>\n",
              "      <th>1</th>\n",
              "      <td>72.0</td>\n",
              "      <td>72.0</td>\n",
              "      <td>75.0</td>\n",
              "      <td>73.0</td>\n",
              "      <td>78.0</td>\n",
              "      <td>82.0</td>\n",
              "      <td>82.0</td>\n",
              "      <td>86.0</td>\n",
              "      <td>83.0</td>\n",
              "      <td>87.0</td>\n",
              "      <td>42.0</td>\n",
              "      <td>43.0</td>\n",
              "      <td>45.0</td>\n",
              "      <td>46.0</td>\n",
              "      <td>47.0</td>\n",
              "      <td>46.000</td>\n",
              "      <td>46.500</td>\n",
              "      <td>40.625</td>\n",
              "      <td>53.875</td>\n",
              "      <td>39.625</td>\n",
              "      <td>74.0</td>\n",
              "      <td>84.0</td>\n",
              "      <td>44.6</td>\n",
              "      <td>45.325</td>\n",
              "      <td>False</td>\n",
              "      <td>False</td>\n",
              "      <td>False</td>\n",
              "      <td>False</td>\n",
              "    </tr>\n",
              "    <tr>\n",
              "      <th>2</th>\n",
              "      <td>82.0</td>\n",
              "      <td>77.0</td>\n",
              "      <td>79.0</td>\n",
              "      <td>82.0</td>\n",
              "      <td>84.0</td>\n",
              "      <td>88.0</td>\n",
              "      <td>82.0</td>\n",
              "      <td>84.0</td>\n",
              "      <td>88.0</td>\n",
              "      <td>90.0</td>\n",
              "      <td>66.0</td>\n",
              "      <td>65.0</td>\n",
              "      <td>65.0</td>\n",
              "      <td>66.0</td>\n",
              "      <td>68.0</td>\n",
              "      <td>34.750</td>\n",
              "      <td>51.375</td>\n",
              "      <td>48.375</td>\n",
              "      <td>27.875</td>\n",
              "      <td>27.000</td>\n",
              "      <td>80.8</td>\n",
              "      <td>86.4</td>\n",
              "      <td>66.0</td>\n",
              "      <td>37.875</td>\n",
              "      <td>False</td>\n",
              "      <td>False</td>\n",
              "      <td>False</td>\n",
              "      <td>False</td>\n",
              "    </tr>\n",
              "    <tr>\n",
              "      <th>3</th>\n",
              "      <td>74.0</td>\n",
              "      <td>73.0</td>\n",
              "      <td>68.0</td>\n",
              "      <td>67.0</td>\n",
              "      <td>67.0</td>\n",
              "      <td>85.0</td>\n",
              "      <td>83.0</td>\n",
              "      <td>77.0</td>\n",
              "      <td>77.0</td>\n",
              "      <td>78.0</td>\n",
              "      <td>45.0</td>\n",
              "      <td>44.0</td>\n",
              "      <td>45.0</td>\n",
              "      <td>41.0</td>\n",
              "      <td>40.0</td>\n",
              "      <td>44.625</td>\n",
              "      <td>42.750</td>\n",
              "      <td>53.125</td>\n",
              "      <td>56.250</td>\n",
              "      <td>53.000</td>\n",
              "      <td>69.8</td>\n",
              "      <td>80.0</td>\n",
              "      <td>43.0</td>\n",
              "      <td>49.950</td>\n",
              "      <td>False</td>\n",
              "      <td>False</td>\n",
              "      <td>False</td>\n",
              "      <td>False</td>\n",
              "    </tr>\n",
              "    <tr>\n",
              "      <th>4</th>\n",
              "      <td>68.0</td>\n",
              "      <td>71.0</td>\n",
              "      <td>74.0</td>\n",
              "      <td>75.0</td>\n",
              "      <td>74.0</td>\n",
              "      <td>76.0</td>\n",
              "      <td>80.0</td>\n",
              "      <td>82.0</td>\n",
              "      <td>84.0</td>\n",
              "      <td>82.0</td>\n",
              "      <td>46.0</td>\n",
              "      <td>52.0</td>\n",
              "      <td>55.0</td>\n",
              "      <td>57.0</td>\n",
              "      <td>54.0</td>\n",
              "      <td>29.375</td>\n",
              "      <td>28.125</td>\n",
              "      <td>27.250</td>\n",
              "      <td>25.000</td>\n",
              "      <td>34.000</td>\n",
              "      <td>72.4</td>\n",
              "      <td>80.8</td>\n",
              "      <td>52.8</td>\n",
              "      <td>28.750</td>\n",
              "      <td>False</td>\n",
              "      <td>False</td>\n",
              "      <td>False</td>\n",
              "      <td>False</td>\n",
              "    </tr>\n",
              "    <tr>\n",
              "      <th>...</th>\n",
              "      <td>...</td>\n",
              "      <td>...</td>\n",
              "      <td>...</td>\n",
              "      <td>...</td>\n",
              "      <td>...</td>\n",
              "      <td>...</td>\n",
              "      <td>...</td>\n",
              "      <td>...</td>\n",
              "      <td>...</td>\n",
              "      <td>...</td>\n",
              "      <td>...</td>\n",
              "      <td>...</td>\n",
              "      <td>...</td>\n",
              "      <td>...</td>\n",
              "      <td>...</td>\n",
              "      <td>...</td>\n",
              "      <td>...</td>\n",
              "      <td>...</td>\n",
              "      <td>...</td>\n",
              "      <td>...</td>\n",
              "      <td>...</td>\n",
              "      <td>...</td>\n",
              "      <td>...</td>\n",
              "      <td>...</td>\n",
              "      <td>...</td>\n",
              "      <td>...</td>\n",
              "      <td>...</td>\n",
              "      <td>...</td>\n",
              "    </tr>\n",
              "    <tr>\n",
              "      <th>2941</th>\n",
              "      <td>70.0</td>\n",
              "      <td>69.0</td>\n",
              "      <td>77.0</td>\n",
              "      <td>65.0</td>\n",
              "      <td>71.0</td>\n",
              "      <td>74.0</td>\n",
              "      <td>74.0</td>\n",
              "      <td>85.0</td>\n",
              "      <td>67.0</td>\n",
              "      <td>78.0</td>\n",
              "      <td>63.0</td>\n",
              "      <td>63.0</td>\n",
              "      <td>69.0</td>\n",
              "      <td>64.0</td>\n",
              "      <td>64.0</td>\n",
              "      <td>59.500</td>\n",
              "      <td>56.375</td>\n",
              "      <td>48.625</td>\n",
              "      <td>73.750</td>\n",
              "      <td>64.875</td>\n",
              "      <td>70.4</td>\n",
              "      <td>75.6</td>\n",
              "      <td>64.6</td>\n",
              "      <td>60.625</td>\n",
              "      <td>False</td>\n",
              "      <td>False</td>\n",
              "      <td>False</td>\n",
              "      <td>False</td>\n",
              "    </tr>\n",
              "    <tr>\n",
              "      <th>2942</th>\n",
              "      <td>73.0</td>\n",
              "      <td>79.0</td>\n",
              "      <td>87.0</td>\n",
              "      <td>86.0</td>\n",
              "      <td>84.0</td>\n",
              "      <td>79.0</td>\n",
              "      <td>86.0</td>\n",
              "      <td>96.0</td>\n",
              "      <td>93.0</td>\n",
              "      <td>90.0</td>\n",
              "      <td>57.0</td>\n",
              "      <td>58.0</td>\n",
              "      <td>67.0</td>\n",
              "      <td>69.0</td>\n",
              "      <td>66.0</td>\n",
              "      <td>39.250</td>\n",
              "      <td>37.875</td>\n",
              "      <td>27.250</td>\n",
              "      <td>27.375</td>\n",
              "      <td>33.500</td>\n",
              "      <td>81.8</td>\n",
              "      <td>88.8</td>\n",
              "      <td>63.4</td>\n",
              "      <td>33.050</td>\n",
              "      <td>False</td>\n",
              "      <td>False</td>\n",
              "      <td>False</td>\n",
              "      <td>False</td>\n",
              "    </tr>\n",
              "    <tr>\n",
              "      <th>2943</th>\n",
              "      <td>58.0</td>\n",
              "      <td>58.0</td>\n",
              "      <td>55.0</td>\n",
              "      <td>59.0</td>\n",
              "      <td>55.0</td>\n",
              "      <td>64.0</td>\n",
              "      <td>64.0</td>\n",
              "      <td>57.0</td>\n",
              "      <td>63.0</td>\n",
              "      <td>57.0</td>\n",
              "      <td>50.0</td>\n",
              "      <td>50.0</td>\n",
              "      <td>51.0</td>\n",
              "      <td>53.0</td>\n",
              "      <td>51.0</td>\n",
              "      <td>64.250</td>\n",
              "      <td>63.625</td>\n",
              "      <td>86.000</td>\n",
              "      <td>83.875</td>\n",
              "      <td>82.875</td>\n",
              "      <td>57.0</td>\n",
              "      <td>61.0</td>\n",
              "      <td>51.0</td>\n",
              "      <td>76.125</td>\n",
              "      <td>False</td>\n",
              "      <td>False</td>\n",
              "      <td>False</td>\n",
              "      <td>False</td>\n",
              "    </tr>\n",
              "    <tr>\n",
              "      <th>2944</th>\n",
              "      <td>67.0</td>\n",
              "      <td>68.0</td>\n",
              "      <td>71.0</td>\n",
              "      <td>71.0</td>\n",
              "      <td>77.0</td>\n",
              "      <td>72.0</td>\n",
              "      <td>73.0</td>\n",
              "      <td>75.0</td>\n",
              "      <td>76.0</td>\n",
              "      <td>82.0</td>\n",
              "      <td>60.0</td>\n",
              "      <td>60.0</td>\n",
              "      <td>58.0</td>\n",
              "      <td>62.0</td>\n",
              "      <td>65.0</td>\n",
              "      <td>76.625</td>\n",
              "      <td>79.125</td>\n",
              "      <td>79.000</td>\n",
              "      <td>74.500</td>\n",
              "      <td>58.750</td>\n",
              "      <td>70.8</td>\n",
              "      <td>75.6</td>\n",
              "      <td>61.0</td>\n",
              "      <td>73.600</td>\n",
              "      <td>False</td>\n",
              "      <td>False</td>\n",
              "      <td>False</td>\n",
              "      <td>False</td>\n",
              "    </tr>\n",
              "    <tr>\n",
              "      <th>2945</th>\n",
              "      <td>73.0</td>\n",
              "      <td>65.0</td>\n",
              "      <td>65.0</td>\n",
              "      <td>68.0</td>\n",
              "      <td>70.0</td>\n",
              "      <td>79.0</td>\n",
              "      <td>72.0</td>\n",
              "      <td>75.0</td>\n",
              "      <td>76.0</td>\n",
              "      <td>80.0</td>\n",
              "      <td>57.0</td>\n",
              "      <td>50.0</td>\n",
              "      <td>48.0</td>\n",
              "      <td>49.0</td>\n",
              "      <td>49.0</td>\n",
              "      <td>49.375</td>\n",
              "      <td>17.875</td>\n",
              "      <td>18.125</td>\n",
              "      <td>31.125</td>\n",
              "      <td>31.000</td>\n",
              "      <td>68.2</td>\n",
              "      <td>76.4</td>\n",
              "      <td>50.6</td>\n",
              "      <td>29.500</td>\n",
              "      <td>False</td>\n",
              "      <td>False</td>\n",
              "      <td>False</td>\n",
              "      <td>False</td>\n",
              "    </tr>\n",
              "  </tbody>\n",
              "</table>\n",
              "<p>2946 rows × 28 columns</p>\n",
              "</div>"
            ],
            "text/plain": [
              "      Temp Day One  Temp Day Two  ...  AcresBurned_is_missing  FIPS_is_missing\n",
              "0             74.0          78.0  ...                   False            False\n",
              "1             72.0          72.0  ...                   False            False\n",
              "2             82.0          77.0  ...                   False            False\n",
              "3             74.0          73.0  ...                   False            False\n",
              "4             68.0          71.0  ...                   False            False\n",
              "...            ...           ...  ...                     ...              ...\n",
              "2941          70.0          69.0  ...                   False            False\n",
              "2942          73.0          79.0  ...                   False            False\n",
              "2943          58.0          58.0  ...                   False            False\n",
              "2944          67.0          68.0  ...                   False            False\n",
              "2945          73.0          65.0  ...                   False            False\n",
              "\n",
              "[2946 rows x 28 columns]"
            ]
          },
          "metadata": {},
          "execution_count": 194
        }
      ]
    },
    {
      "cell_type": "code",
      "metadata": {
        "colab": {
          "base_uri": "https://localhost:8080/"
        },
        "id": "tPjjYP585e4-",
        "outputId": "3b94042c-3993-4536-de86-445e2d075989"
      },
      "source": [
        "y"
      ],
      "execution_count": 195,
      "outputs": [
        {
          "output_type": "execute_result",
          "data": {
            "text/plain": [
              "0       1\n",
              "1       1\n",
              "2       1\n",
              "3       1\n",
              "4       1\n",
              "       ..\n",
              "2941    0\n",
              "2942    0\n",
              "2943    0\n",
              "2944    0\n",
              "2945    0\n",
              "Name: Fire, Length: 2946, dtype: int64"
            ]
          },
          "metadata": {},
          "execution_count": 195
        }
      ]
    },
    {
      "cell_type": "code",
      "metadata": {
        "id": "2SDWkjlm5p4p"
      },
      "source": [
        "# Split data into train and test sets\n",
        "np.random.seed(42)\n",
        "\n",
        "# Split into train & test set\n",
        "X_train, X_test, y_train, y_test = train_test_split(X,\n",
        "                                                    y,\n",
        "                                                    test_size=0.2)"
      ],
      "execution_count": 196,
      "outputs": []
    },
    {
      "cell_type": "code",
      "metadata": {
        "id": "EIvIgoQ16Aaw"
      },
      "source": [
        "# Put all our models in a dictionary\n",
        "models = {\"Logistic Regression\": LogisticRegression(),\n",
        "          \"KNN\": KNeighborsClassifier(),\n",
        "          \"Random Forest\": RandomForestClassifier()}\n",
        "\n",
        "def fit_and_score(models, X_train, X_test, y_train, y_test):\n",
        "    np.random.seed(42)\n",
        "    # Make a dictionary to keep model scores\n",
        "    model_scores = {}\n",
        "    # Loop through models\n",
        "    for name, model in models.items():\n",
        "        # Fit the model to the data\n",
        "        model.fit(X_train, y_train)\n",
        "        # Evaluate the model and append its score to model_scores\n",
        "        model_scores[name] = model.score(X_test, y_test)\n",
        "    return model_scores\n",
        "\n"
      ],
      "execution_count": 197,
      "outputs": []
    },
    {
      "cell_type": "code",
      "metadata": {
        "colab": {
          "base_uri": "https://localhost:8080/"
        },
        "id": "FEuiYtim6WJK",
        "outputId": "5e31d574-3c8b-479b-c92f-85c404fcbe10"
      },
      "source": [
        "\n",
        "model_scores = fit_and_score(models=models,\n",
        "                             X_train=X_train,\n",
        "                             X_test=X_test,\n",
        "                             y_train=y_train,\n",
        "                             y_test=y_test)\n",
        "\n",
        "model_scores"
      ],
      "execution_count": 198,
      "outputs": [
        {
          "output_type": "stream",
          "name": "stderr",
          "text": [
            "/usr/local/lib/python3.7/dist-packages/sklearn/linear_model/_logistic.py:818: ConvergenceWarning: lbfgs failed to converge (status=1):\n",
            "STOP: TOTAL NO. of ITERATIONS REACHED LIMIT.\n",
            "\n",
            "Increase the number of iterations (max_iter) or scale the data as shown in:\n",
            "    https://scikit-learn.org/stable/modules/preprocessing.html\n",
            "Please also refer to the documentation for alternative solver options:\n",
            "    https://scikit-learn.org/stable/modules/linear_model.html#logistic-regression\n",
            "  extra_warning_msg=_LOGISTIC_SOLVER_CONVERGENCE_MSG,\n"
          ]
        },
        {
          "output_type": "execute_result",
          "data": {
            "text/plain": [
              "{'KNN': 0.5644067796610169,\n",
              " 'Logistic Regression': 0.6677966101694915,\n",
              " 'Random Forest': 0.7016949152542373}"
            ]
          },
          "metadata": {},
          "execution_count": 198
        }
      ]
    },
    {
      "cell_type": "markdown",
      "metadata": {
        "id": "peasyEXX7Moy"
      },
      "source": [
        "Above we have got our data split into training and test sets, it's time to build a machine learning model to find the patterns on the training set and we will use the patterns on the test set.\n",
        "We have looked at three models \n",
        "\n",
        "\n",
        "*   Logistic Regression\n",
        "*   K-Nearest Neighbours Classifier\n",
        "*   Random Forest Classifier   \n",
        "\n",
        "Here is the result: \n",
        "1.   KNN: 0.5644067796610169\n",
        "2.   Logistic Regression: 0.6677966101694915\n",
        "3.   Random Forest': 0.7016949152542373\n",
        "\n",
        "\n",
        "---\n",
        "\n",
        "\n",
        "\n",
        "---\n",
        "\n",
        "Now we will try to otimize the KNN model which has approx **56%** accuracy.\n",
        "\n",
        "From the result we can see that the Random Forest Classifier has got the highest score **70%**.We can Create a visulaization to investigate the result.\n"
      ]
    },
    {
      "cell_type": "markdown",
      "metadata": {
        "id": "Ws0EC1GW6zdS"
      },
      "source": [
        "#**Model Comparison and Optimization**"
      ]
    },
    {
      "cell_type": "code",
      "metadata": {
        "colab": {
          "base_uri": "https://localhost:8080/",
          "height": 334
        },
        "id": "9TTl1WNP65e-",
        "outputId": "0897f22f-4de0-4e6b-ec5f-079cd86d7294"
      },
      "source": [
        "|model_compare = pd.DataFrame(model_scores, index=[\"Model Accuracy\"])\n",
        "model_compare.plot.bar();\n"
      ],
      "execution_count": 199,
      "outputs": [
        {
          "output_type": "display_data",
          "data": {
            "image/png": "[encoded data removed]",
            "text/plain": [
              "<Figure size 432x288 with 1 Axes>"
            ]
          },
          "metadata": {
            "needs_background": "light"
          }
        }
      ]
    },
    {
      "cell_type": "markdown",
      "metadata": {
        "id": "6ze3_meK8O4j"
      },
      "source": [
        "Now we've got a  model running and Let's look at tuning methods, We would want to better our KNN model which showed **78%** accuracy."
      ]
    },
    {
      "cell_type": "code",
      "metadata": {
        "id": "bTAC59T666FN"
      },
      "source": [
        "train_scores = []\n",
        "test_scores = []\n",
        "\n",
        "# Create a list of differnt values for n_neighbors\n",
        "neighbors = range(1, 21)\n",
        "\n",
        "# Setup KNN instance\n",
        "knn = KNeighborsClassifier()\n",
        "\n",
        "# Loop through different n_neighbors\n",
        "for i in neighbors:\n",
        "    knn.set_params(n_neighbors=i)\n",
        "    knn.fit(X_train, y_train)\n",
        "    \n",
        "    # Update the training scores list\n",
        "    train_scores.append(knn.score(X_train, y_train))\n",
        "    \n",
        "    # Update the test scores list\n",
        "    test_scores.append(knn.score(X_test, y_test))"
      ],
      "execution_count": 200,
      "outputs": []
    },
    {
      "cell_type": "code",
      "metadata": {
        "colab": {
          "base_uri": "https://localhost:8080/"
        },
        "id": "VQ7tnTGG72Re",
        "outputId": "ecaecd3f-3865-43d5-ba46-17f9cc9a09a1"
      },
      "source": [
        "train_scores"
      ],
      "execution_count": 201,
      "outputs": [
        {
          "output_type": "execute_result",
          "data": {
            "text/plain": [
              "[0.9991511035653651,\n",
              " 0.7780135823429541,\n",
              " 0.7729202037351444,\n",
              " 0.715195246179966,\n",
              " 0.7058573853989814,\n",
              " 0.683786078098472,\n",
              " 0.6880305602716469,\n",
              " 0.6706281833616299,\n",
              " 0.6752971137521222,\n",
              " 0.6604414261460102,\n",
              " 0.6642614601018676,\n",
              " 0.6502546689303905,\n",
              " 0.6464346349745331,\n",
              " 0.6443123938879457,\n",
              " 0.6519524617996605,\n",
              " 0.6383701188455009,\n",
              " 0.6421901528013583,\n",
              " 0.6320033955857386,\n",
              " 0.6383701188455009,\n",
              " 0.6307300509337861]"
            ]
          },
          "metadata": {},
          "execution_count": 201
        }
      ]
    },
    {
      "cell_type": "code",
      "metadata": {
        "colab": {
          "base_uri": "https://localhost:8080/"
        },
        "id": "WElrVjmV79T_",
        "outputId": "0c5a9afd-3430-485a-a3af-431e63e81fbf"
      },
      "source": [
        "test_scores"
      ],
      "execution_count": 202,
      "outputs": [
        {
          "output_type": "execute_result",
          "data": {
            "text/plain": [
              "[0.5457627118644067,\n",
              " 0.5813559322033899,\n",
              " 0.5745762711864407,\n",
              " 0.5542372881355933,\n",
              " 0.5644067796610169,\n",
              " 0.5627118644067797,\n",
              " 0.5440677966101695,\n",
              " 0.5491525423728814,\n",
              " 0.5576271186440678,\n",
              " 0.5542372881355933,\n",
              " 0.5677966101694916,\n",
              " 0.5525423728813559,\n",
              " 0.5644067796610169,\n",
              " 0.5559322033898305,\n",
              " 0.5644067796610169,\n",
              " 0.5525423728813559,\n",
              " 0.5711864406779661,\n",
              " 0.5576271186440678,\n",
              " 0.5627118644067797,\n",
              " 0.5542372881355933]"
            ]
          },
          "metadata": {},
          "execution_count": 202
        }
      ]
    },
    {
      "cell_type": "code",
      "metadata": {
        "colab": {
          "base_uri": "https://localhost:8080/",
          "height": 297
        },
        "id": "HN1GglyE7_um",
        "outputId": "86a65774-3152-4be3-ac1f-cc4784cd2d64"
      },
      "source": [
        "plt.plot(neighbors, train_scores, label=\"Train score\")\n",
        "plt.plot(neighbors, test_scores, label=\"Test score\")\n",
        "plt.xticks(np.arange(1, 21, 1))\n",
        "plt.xlabel(\"Number of neighbors\")\n",
        "plt.ylabel(\"Our Model score\")\n",
        "plt.legend()\n",
        "\n",
        "print(f\"The Maximum KNN score on our test data: {max(test_scores)*100:.2f}%\")"
      ],
      "execution_count": 203,
      "outputs": [
        {
          "output_type": "stream",
          "name": "stdout",
          "text": [
            "The Maximum KNN score on our test data: 58.14%\n"
          ]
        },
        {
          "output_type": "display_data",
          "data": {
            "image/png": "[encoded data removed]",
            "text/plain": [
              "<Figure size 432x288 with 1 Axes>"
            ]
          },
          "metadata": {
            "needs_background": "light"
          }
        }
      ]
    },
    {
      "cell_type": "markdown",
      "metadata": {
        "id": "JZd8NKALEm-L"
      },
      "source": [
        "If we pay attention to out test score which is in orange line, the highest value is about in 2(number of neighbors). The default is 5 [KNN_Neighbors_Classifier](https://scikit-learn.org/stable/modules/generated/sklearn.neighbors.KNeighborsClassifier.html). we just did some hyperparameter tuning to better our KNN\n",
        " and the result improved from **56%** to **58.14%**. "
      ]
    },
    {
      "cell_type": "markdown",
      "metadata": {
        "id": "45SIaX9_AjmF"
      },
      "source": [
        "We're going to tune:\n",
        "**LogisticRegression()** which got the second highest score. In order to acheive that we are going to get hyperparameter grids setup for our  scored model and tune it using [RandomizedSearchCV](https://www.programcreek.com/python/example/91146/sklearn.model_selection.RandomizedSearchCV) and [Tuning _LogisticRegression](https://scikit-learn.org/stable/modules/generated/sklearn.linear_model.LogisticRegression.html). There's few hyperparameter we can tune, And we chose C from the documentation. \n"
      ]
    },
    {
      "cell_type": "code",
      "metadata": {
        "id": "DTvj2BY4A6Lk",
        "colab": {
          "base_uri": "https://localhost:8080/"
        },
        "outputId": "0a7313e6-baca-4597-ed65-85c566a6a8b8"
      },
      "source": [
        "# Create a hyperparameter grid for LogisticRegression\n",
        "log_reg_grid = {\"C\": np.logspace(-4, 4, 20),\n",
        "                \"solver\": [\"liblinear\"]}\n",
        "\n",
        "\n",
        " \n",
        "# Setup random hyperparameter search for LogisticRegression\n",
        "randomSearch_log_reg = RandomizedSearchCV(LogisticRegression(),\n",
        "                                param_distributions=log_reg_grid,\n",
        "                                cv=10,\n",
        "                                n_iter=20,\n",
        "                                verbose=True)\n",
        "\n",
        "# Fit random hyperparameter search model for LogisticRegression\n",
        "randomSearch_log_reg.fit(X_train, y_train)"
      ],
      "execution_count": 204,
      "outputs": [
        {
          "output_type": "stream",
          "name": "stdout",
          "text": [
            "Fitting 10 folds for each of 20 candidates, totalling 200 fits\n"
          ]
        },
        {
          "output_type": "execute_result",
          "data": {
            "text/plain": [
              "RandomizedSearchCV(cv=10, estimator=LogisticRegression(), n_iter=20,\n",
              "                   param_distributions={'C': array([1.00000000e-04, 2.63665090e-04, 6.95192796e-04, 1.83298071e-03,\n",
              "       4.83293024e-03, 1.27427499e-02, 3.35981829e-02, 8.85866790e-02,\n",
              "       2.33572147e-01, 6.15848211e-01, 1.62377674e+00, 4.28133240e+00,\n",
              "       1.12883789e+01, 2.97635144e+01, 7.84759970e+01, 2.06913808e+02,\n",
              "       5.45559478e+02, 1.43844989e+03, 3.79269019e+03, 1.00000000e+04]),\n",
              "                                        'solver': ['liblinear']},\n",
              "                   verbose=True)"
            ]
          },
          "metadata": {},
          "execution_count": 204
        }
      ]
    },
    {
      "cell_type": "code",
      "metadata": {
        "colab": {
          "base_uri": "https://localhost:8080/"
        },
        "id": "ywwATiWHBagt",
        "outputId": "8f3a7731-fbab-420a-ade3-6b357da08b8b"
      },
      "source": [
        "# Find the best hyperparameters\n",
        "randomSearch_log_reg.best_params_"
      ],
      "execution_count": 205,
      "outputs": [
        {
          "output_type": "execute_result",
          "data": {
            "text/plain": [
              "{'C': 1.623776739188721, 'solver': 'liblinear'}"
            ]
          },
          "metadata": {},
          "execution_count": 205
        }
      ]
    },
    {
      "cell_type": "code",
      "metadata": {
        "colab": {
          "base_uri": "https://localhost:8080/"
        },
        "id": "g0K1jzvDTwTH",
        "outputId": "359b9144-714a-45a7-c16e-fe2ef749864e"
      },
      "source": [
        "randomSearch_log_reg.score(X_test, y_test)"
      ],
      "execution_count": 206,
      "outputs": [
        {
          "output_type": "execute_result",
          "data": {
            "text/plain": [
              "0.711864406779661"
            ]
          },
          "metadata": {},
          "execution_count": 206
        }
      ]
    },
    {
      "cell_type": "markdown",
      "metadata": {
        "id": "yEEMgtQXo6XT"
      },
      "source": [
        "In the above step, We have applied our LogisticRegression model to the same data and evaluated its score. And We have got an improvement here. Our LogisticRegression model was **66%** before and after tuning it's increased to **71%**"
      ]
    },
    {
      "cell_type": "code",
      "metadata": {
        "colab": {
          "base_uri": "https://localhost:8080/"
        },
        "id": "_8YljClQpndh",
        "outputId": "412fea25-e5cd-4d6b-8067-a41fbbb0c47c"
      },
      "source": [
        "model_scores"
      ],
      "execution_count": 207,
      "outputs": [
        {
          "output_type": "execute_result",
          "data": {
            "text/plain": [
              "{'KNN': 0.5644067796610169,\n",
              " 'Logistic Regression': 0.6677966101694915,\n",
              " 'Random Forest': 0.7016949152542373}"
            ]
          },
          "metadata": {},
          "execution_count": 207
        }
      ]
    },
    {
      "cell_type": "markdown",
      "metadata": {
        "id": "DnyMdlO5p6tw"
      },
      "source": [
        "We are not impressed by the results of Our KNN model which stil has not shown much improvement.The function we used [RandomForestClassifier](https://scikit-learn.org/stable/modules/generated/sklearn.ensemble.RandomForestClassifier.html) and we are going to try hyperparameter tuning RandomizedSearchCV"
      ]
    },
    {
      "cell_type": "markdown",
      "metadata": {
        "id": "Lz1Wy_f9el3q"
      },
      "source": [
        ""
      ]
    },
    {
      "cell_type": "code",
      "metadata": {
        "colab": {
          "base_uri": "https://localhost:8080/"
        },
        "id": "HWV0fF3tAer5",
        "outputId": "2cd38798-2b09-4a6d-e987-c333e9261ee7"
      },
      "source": [
        "rf_grid = {\n",
        "    'bootstrap': [True],\n",
        "    'max_depth': [80, 90, 100, 110],\n",
        "    'max_features': [2, 3],\n",
        "    'min_samples_leaf': [3, 4, 5],\n",
        "    'min_samples_split': [8, 10, 12],\n",
        "    'n_estimators': [100, 200, 300, 1000]\n",
        "}\n",
        "pprint(rf_grid)"
      ],
      "execution_count": 214,
      "outputs": [
        {
          "output_type": "stream",
          "name": "stdout",
          "text": [
            "{'bootstrap': [True],\n",
            " 'max_depth': [80, 90, 100, 110],\n",
            " 'max_features': [2, 3],\n",
            " 'min_samples_leaf': [3, 4, 5],\n",
            " 'min_samples_split': [8, 10, 12],\n",
            " 'n_estimators': [100, 200, 300, 1000]}\n"
          ]
        }
      ]
    },
    {
      "cell_type": "code",
      "metadata": {
        "colab": {
          "base_uri": "https://localhost:8080/"
        },
        "id": "gA1sADZNfM3U",
        "outputId": "d2601f12-67a4-4ae5-cf89-8af84a09a0dd"
      },
      "source": [
        "rf = RandomForestClassifier()\n",
        "# Setup random seed\n",
        "np.random.seed(42)\n",
        "# Random search of parameters, using 3(CV) to search across 100 different combinations.\n",
        "rf_model = RandomizedSearchCV(estimator = rf, \n",
        "                              param_distributions = rf_grid, \n",
        "                              n_iter = 100, \n",
        "                              cv = 3, \n",
        "                              verbose=2, \n",
        "                              random_state=42, \n",
        "                              n_jobs = -1)\n",
        "# Fit the random search model\n",
        "rf_model.fit(X_train, y_train)"
      ],
      "execution_count": 236,
      "outputs": [
        {
          "output_type": "stream",
          "name": "stdout",
          "text": [
            "Fitting 3 folds for each of 36 candidates, totalling 108 fits\n"
          ]
        },
        {
          "output_type": "stream",
          "name": "stderr",
          "text": [
            "/usr/local/lib/python3.7/dist-packages/sklearn/model_selection/_search.py:296: UserWarning: The total space of parameters 36 is smaller than n_iter=100. Running 36 iterations. For exhaustive searches, use GridSearchCV.\n",
            "  UserWarning,\n"
          ]
        },
        {
          "output_type": "execute_result",
          "data": {
            "text/plain": [
              "RandomizedSearchCV(cv=3, estimator=RandomForestClassifier(), n_iter=100,\n",
              "                   n_jobs=-1,\n",
              "                   param_distributions=[{'bootstrap': [True, False],\n",
              "                                         'max_depth': [10, 50, 100, None],\n",
              "                                         'min_samples_leaf': [1, 2, 4]},\n",
              "                                        {'bootstrap': [True, False],\n",
              "                                         'max_depth': [10, 100, None],\n",
              "                                         'min_samples_split': [2, 10]}],\n",
              "                   random_state=42, verbose=2)"
            ]
          },
          "metadata": {},
          "execution_count": 236
        }
      ]
    },
    {
      "cell_type": "code",
      "metadata": {
        "colab": {
          "base_uri": "https://localhost:8080/"
        },
        "id": "_o5H8XLjqQFo",
        "outputId": "4ae50987-37a4-4447-adfb-b20002d46aa7"
      },
      "source": [
        "# Fit random hyperparameter \n",
        "rf_model.best_params_"
      ],
      "execution_count": 237,
      "outputs": [
        {
          "output_type": "execute_result",
          "data": {
            "text/plain": [
              "{'bootstrap': True, 'max_depth': 10, 'min_samples_leaf': 2}"
            ]
          },
          "metadata": {},
          "execution_count": 237
        }
      ]
    },
    {
      "cell_type": "code",
      "metadata": {
        "colab": {
          "base_uri": "https://localhost:8080/"
        },
        "id": "aVD4H4aXrsWo",
        "outputId": "a1e79463-8315-4326-91fa-8f68cc169451"
      },
      "source": [
        "# we will Evaluate the randomized search RandomForest model\n",
        "rf_model.score(X_test, y_test)"
      ],
      "execution_count": 257,
      "outputs": [
        {
          "output_type": "execute_result",
          "data": {
            "text/plain": [
              "0.7135593220338983"
            ]
          },
          "metadata": {},
          "execution_count": 257
        }
      ]
    },
    {
      "cell_type": "markdown",
      "metadata": {
        "id": "9YPuBU-6s-tL"
      },
      "source": [
        "### By just tuning the hyperparameters for RandomForest model we have seen a slight boost from **70%** to **71%**"
      ]
    },
    {
      "cell_type": "markdown",
      "metadata": {
        "id": "W4xz4xsNtcME"
      },
      "source": [
        "Let's try to do the same with **`LogisticRegression Model`**\n",
        "\n"
      ]
    },
    {
      "cell_type": "code",
      "metadata": {
        "colab": {
          "base_uri": "https://localhost:8080/"
        },
        "id": "N6CYt6GItmpR",
        "outputId": "451d5f68-ac02-47d9-f10f-09dee6c7d556"
      },
      "source": [
        "logistic_regress_grid = {\"C\": np.logspace(-4, 4, 20),\n",
        "                \"solver\": [\"liblinear\"]}\n",
        "# Setup random seed\n",
        "np.random.seed(42)\n",
        "\n",
        "# hyperparameter search for LogisticRegression\n",
        "rs_logistic_regress = RandomizedSearchCV(LogisticRegression(),\n",
        "                                param_distributions=logistic_regress_grid,\n",
        "                                cv=5,\n",
        "                                n_iter=20,\n",
        "                                verbose=True)\n",
        "\n",
        "# Fit random hyperparameter search model\n",
        "rs_logistic_regress.fit(X_train, y_train);"
      ],
      "execution_count": 239,
      "outputs": [
        {
          "output_type": "stream",
          "name": "stdout",
          "text": [
            "Fitting 5 folds for each of 20 candidates, totalling 100 fits\n"
          ]
        }
      ]
    },
    {
      "cell_type": "code",
      "metadata": {
        "colab": {
          "base_uri": "https://localhost:8080/"
        },
        "id": "-6pbC01stnp_",
        "outputId": "23194965-8b15-4980-b59d-e9f53506c879"
      },
      "source": [
        "rs_logistic_regress.best_params_"
      ],
      "execution_count": 240,
      "outputs": [
        {
          "output_type": "execute_result",
          "data": {
            "text/plain": [
              "{'C': 4.281332398719396, 'solver': 'liblinear'}"
            ]
          },
          "metadata": {},
          "execution_count": 240
        }
      ]
    },
    {
      "cell_type": "code",
      "metadata": {
        "colab": {
          "base_uri": "https://localhost:8080/"
        },
        "id": "BCgobwB6tnzi",
        "outputId": "37499ea8-66f1-4002-f6ce-6e37064ceeb1"
      },
      "source": [
        "rs_logistic_regress.score(X_test, y_test)"
      ],
      "execution_count": 241,
      "outputs": [
        {
          "output_type": "execute_result",
          "data": {
            "text/plain": [
              "0.7101694915254237"
            ]
          },
          "metadata": {},
          "execution_count": 241
        }
      ]
    },
    {
      "cell_type": "markdown",
      "metadata": {
        "id": "nBRdkp_yurEi"
      },
      "source": [
        "We can tune it using GridSearchCv too"
      ]
    },
    {
      "cell_type": "code",
      "metadata": {
        "colab": {
          "base_uri": "https://localhost:8080/"
        },
        "id": "2bJt98qqtn81",
        "outputId": "a0ff4dd2-87c6-4a29-8672-ebcded10d336"
      },
      "source": [
        "# Different LogisticRegression hyperparameters\n",
        "log_reg_grid = {\"C\": np.logspace(-4, 4, 20),\n",
        "                \"solver\": [\"liblinear\"]}\n",
        "\n",
        "# Setup grid hyperparameter search for LogisticRegression\n",
        "gs_log_reg = GridSearchCV(LogisticRegression(),\n",
        "                          param_grid=log_reg_grid,\n",
        "                          cv=5,\n",
        "                          verbose=True)\n",
        "gs_log_reg.fit(X_train, y_train);"
      ],
      "execution_count": 299,
      "outputs": [
        {
          "output_type": "stream",
          "name": "stdout",
          "text": [
            "Fitting 5 folds for each of 20 candidates, totalling 100 fits\n"
          ]
        }
      ]
    },
    {
      "cell_type": "code",
      "metadata": {
        "colab": {
          "base_uri": "https://localhost:8080/"
        },
        "id": "1HOvVhbNfM_V",
        "outputId": "a051e8c4-c690-4bbc-bf8b-b943e2e9a4f1"
      },
      "source": [
        "# Check the best parameters\n",
        "gs_log_reg.best_params_"
      ],
      "execution_count": 297,
      "outputs": [
        {
          "output_type": "execute_result",
          "data": {
            "text/plain": [
              "{'C': 4.281332398719396, 'solver': 'liblinear'}"
            ]
          },
          "metadata": {},
          "execution_count": 297
        }
      ]
    },
    {
      "cell_type": "code",
      "metadata": {
        "colab": {
          "base_uri": "https://localhost:8080/"
        },
        "id": "3v4e8HLn4Inb",
        "outputId": "29a83618-ad99-4fbc-fc79-e98948732dc7"
      },
      "source": [
        "gs_log_reg.score(X_test, y_test)"
      ],
      "execution_count": 296,
      "outputs": [
        {
          "output_type": "execute_result",
          "data": {
            "text/plain": [
              "0.7101694915254237"
            ]
          },
          "metadata": {},
          "execution_count": 296
        }
      ]
    },
    {
      "cell_type": "markdown",
      "metadata": {
        "id": "ITHYlEU34kTw"
      },
      "source": [
        "The above score using gridsearchCv is same as when we use RandomSearchCv for LogicticRegressionModel"
      ]
    },
    {
      "cell_type": "markdown",
      "metadata": {
        "id": "mPjid0bm2Vti"
      },
      "source": [
        "# By just tuning the hyperparameters for LogisticRegression model we have seen a slight boost from **66%** to **71%**"
      ]
    },
    {
      "cell_type": "code",
      "metadata": {
        "id": "P6rkEMbqp51y"
      },
      "source": [
        "# # Create a hyperparameter grid for RandomForestRegressor\n",
        "# rf_grid = {\"n_estimators\": np.arange(10, 1000, 50),\n",
        "#            \"max_depth\": [None, 3, 5, 10],\n",
        "#            \"min_samples_split\": np.arange(2, 20, 2),\n",
        "#            \"min_samples_leaf\": np.arange(1, 20, 2)}\n",
        "\n",
        "# # Setup grid hyperparameter search for LogisticRegression\n",
        "# gs_rf = GridSearchCV(RandomForestRegressor(),\n",
        "#                           param_grid=rf_grid,\n",
        "#                           cv=5,\n",
        "#                           verbose=True)\n",
        "\n",
        "# # Fit grid hyperparameter search model\n",
        "# gs_rf.fit(X_train, y_train);\n",
        "\n",
        "# ## This takes too long...\n"
      ],
      "execution_count": 274,
      "outputs": []
    },
    {
      "cell_type": "markdown",
      "metadata": {
        "id": "btvoHX7rCN38"
      },
      "source": [
        "#**Evaluating our tuned ML models**"
      ]
    },
    {
      "cell_type": "markdown",
      "metadata": {
        "id": "XE95IquOzFs3"
      },
      "source": [
        "# We will evaluate our ML models using the below metrics:\n",
        "\n",
        "\n",
        "1.   ROC curve and AUC score \n",
        "2.   Confusion matrix \n",
        "3.   Classification report\n",
        "\n",
        "\n",
        "\n"
      ]
    },
    {
      "cell_type": "markdown",
      "metadata": {
        "id": "-Qt_RML9xTPk"
      },
      "source": [
        "To check and visualize the performance of our model, we will use the AUC (Area Under The Curve) ROC (Receiver Operating Characteristics) [AUC-ROC-curve](https://www.analyticsvidhya.com/blog/2020/06/auc-roc-curve-machine-learning/) curve evaluation metrics for checking performance. We will try to evaluate how our model is performing by comparing the true positive rate to the false positive rate using plot_roc_curve from Scikit-Learn which can help us create a ROC curve as well as calculate the (AUC) metric."
      ]
    },
    {
      "cell_type": "code",
      "metadata": {
        "colab": {
          "base_uri": "https://localhost:8080/"
        },
        "id": "AgyK_QJk4No6",
        "outputId": "40e85fc7-11aa-4659-daa7-a467ae756957"
      },
      "source": [
        "#ROC curve and AUC score\n",
        "# Make preidctions on test data\n",
        "y_preds = gs_log_reg.predict(X_test)\n",
        "y_preds"
      ],
      "execution_count": 294,
      "outputs": [
        {
          "output_type": "execute_result",
          "data": {
            "text/plain": [
              "array([1, 0, 0, 0, 0, 0, 0, 0, 0, 1, 1, 1, 0, 1, 0, 0, 0, 1, 0, 0, 0, 0,\n",
              "       0, 0, 0, 1, 1, 0, 1, 0, 0, 1, 1, 0, 0, 0, 0, 1, 0, 1, 0, 0, 1, 0,\n",
              "       1, 0, 0, 0, 0, 0, 0, 1, 0, 0, 0, 1, 0, 0, 0, 0, 1, 1, 0, 1, 1, 0,\n",
              "       1, 0, 0, 1, 1, 0, 0, 0, 1, 0, 1, 0, 0, 1, 1, 0, 1, 0, 1, 0, 0, 0,\n",
              "       0, 0, 0, 0, 0, 0, 1, 0, 0, 0, 0, 0, 0, 1, 1, 0, 0, 0, 0, 0, 0, 1,\n",
              "       0, 0, 0, 0, 0, 0, 0, 0, 0, 1, 0, 1, 0, 0, 0, 0, 0, 0, 0, 1, 0, 0,\n",
              "       0, 0, 0, 0, 0, 1, 0, 1, 0, 0, 0, 0, 1, 0, 1, 0, 0, 1, 0, 0, 0, 0,\n",
              "       0, 1, 1, 0, 1, 0, 0, 0, 1, 1, 0, 1, 0, 0, 0, 1, 0, 0, 0, 0, 0, 0,\n",
              "       0, 0, 1, 0, 0, 1, 0, 0, 0, 0, 1, 0, 0, 0, 0, 0, 1, 0, 0, 0, 1, 0,\n",
              "       1, 1, 0, 1, 0, 0, 0, 0, 1, 1, 0, 1, 1, 0, 1, 0, 1, 0, 0, 1, 0, 1,\n",
              "       0, 0, 0, 1, 0, 0, 1, 0, 0, 0, 1, 1, 0, 0, 1, 1, 0, 0, 1, 1, 0, 0,\n",
              "       0, 0, 0, 0, 1, 0, 0, 0, 0, 0, 0, 0, 0, 0, 1, 0, 0, 0, 0, 1, 1, 0,\n",
              "       1, 0, 1, 0, 0, 1, 0, 1, 0, 0, 0, 0, 0, 0, 0, 0, 0, 1, 0, 0, 0, 0,\n",
              "       1, 0, 1, 0, 1, 1, 0, 0, 0, 1, 1, 0, 0, 0, 0, 0, 0, 0, 0, 0, 0, 1,\n",
              "       0, 0, 1, 0, 1, 1, 0, 0, 1, 1, 1, 0, 0, 0, 1, 0, 0, 0, 0, 0, 1, 1,\n",
              "       0, 0, 0, 0, 0, 0, 0, 1, 0, 0, 0, 1, 0, 1, 0, 1, 0, 1, 0, 1, 1, 0,\n",
              "       0, 0, 0, 0, 0, 1, 1, 0, 0, 0, 0, 0, 0, 1, 0, 0, 1, 0, 0, 0, 1, 0,\n",
              "       0, 1, 0, 1, 0, 0, 1, 0, 0, 0, 0, 0, 0, 1, 0, 0, 1, 1, 1, 0, 0, 1,\n",
              "       0, 0, 0, 0, 0, 1, 0, 0, 0, 0, 0, 0, 0, 0, 0, 0, 1, 0, 0, 0, 1, 0,\n",
              "       1, 1, 1, 0, 0, 0, 0, 0, 0, 0, 1, 1, 0, 0, 1, 0, 0, 0, 1, 0, 0, 1,\n",
              "       1, 1, 0, 0, 0, 0, 0, 0, 1, 1, 0, 0, 0, 1, 0, 0, 0, 0, 0, 0, 0, 0,\n",
              "       1, 1, 1, 0, 1, 1, 0, 0, 1, 0, 0, 0, 1, 0, 0, 1, 1, 0, 0, 0, 1, 0,\n",
              "       0, 0, 0, 0, 1, 0, 0, 0, 0, 1, 0, 0, 0, 0, 0, 0, 1, 0, 1, 0, 0, 1,\n",
              "       1, 0, 0, 0, 1, 1, 0, 1, 0, 0, 0, 1, 1, 1, 0, 1, 0, 1, 0, 0, 1, 0,\n",
              "       0, 0, 0, 0, 0, 0, 0, 0, 1, 1, 0, 0, 0, 0, 1, 0, 0, 0, 0, 0, 0, 1,\n",
              "       1, 1, 0, 0, 0, 0, 0, 0, 0, 0, 0, 0, 0, 1, 1, 0, 1, 0, 0, 0, 1, 0,\n",
              "       0, 0, 0, 0, 0, 0, 0, 1, 0, 0, 1, 0, 1, 0, 0, 0, 0, 1])"
            ]
          },
          "metadata": {},
          "execution_count": 294
        }
      ]
    },
    {
      "cell_type": "code",
      "metadata": {
        "colab": {
          "base_uri": "https://localhost:8080/"
        },
        "id": "nkWy_wE64VTT",
        "outputId": "4cc49be4-bc57-43fa-be42-6dc43f8bf054"
      },
      "source": [
        "y_test"
      ],
      "execution_count": 295,
      "outputs": [
        {
          "output_type": "execute_result",
          "data": {
            "text/plain": [
              "565     1\n",
              "1220    1\n",
              "1677    0\n",
              "1577    0\n",
              "2833    0\n",
              "       ..\n",
              "1255    1\n",
              "2560    0\n",
              "2935    0\n",
              "1412    1\n",
              "685     1\n",
              "Name: Fire, Length: 590, dtype: int64"
            ]
          },
          "metadata": {},
          "execution_count": 295
        }
      ]
    },
    {
      "cell_type": "code",
      "metadata": {
        "colab": {
          "base_uri": "https://localhost:8080/",
          "height": 410
        },
        "id": "x7ECKMrLw6O7",
        "outputId": "0ae1025e-1b6c-462e-cb06-2a26feaa793a"
      },
      "source": [
        "# Plot ROC curve and calculate AUC metric\n",
        "plot_roc_curve(rs_logistic_regress, X_test, y_test);"
      ],
      "execution_count": 292,
      "outputs": [
        {
          "output_type": "stream",
          "name": "stderr",
          "text": [
            "/usr/local/lib/python3.7/dist-packages/sklearn/utils/deprecation.py:87: FutureWarning: Function plot_roc_curve is deprecated; Function `plot_roc_curve` is deprecated in 1.0 and will be removed in 1.2. Use one of the class methods: RocCurveDisplay.from_predictions or RocCurveDisplay.from_estimator.\n",
            "  warnings.warn(msg, category=FutureWarning)\n"
          ]
        },
        {
          "output_type": "display_data",
          "data": {
            "image/png": "[encoded data removed]",
            "text/plain": [
              "<Figure size 432x288 with 1 Axes>"
            ]
          },
          "metadata": {}
        }
      ]
    },
    {
      "cell_type": "code",
      "metadata": {
        "colab": {
          "base_uri": "https://localhost:8080/"
        },
        "id": "j6AXcqSlw6Ra",
        "outputId": "5574c037-939d-4f8e-8b85-e4cc56a45d45"
      },
      "source": [
        "# Display confusion matrix\n",
        "print(confusion_matrix(y_test, y_preds))"
      ],
      "execution_count": 282,
      "outputs": [
        {
          "output_type": "stream",
          "name": "stdout",
          "text": [
            "[[269  23]\n",
            " [148 150]]\n"
          ]
        }
      ]
    },
    {
      "cell_type": "code",
      "metadata": {
        "colab": {
          "base_uri": "https://localhost:8080/",
          "height": 243
        },
        "id": "D1YEKoDVw6US",
        "outputId": "3d788059-1e2f-4827-8170-fad3462300d0"
      },
      "source": [
        "sns.set(font_scale=1.5) \n",
        "\n",
        "def plot_conf_mat(y_test, y_preds):\n",
        "  fig, ax = plt.subplots(figsize=(3, 3))\n",
        "  ax = sns.heatmap(confusion_matrix(y_test, y_preds),\n",
        "                     annot=True, # Annotate the boxes\n",
        "                     cbar=False)\n",
        "  plt.xlabel(\"true label\")\n",
        "  plt.ylabel(\"predicted label\")\n",
        "    \n",
        "plot_conf_mat(y_test, y_preds)"
      ],
      "execution_count": 291,
      "outputs": [
        {
          "output_type": "display_data",
          "data": {
            "image/png": "[encoded data removed]",
            "text/plain": [
              "<Figure size 216x216 with 1 Axes>"
            ]
          },
          "metadata": {}
        }
      ]
    },
    {
      "cell_type": "markdown",
      "metadata": {
        "id": "By-B0-Oa3H-A"
      },
      "source": [
        "there are 23 occasaions where the model predicted 0 when it should've been 1 (false negative). [Confusion_Matrix](https://www.analyticsvidhya.com/blog/2020/04/confusion-matrix-machine-learning/)"
      ]
    },
    {
      "cell_type": "markdown",
      "metadata": {
        "id": "Am3sBr6io5my"
      },
      "source": [
        ""
      ]
    },
    {
      "cell_type": "markdown",
      "metadata": {
        "id": "XFirKONgAUJG"
      },
      "source": [
        "In order To make comparisons and evaluate our trained model, we will look at confusion matrix\n"
      ]
    },
    {
      "cell_type": "code",
      "metadata": {
        "id": "H7jnA1yP8CqQ"
      },
      "source": [
        "|"
      ],
      "execution_count": null,
      "outputs": []
    },
    {
      "cell_type": "markdown",
      "metadata": {
        "id": "a7HziEwF_DXU"
      },
      "source": [
        ""
      ]
    }
  ]
}