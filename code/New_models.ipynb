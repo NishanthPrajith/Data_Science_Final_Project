{
  "nbformat": 4,
  "nbformat_minor": 0,
  "metadata": {
    "colab": {
      "name": "Copy of New_models.ipynb",
      "provenance": [],
      "collapsed_sections": []
    },
    "kernelspec": {
      "name": "python3",
      "display_name": "Python 3"
    },
    "language_info": {
      "name": "python"
    }
  },
  "cells": [
    {
      "cell_type": "code",
      "metadata": {
        "id": "zGFwFzJph0u-"
      },
      "source": [
        "import pandas as pd\n",
        "import numpy as np\n",
        "import statsmodels.api as sm\n",
        "\n",
        "\n",
        "from sklearn.svm import SVC\n",
        "from sklearn.preprocessing import StandardScaler\n",
        "\n",
        "from sklearn.metrics import accuracy_score, recall_score, precision_score\n",
        "from sklearn.model_selection import train_test_split\n",
        "\n",
        "# Models from Scikit-Learn\n",
        "from sklearn.linear_model import LogisticRegression\n",
        "from sklearn.neighbors import KNeighborsClassifier\n",
        "from sklearn.ensemble import RandomForestClassifier\n",
        "\n",
        "#Model Evaluations\n",
        "from sklearn.model_selection import RandomizedSearchCV, GridSearchCV"
      ],
      "execution_count": null,
      "outputs": []
    },
    {
      "cell_type": "markdown",
      "metadata": {
        "id": "YvFKwOtgswNt"
      },
      "source": [
        "# Get Data"
      ]
    },
    {
      "cell_type": "code",
      "metadata": {
        "id": "WoSdxX3Zj6kb",
        "colab": {
          "base_uri": "https://localhost:8080/",
          "height": 825
        },
        "outputId": "1a1d81b0-6926-4766-96c5-2996d8973d66"
      },
      "source": [
        "data = pd.read_csv(\"cleaned.csv\", index_col = 0)\n",
        "data"
      ],
      "execution_count": null,
      "outputs": [
        {
          "output_type": "execute_result",
          "data": {
            "text/html": [
              "<div>\n",
              "<style scoped>\n",
              "    .dataframe tbody tr th:only-of-type {\n",
              "        vertical-align: middle;\n",
              "    }\n",
              "\n",
              "    .dataframe tbody tr th {\n",
              "        vertical-align: top;\n",
              "    }\n",
              "\n",
              "    .dataframe thead th {\n",
              "        text-align: right;\n",
              "    }\n",
              "</style>\n",
              "<table border=\"1\" class=\"dataframe\">\n",
              "  <thead>\n",
              "    <tr style=\"text-align: right;\">\n",
              "      <th></th>\n",
              "      <th>AcresBurned</th>\n",
              "      <th>Counties</th>\n",
              "      <th>Latitude</th>\n",
              "      <th>Longitude</th>\n",
              "      <th>Started</th>\n",
              "      <th>FIPS</th>\n",
              "      <th>Temp Day One</th>\n",
              "      <th>Temp Day Two</th>\n",
              "      <th>Temp Day Three</th>\n",
              "      <th>Temp Day Four</th>\n",
              "      <th>Temp Day Five</th>\n",
              "      <th>MaxTemp Day One</th>\n",
              "      <th>MaxTemp Day Two</th>\n",
              "      <th>MaxTemp Day Three</th>\n",
              "      <th>MaxTemp Day Four</th>\n",
              "      <th>MaxTemp Day Five</th>\n",
              "      <th>MinTemp Day One</th>\n",
              "      <th>MinTemp Day Two</th>\n",
              "      <th>MinTemp Day Three</th>\n",
              "      <th>MinTemp Day Four</th>\n",
              "      <th>MinTemp Day Five</th>\n",
              "      <th>Humidity Day One</th>\n",
              "      <th>Humidity Day Two</th>\n",
              "      <th>Humidity Day Three</th>\n",
              "      <th>Humidity Day Four</th>\n",
              "      <th>Humidity Day Five</th>\n",
              "      <th>Fire</th>\n",
              "    </tr>\n",
              "  </thead>\n",
              "  <tbody>\n",
              "    <tr>\n",
              "      <th>0</th>\n",
              "      <td>257314.0</td>\n",
              "      <td>Tuolumne</td>\n",
              "      <td>37.857000</td>\n",
              "      <td>-120.086000</td>\n",
              "      <td>2013-08-17 15:25:00</td>\n",
              "      <td>6109.0</td>\n",
              "      <td>74.0</td>\n",
              "      <td>78.0</td>\n",
              "      <td>79.0</td>\n",
              "      <td>79.0</td>\n",
              "      <td>80.0</td>\n",
              "      <td>83.0</td>\n",
              "      <td>87.0</td>\n",
              "      <td>88.0</td>\n",
              "      <td>88.0</td>\n",
              "      <td>89.0</td>\n",
              "      <td>50.0</td>\n",
              "      <td>52.0</td>\n",
              "      <td>52.0</td>\n",
              "      <td>52.0</td>\n",
              "      <td>54.0</td>\n",
              "      <td>38.000</td>\n",
              "      <td>33.000</td>\n",
              "      <td>34.000</td>\n",
              "      <td>35.125</td>\n",
              "      <td>33.000</td>\n",
              "      <td>True</td>\n",
              "    </tr>\n",
              "    <tr>\n",
              "      <th>1</th>\n",
              "      <td>30274.0</td>\n",
              "      <td>Los Angeles</td>\n",
              "      <td>34.585595</td>\n",
              "      <td>-118.423176</td>\n",
              "      <td>2013-05-30 15:28:00</td>\n",
              "      <td>6037.0</td>\n",
              "      <td>72.0</td>\n",
              "      <td>72.0</td>\n",
              "      <td>75.0</td>\n",
              "      <td>73.0</td>\n",
              "      <td>78.0</td>\n",
              "      <td>82.0</td>\n",
              "      <td>82.0</td>\n",
              "      <td>86.0</td>\n",
              "      <td>83.0</td>\n",
              "      <td>87.0</td>\n",
              "      <td>42.0</td>\n",
              "      <td>43.0</td>\n",
              "      <td>45.0</td>\n",
              "      <td>46.0</td>\n",
              "      <td>47.0</td>\n",
              "      <td>46.000</td>\n",
              "      <td>46.500</td>\n",
              "      <td>40.625</td>\n",
              "      <td>53.875</td>\n",
              "      <td>39.625</td>\n",
              "      <td>True</td>\n",
              "    </tr>\n",
              "    <tr>\n",
              "      <th>2</th>\n",
              "      <td>27531.0</td>\n",
              "      <td>Riverside</td>\n",
              "      <td>33.709500</td>\n",
              "      <td>-116.728850</td>\n",
              "      <td>2013-07-15 13:43:00</td>\n",
              "      <td>6065.0</td>\n",
              "      <td>82.0</td>\n",
              "      <td>77.0</td>\n",
              "      <td>79.0</td>\n",
              "      <td>82.0</td>\n",
              "      <td>84.0</td>\n",
              "      <td>88.0</td>\n",
              "      <td>82.0</td>\n",
              "      <td>84.0</td>\n",
              "      <td>88.0</td>\n",
              "      <td>90.0</td>\n",
              "      <td>66.0</td>\n",
              "      <td>65.0</td>\n",
              "      <td>65.0</td>\n",
              "      <td>66.0</td>\n",
              "      <td>68.0</td>\n",
              "      <td>34.750</td>\n",
              "      <td>51.375</td>\n",
              "      <td>48.375</td>\n",
              "      <td>27.875</td>\n",
              "      <td>27.000</td>\n",
              "      <td>True</td>\n",
              "    </tr>\n",
              "    <tr>\n",
              "      <th>3</th>\n",
              "      <td>27440.0</td>\n",
              "      <td>Placer</td>\n",
              "      <td>39.120000</td>\n",
              "      <td>-120.650000</td>\n",
              "      <td>2013-08-10 16:30:00</td>\n",
              "      <td>6061.0</td>\n",
              "      <td>74.0</td>\n",
              "      <td>73.0</td>\n",
              "      <td>68.0</td>\n",
              "      <td>67.0</td>\n",
              "      <td>67.0</td>\n",
              "      <td>85.0</td>\n",
              "      <td>83.0</td>\n",
              "      <td>77.0</td>\n",
              "      <td>77.0</td>\n",
              "      <td>78.0</td>\n",
              "      <td>45.0</td>\n",
              "      <td>44.0</td>\n",
              "      <td>45.0</td>\n",
              "      <td>41.0</td>\n",
              "      <td>40.0</td>\n",
              "      <td>44.625</td>\n",
              "      <td>42.750</td>\n",
              "      <td>53.125</td>\n",
              "      <td>56.250</td>\n",
              "      <td>53.000</td>\n",
              "      <td>True</td>\n",
              "    </tr>\n",
              "    <tr>\n",
              "      <th>4</th>\n",
              "      <td>22992.0</td>\n",
              "      <td>Fresno</td>\n",
              "      <td>37.279000</td>\n",
              "      <td>-119.318000</td>\n",
              "      <td>2013-07-22 22:15:00</td>\n",
              "      <td>6019.0</td>\n",
              "      <td>68.0</td>\n",
              "      <td>71.0</td>\n",
              "      <td>74.0</td>\n",
              "      <td>75.0</td>\n",
              "      <td>74.0</td>\n",
              "      <td>76.0</td>\n",
              "      <td>80.0</td>\n",
              "      <td>82.0</td>\n",
              "      <td>84.0</td>\n",
              "      <td>82.0</td>\n",
              "      <td>46.0</td>\n",
              "      <td>52.0</td>\n",
              "      <td>55.0</td>\n",
              "      <td>57.0</td>\n",
              "      <td>54.0</td>\n",
              "      <td>29.375</td>\n",
              "      <td>28.125</td>\n",
              "      <td>27.250</td>\n",
              "      <td>25.000</td>\n",
              "      <td>34.000</td>\n",
              "      <td>True</td>\n",
              "    </tr>\n",
              "    <tr>\n",
              "      <th>...</th>\n",
              "      <td>...</td>\n",
              "      <td>...</td>\n",
              "      <td>...</td>\n",
              "      <td>...</td>\n",
              "      <td>...</td>\n",
              "      <td>...</td>\n",
              "      <td>...</td>\n",
              "      <td>...</td>\n",
              "      <td>...</td>\n",
              "      <td>...</td>\n",
              "      <td>...</td>\n",
              "      <td>...</td>\n",
              "      <td>...</td>\n",
              "      <td>...</td>\n",
              "      <td>...</td>\n",
              "      <td>...</td>\n",
              "      <td>...</td>\n",
              "      <td>...</td>\n",
              "      <td>...</td>\n",
              "      <td>...</td>\n",
              "      <td>...</td>\n",
              "      <td>...</td>\n",
              "      <td>...</td>\n",
              "      <td>...</td>\n",
              "      <td>...</td>\n",
              "      <td>...</td>\n",
              "      <td>...</td>\n",
              "    </tr>\n",
              "    <tr>\n",
              "      <th>2941</th>\n",
              "      <td>0.0</td>\n",
              "      <td>Riverside</td>\n",
              "      <td>33.827979</td>\n",
              "      <td>-117.499619</td>\n",
              "      <td>2018-10-10 12:08:00</td>\n",
              "      <td>6065.0</td>\n",
              "      <td>70.0</td>\n",
              "      <td>69.0</td>\n",
              "      <td>77.0</td>\n",
              "      <td>65.0</td>\n",
              "      <td>71.0</td>\n",
              "      <td>74.0</td>\n",
              "      <td>74.0</td>\n",
              "      <td>85.0</td>\n",
              "      <td>67.0</td>\n",
              "      <td>78.0</td>\n",
              "      <td>63.0</td>\n",
              "      <td>63.0</td>\n",
              "      <td>69.0</td>\n",
              "      <td>64.0</td>\n",
              "      <td>64.0</td>\n",
              "      <td>59.500</td>\n",
              "      <td>56.375</td>\n",
              "      <td>48.625</td>\n",
              "      <td>73.750</td>\n",
              "      <td>64.875</td>\n",
              "      <td>False</td>\n",
              "    </tr>\n",
              "    <tr>\n",
              "      <th>2942</th>\n",
              "      <td>0.0</td>\n",
              "      <td>Nevada</td>\n",
              "      <td>39.409722</td>\n",
              "      <td>-121.000556</td>\n",
              "      <td>2018-06-28 15:03:04</td>\n",
              "      <td>6057.0</td>\n",
              "      <td>73.0</td>\n",
              "      <td>79.0</td>\n",
              "      <td>87.0</td>\n",
              "      <td>86.0</td>\n",
              "      <td>84.0</td>\n",
              "      <td>79.0</td>\n",
              "      <td>86.0</td>\n",
              "      <td>96.0</td>\n",
              "      <td>93.0</td>\n",
              "      <td>90.0</td>\n",
              "      <td>57.0</td>\n",
              "      <td>58.0</td>\n",
              "      <td>67.0</td>\n",
              "      <td>69.0</td>\n",
              "      <td>66.0</td>\n",
              "      <td>39.250</td>\n",
              "      <td>37.875</td>\n",
              "      <td>27.250</td>\n",
              "      <td>27.375</td>\n",
              "      <td>33.500</td>\n",
              "      <td>False</td>\n",
              "    </tr>\n",
              "    <tr>\n",
              "      <th>2943</th>\n",
              "      <td>0.0</td>\n",
              "      <td>Yolo</td>\n",
              "      <td>38.734634</td>\n",
              "      <td>-121.729691</td>\n",
              "      <td>2018-11-25 12:02:02</td>\n",
              "      <td>6113.0</td>\n",
              "      <td>58.0</td>\n",
              "      <td>58.0</td>\n",
              "      <td>55.0</td>\n",
              "      <td>59.0</td>\n",
              "      <td>55.0</td>\n",
              "      <td>64.0</td>\n",
              "      <td>64.0</td>\n",
              "      <td>57.0</td>\n",
              "      <td>63.0</td>\n",
              "      <td>57.0</td>\n",
              "      <td>50.0</td>\n",
              "      <td>50.0</td>\n",
              "      <td>51.0</td>\n",
              "      <td>53.0</td>\n",
              "      <td>51.0</td>\n",
              "      <td>64.250</td>\n",
              "      <td>63.625</td>\n",
              "      <td>86.000</td>\n",
              "      <td>83.875</td>\n",
              "      <td>82.875</td>\n",
              "      <td>False</td>\n",
              "    </tr>\n",
              "    <tr>\n",
              "      <th>2944</th>\n",
              "      <td>0.0</td>\n",
              "      <td>San Diego</td>\n",
              "      <td>33.351145</td>\n",
              "      <td>-117.403719</td>\n",
              "      <td>2018-10-22 19:20:44</td>\n",
              "      <td>6073.0</td>\n",
              "      <td>67.0</td>\n",
              "      <td>68.0</td>\n",
              "      <td>71.0</td>\n",
              "      <td>71.0</td>\n",
              "      <td>77.0</td>\n",
              "      <td>72.0</td>\n",
              "      <td>73.0</td>\n",
              "      <td>75.0</td>\n",
              "      <td>76.0</td>\n",
              "      <td>82.0</td>\n",
              "      <td>60.0</td>\n",
              "      <td>60.0</td>\n",
              "      <td>58.0</td>\n",
              "      <td>62.0</td>\n",
              "      <td>65.0</td>\n",
              "      <td>76.625</td>\n",
              "      <td>79.125</td>\n",
              "      <td>79.000</td>\n",
              "      <td>74.500</td>\n",
              "      <td>58.750</td>\n",
              "      <td>False</td>\n",
              "    </tr>\n",
              "    <tr>\n",
              "      <th>2945</th>\n",
              "      <td>0.0</td>\n",
              "      <td>Riverside</td>\n",
              "      <td>33.451480</td>\n",
              "      <td>-116.058980</td>\n",
              "      <td>2018-10-14 15:32:20</td>\n",
              "      <td>6065.0</td>\n",
              "      <td>73.0</td>\n",
              "      <td>65.0</td>\n",
              "      <td>65.0</td>\n",
              "      <td>68.0</td>\n",
              "      <td>70.0</td>\n",
              "      <td>79.0</td>\n",
              "      <td>72.0</td>\n",
              "      <td>75.0</td>\n",
              "      <td>76.0</td>\n",
              "      <td>80.0</td>\n",
              "      <td>57.0</td>\n",
              "      <td>50.0</td>\n",
              "      <td>48.0</td>\n",
              "      <td>49.0</td>\n",
              "      <td>49.0</td>\n",
              "      <td>49.375</td>\n",
              "      <td>17.875</td>\n",
              "      <td>18.125</td>\n",
              "      <td>31.125</td>\n",
              "      <td>31.000</td>\n",
              "      <td>False</td>\n",
              "    </tr>\n",
              "  </tbody>\n",
              "</table>\n",
              "<p>2946 rows × 27 columns</p>\n",
              "</div>"
            ],
            "text/plain": [
              "      AcresBurned     Counties  ...  Humidity Day Five   Fire\n",
              "0        257314.0     Tuolumne  ...             33.000   True\n",
              "1         30274.0  Los Angeles  ...             39.625   True\n",
              "2         27531.0    Riverside  ...             27.000   True\n",
              "3         27440.0       Placer  ...             53.000   True\n",
              "4         22992.0       Fresno  ...             34.000   True\n",
              "...           ...          ...  ...                ...    ...\n",
              "2941          0.0    Riverside  ...             64.875  False\n",
              "2942          0.0       Nevada  ...             33.500  False\n",
              "2943          0.0         Yolo  ...             82.875  False\n",
              "2944          0.0    San Diego  ...             58.750  False\n",
              "2945          0.0    Riverside  ...             31.000  False\n",
              "\n",
              "[2946 rows x 27 columns]"
            ]
          },
          "metadata": {},
          "execution_count": 4
        }
      ]
    },
    {
      "cell_type": "code",
      "metadata": {
        "id": "O91q6-3NksWo"
      },
      "source": [
        "data = data.replace({\n",
        "    'Fire' : {\n",
        "        True : 1,\n",
        "        False : 0\n",
        "    }\n",
        "})"
      ],
      "execution_count": null,
      "outputs": []
    },
    {
      "cell_type": "code",
      "metadata": {
        "id": "ZgvoKOaHj6iD",
        "colab": {
          "base_uri": "https://localhost:8080/"
        },
        "outputId": "add93d9e-2423-4c5e-f9a1-85145f94e3c4"
      },
      "source": [
        "all_features = list(data.columns)[6:21] + list(data.columns)[21:-1]\n",
        "target = ['Fire']\n",
        "all_features\n"
      ],
      "execution_count": null,
      "outputs": [
        {
          "output_type": "execute_result",
          "data": {
            "text/plain": [
              "['Temp Day One',\n",
              " 'Temp Day Two',\n",
              " 'Temp Day Three',\n",
              " 'Temp Day Four',\n",
              " 'Temp Day Five',\n",
              " 'MaxTemp Day One',\n",
              " 'MaxTemp Day Two',\n",
              " 'MaxTemp Day Three',\n",
              " 'MaxTemp Day Four',\n",
              " 'MaxTemp Day Five',\n",
              " 'MinTemp Day One',\n",
              " 'MinTemp Day Two',\n",
              " 'MinTemp Day Three',\n",
              " 'MinTemp Day Four',\n",
              " 'MinTemp Day Five',\n",
              " 'Humidity Day One',\n",
              " 'Humidity Day Two',\n",
              " 'Humidity Day Three',\n",
              " 'Humidity Day Four',\n",
              " 'Humidity Day Five']"
            ]
          },
          "metadata": {},
          "execution_count": 6
        }
      ]
    },
    {
      "cell_type": "markdown",
      "metadata": {
        "id": "xKtcM6hAmoHs"
      },
      "source": [
        "# Model Training\n",
        "\n"
      ]
    },
    {
      "cell_type": "code",
      "metadata": {
        "id": "-oocBbZkqopU"
      },
      "source": [
        "class ModelsClass:\n",
        "  def __init__(self, X, y):\n",
        "    self.X = data[X].values\n",
        "    self.y = data[y].values\n",
        "    print(X)\n",
        "\n",
        "  def logisticReg(self):\n",
        "    X_train, X_test, y_train, y_test = train_test_split(self.X, self.y, test_size=0.33)\n",
        "\n",
        "    logreg = LogisticRegression(random_state=20191016, solver='lbfgs', max_iter= 1000)\n",
        "\n",
        "    logreg.fit(X_train, y_train.ravel())\n",
        "    self.score(X_test, y_test, logreg)\n",
        "\n",
        "  def logisticRegNormal(self):\n",
        "    scaler = StandardScaler()\n",
        "    scaled_train_features = scaler.fit_transform(self.X)\n",
        "\n",
        "    X_train, X_test, y_train, y_test = train_test_split(scaled_train_features, self.y, test_size=0.33)\n",
        "\n",
        "    logreg = LogisticRegression(random_state=20191016, solver='lbfgs', max_iter= 1000)\n",
        "\n",
        "    logreg.fit(X_train, y_train.ravel())\n",
        "    self.score(X_test, y_test, logreg)\n",
        "  \n",
        "  def RandomForest(self):\n",
        "    X_train, X_test, y_train, y_test = train_test_split(self.X, self.y, test_size=0.33)\n",
        "\n",
        "    random = RandomForestClassifier()\n",
        "\n",
        "    random.fit(X_train, y_train.ravel())\n",
        "    self.score(X_test, y_test, random)\n",
        "\n",
        "  def svc(self):\n",
        "    X_train, X_test, y_train, y_test = train_test_split(self.X, self.y, test_size=0.33)\n",
        "\n",
        "    svc = SVC()\n",
        "\n",
        "    svc.fit(X_train, y_train.ravel())\n",
        "    self.score(X_test, y_test, svc)\n",
        "\n",
        "  def score(self, a, b, model):\n",
        "    j = 0.000\n",
        "    for i in range(50):\n",
        "      j += model.score(a, b)\n",
        "    j = j / 50\n",
        "    print(\"The average score after running 50 times is : {avg:.2f}%\".format(avg = (j * 100)))"
      ],
      "execution_count": null,
      "outputs": []
    },
    {
      "cell_type": "code",
      "metadata": {
        "id": "-u40G2t4qv_7"
      },
      "source": [
        "a = ModelsClass(all_features, target)"
      ],
      "execution_count": null,
      "outputs": []
    },
    {
      "cell_type": "code",
      "metadata": {
        "colab": {
          "base_uri": "https://localhost:8080/"
        },
        "id": "J99aQrOT2yPR",
        "outputId": "bca3a00b-a47b-4d75-8e59-720ced3098c0"
      },
      "source": [
        "a.logisticReg()"
      ],
      "execution_count": null,
      "outputs": [
        {
          "output_type": "stream",
          "name": "stdout",
          "text": [
            "The average score after running 50 times is : 55.81%\n"
          ]
        }
      ]
    },
    {
      "cell_type": "markdown",
      "metadata": {
        "id": "TH644SUVtCD3"
      },
      "source": [
        "*Let's try normalizing the data and see if the accuracy changes.*"
      ]
    },
    {
      "cell_type": "code",
      "metadata": {
        "colab": {
          "base_uri": "https://localhost:8080/"
        },
        "id": "RgtYHgQpzICi",
        "outputId": "28c12c38-bf24-41d4-988d-358dd131be9b"
      },
      "source": [
        "a.logisticRegNormal()"
      ],
      "execution_count": null,
      "outputs": [
        {
          "output_type": "stream",
          "name": "stdout",
          "text": [
            "The average score after running 50 times is : 56.83%\n"
          ]
        }
      ]
    },
    {
      "cell_type": "markdown",
      "metadata": {
        "id": "MgOSnnyv3DiJ"
      },
      "source": [
        "**The accuracy seems to be the same. So let's maybe try a different model and see the result**"
      ]
    },
    {
      "cell_type": "markdown",
      "metadata": {
        "id": "QZZH_DdWeC8a"
      },
      "source": [
        "*Random Forest Classifier*"
      ]
    },
    {
      "cell_type": "code",
      "metadata": {
        "id": "xegnXHbd3BjL",
        "colab": {
          "base_uri": "https://localhost:8080/"
        },
        "outputId": "912b79d0-2b33-482e-9f80-79f4fc829c9a"
      },
      "source": [
        "a.RandomForest()"
      ],
      "execution_count": null,
      "outputs": [
        {
          "output_type": "stream",
          "name": "stdout",
          "text": [
            "The average score after running 50 times is : 57.35%\n"
          ]
        }
      ]
    },
    {
      "cell_type": "markdown",
      "metadata": {
        "id": "l5RObXTJeHFh"
      },
      "source": [
        "*Support Vector Classifier*"
      ]
    },
    {
      "cell_type": "code",
      "metadata": {
        "colab": {
          "base_uri": "https://localhost:8080/"
        },
        "id": "Bme3wzNudH5i",
        "outputId": "b21503ef-b824-4625-d2ca-dd07cd039758"
      },
      "source": [
        "a.svc()"
      ],
      "execution_count": null,
      "outputs": [
        {
          "output_type": "stream",
          "name": "stdout",
          "text": [
            "The average score after running 50 times is : 57.04%\n"
          ]
        }
      ]
    },
    {
      "cell_type": "markdown",
      "metadata": {
        "id": "phlRg_9cdxz8"
      },
      "source": [
        "**The accuracy did not change even when we tried different models. This means that we need to modify our features.** \\\\\n",
        "*Note that if we increase the training dataset size the accuracy of models like the SVC does increase*"
      ]
    },
    {
      "cell_type": "markdown",
      "metadata": {
        "id": "4u-6M8FEfkSB"
      },
      "source": [
        "## Approach #1"
      ]
    },
    {
      "cell_type": "markdown",
      "metadata": {
        "id": "bXfnZje2fqa2"
      },
      "source": [
        "*Instead of using all the value of the features let us look at the averages.*"
      ]
    },
    {
      "cell_type": "code",
      "metadata": {
        "id": "iPfHeSIOgX28"
      },
      "source": [
        "data['tmp avg'] = (data[\"Temp Day One\"] + data['Temp Day Two'] + data['Temp Day Three'] + data['Temp Day Four'] \n",
        "                   + data['Temp Day Five'])/5\n",
        "\n",
        "data['tmpMax avg'] = (data[\"MaxTemp Day One\"] + data['MaxTemp Day Two'] + data['MaxTemp Day Three'] + data['MaxTemp Day Four'] \n",
        "                   + data['MaxTemp Day Five'])/5\n",
        "\n",
        "data['tmpMin avg'] = (data[\"MinTemp Day One\"] + data['MinTemp Day Two'] + data['MinTemp Day Three'] + data['MinTemp Day Four'] \n",
        "                   + data['MinTemp Day Five'])/5\n"
      ],
      "execution_count": null,
      "outputs": []
    },
    {
      "cell_type": "code",
      "metadata": {
        "id": "NLvxgv1pdt06"
      },
      "source": [
        "data['hum avg'] = (data[\"Humidity Day One\"] + data['Humidity Day Two'] + data['Humidity Day Three'] + data['Humidity Day Four'] + data['Humidity Day Five'])/5"
      ],
      "execution_count": null,
      "outputs": []
    },
    {
      "cell_type": "code",
      "metadata": {
        "id": "fGAa3J6NhULQ"
      },
      "source": [
        "all_features = list(data.columns)[27:-2]"
      ],
      "execution_count": null,
      "outputs": []
    },
    {
      "cell_type": "code",
      "metadata": {
        "colab": {
          "base_uri": "https://localhost:8080/"
        },
        "id": "hdtfFzAqiAmt",
        "outputId": "34094a26-f6c7-410c-811d-50c07a1294d7"
      },
      "source": [
        "list(data.columns)[27: -2]"
      ],
      "execution_count": null,
      "outputs": [
        {
          "output_type": "execute_result",
          "data": {
            "text/plain": [
              "['hum avg', 'tmp avg']"
            ]
          },
          "metadata": {},
          "execution_count": 102
        }
      ]
    },
    {
      "cell_type": "code",
      "metadata": {
        "colab": {
          "base_uri": "https://localhost:8080/"
        },
        "id": "Ev0_g3j9hUHv",
        "outputId": "d92b79f9-73d5-43d2-a1fa-f47eb6513bf4"
      },
      "source": [
        "b = ModelsClass(all_features, target)"
      ],
      "execution_count": null,
      "outputs": [
        {
          "output_type": "stream",
          "name": "stdout",
          "text": [
            "['hum avg', 'tmp avg']\n"
          ]
        }
      ]
    },
    {
      "cell_type": "code",
      "metadata": {
        "colab": {
          "base_uri": "https://localhost:8080/"
        },
        "id": "L6xRGFzIhUEW",
        "outputId": "4a515eae-6fef-4991-98b7-22a0f7cfb811"
      },
      "source": [
        "b.logisticReg()"
      ],
      "execution_count": null,
      "outputs": [
        {
          "output_type": "stream",
          "name": "stdout",
          "text": [
            "The average score after running 50 times is : 56.42%\n"
          ]
        }
      ]
    },
    {
      "cell_type": "code",
      "metadata": {
        "colab": {
          "base_uri": "https://localhost:8080/"
        },
        "id": "Q2cR1X_biR-B",
        "outputId": "d302b9ab-f552-47e8-da79-64dedeaa3f06"
      },
      "source": [
        "b.logisticRegNormal()"
      ],
      "execution_count": null,
      "outputs": [
        {
          "output_type": "stream",
          "name": "stdout",
          "text": [
            "The average score after running 50 times is : 53.44%\n"
          ]
        }
      ]
    },
    {
      "cell_type": "code",
      "metadata": {
        "colab": {
          "base_uri": "https://localhost:8080/"
        },
        "id": "WMidN2VPiTDa",
        "outputId": "05c227dc-9fd1-4270-9373-3a2f199b5e16"
      },
      "source": [
        "b.RandomForest()"
      ],
      "execution_count": null,
      "outputs": [
        {
          "output_type": "stream",
          "name": "stdout",
          "text": [
            "The average score after running 50 times is : 54.06%\n"
          ]
        }
      ]
    },
    {
      "cell_type": "code",
      "metadata": {
        "colab": {
          "base_uri": "https://localhost:8080/"
        },
        "id": "6WiDHv0viVW6",
        "outputId": "60a3a3c5-b6f4-4b86-c320-fc4a6b41fdc6"
      },
      "source": [
        "b.svc()"
      ],
      "execution_count": null,
      "outputs": [
        {
          "output_type": "stream",
          "name": "stdout",
          "text": [
            "The average score after running 50 times is : 55.40%\n"
          ]
        }
      ]
    },
    {
      "cell_type": "markdown",
      "metadata": {
        "id": "fVVyxPPNiQai"
      },
      "source": [
        "*Using the averages does not change anything*"
      ]
    },
    {
      "cell_type": "markdown",
      "metadata": {
        "id": "1oalyQrau7Qu"
      },
      "source": [
        "#**Another Model**\n",
        "\n"
      ]
    },
    {
      "cell_type": "markdown",
      "metadata": {
        "id": "kQg2OZdpvJIV"
      },
      "source": [
        "First we will check if our dataset is ready to process without any missing values.If there is missing values we will take care of that for the accuracy of our model."
      ]
    },
    {
      "cell_type": "code",
      "metadata": {
        "id": "yBM4XCsQhT6R",
        "colab": {
          "base_uri": "https://localhost:8080/"
        },
        "outputId": "960be667-488e-423f-f274-b673d5fa6547"
      },
      "source": [
        "data.isna().sum()"
      ],
      "execution_count": null,
      "outputs": [
        {
          "output_type": "execute_result",
          "data": {
            "text/plain": [
              "AcresBurned               0\n",
              "Counties                  0\n",
              "Latitude                  0\n",
              "Longitude                 0\n",
              "Started                   0\n",
              "FIPS                      0\n",
              "Temp Day One              0\n",
              "Temp Day Two              0\n",
              "Temp Day Three            0\n",
              "Temp Day Four             0\n",
              "Temp Day Five             0\n",
              "MaxTemp Day One           0\n",
              "MaxTemp Day Two           0\n",
              "MaxTemp Day Three         0\n",
              "MaxTemp Day Four          0\n",
              "MaxTemp Day Five          0\n",
              "MinTemp Day One           0\n",
              "MinTemp Day Two           0\n",
              "MinTemp Day Three         0\n",
              "MinTemp Day Four          0\n",
              "MinTemp Day Five          0\n",
              "Humidity Day One          0\n",
              "Humidity Day Two          0\n",
              "Humidity Day Three        0\n",
              "Humidity Day Four         0\n",
              "Humidity Day Five         0\n",
              "Fire                      0\n",
              "AcresBurned_is_missing    0\n",
              "FIPS_is_missing           0\n",
              "Counties_is_missing       0\n",
              "Started_is_missing        0\n",
              "dtype: int64"
            ]
          },
          "metadata": {},
          "execution_count": 83
        }
      ]
    },
    {
      "cell_type": "code",
      "metadata": {
        "id": "JzGfl30PrF48"
      },
      "source": [
        "# Turn missing \"AcresBurned\" into numbers\n",
        "for label, content in data.items():\n",
        "    # Checking for columns which are not numeric\n",
        "    if not pd.api.types.is_numeric_dtype(content):\n",
        "        data[label+\"_is_missing\"] = pd.isnull(content)\n",
        "        # We add the +1 because pandas encodes missing categories as -1\n",
        "        data[label] = pd.Categorical(content).codes+1 \n"
      ],
      "execution_count": null,
      "outputs": []
    },
    {
      "cell_type": "markdown",
      "metadata": {
        "id": "pWougDvrviZ4"
      },
      "source": [
        "We will fill our missing values in \"AcresBurned\" Column . We will track if the value is missing with T/F. So after \n",
        "filling the column we should see AcresBurned with comments \"is_missing\" as False which means there is no missing."
      ]
    },
    {
      "cell_type": "code",
      "metadata": {
        "id": "9V_PUiPKrGUY"
      },
      "source": [
        "# Check if there's any null values\n",
        "for label, content in data.items():\n",
        "    if pd.api.types.is_numeric_dtype(content):\n",
        "        if pd.isnull(content).sum():\n",
        "            print(label)\n"
      ],
      "execution_count": null,
      "outputs": []
    },
    {
      "cell_type": "code",
      "metadata": {
        "id": "-kt4PKhArGm2",
        "colab": {
          "base_uri": "https://localhost:8080/"
        },
        "outputId": "260a0af1-990c-411a-db92-71438f125feb"
      },
      "source": [
        "data.isna().sum()"
      ],
      "execution_count": null,
      "outputs": [
        {
          "output_type": "execute_result",
          "data": {
            "text/plain": [
              "AcresBurned               0\n",
              "Counties                  0\n",
              "Latitude                  0\n",
              "Longitude                 0\n",
              "Started                   0\n",
              "FIPS                      0\n",
              "Temp Day One              0\n",
              "Temp Day Two              0\n",
              "Temp Day Three            0\n",
              "Temp Day Four             0\n",
              "Temp Day Five             0\n",
              "MaxTemp Day One           0\n",
              "MaxTemp Day Two           0\n",
              "MaxTemp Day Three         0\n",
              "MaxTemp Day Four          0\n",
              "MaxTemp Day Five          0\n",
              "MinTemp Day One           0\n",
              "MinTemp Day Two           0\n",
              "MinTemp Day Three         0\n",
              "MinTemp Day Four          0\n",
              "MinTemp Day Five          0\n",
              "Humidity Day One          0\n",
              "Humidity Day Two          0\n",
              "Humidity Day Three        0\n",
              "Humidity Day Four         0\n",
              "Humidity Day Five         0\n",
              "Fire                      0\n",
              "AcresBurned_is_missing    0\n",
              "FIPS_is_missing           0\n",
              "Counties_is_missing       0\n",
              "Started_is_missing        0\n",
              "dtype: int64"
            ]
          },
          "metadata": {},
          "execution_count": 22
        }
      ]
    },
    {
      "cell_type": "markdown",
      "metadata": {
        "id": "WjZts6KMv5Rz"
      },
      "source": [
        "Now all of our data is numeric and there are no missing values, we should be able to build a machine learning model!"
      ]
    },
    {
      "cell_type": "code",
      "metadata": {
        "colab": {
          "base_uri": "https://localhost:8080/"
        },
        "id": "NK3ucLVxzsXN",
        "outputId": "b77963f9-4b6d-4105-d6f4-87f97be19bb1"
      },
      "source": [
        "len(data)"
      ],
      "execution_count": null,
      "outputs": [
        {
          "output_type": "execute_result",
          "data": {
            "text/plain": [
              "2946"
            ]
          },
          "metadata": {},
          "execution_count": 27
        }
      ]
    },
    {
      "cell_type": "markdown",
      "metadata": {
        "id": "BJaGQ8zszvDr"
      },
      "source": [
        ""
      ]
    },
    {
      "cell_type": "code",
      "metadata": {
        "id": "SdKEoBN9rG44",
        "colab": {
          "base_uri": "https://localhost:8080/"
        },
        "outputId": "7b790daf-188c-40c7-8d1f-5151f83f85f7"
      },
      "source": [
        "#How many acres per county are burnt by Wildfires?\n",
        "\n",
        "%%time\n",
        "# Instantiate model\n",
        "model = RandomForestRegressor(n_jobs=-1,random_state=42)\n",
        "\n",
        "# Fit the model\n",
        "model.fit(data.drop(\"AcresBurned\", axis=1), data.AcresBurned)"
      ],
      "execution_count": null,
      "outputs": [
        {
          "output_type": "stream",
          "name": "stdout",
          "text": [
            "CPU times: user 3.46 s, sys: 8.32 ms, total: 3.46 s\n",
            "Wall time: 1.85 s\n"
          ]
        }
      ]
    },
    {
      "cell_type": "markdown",
      "metadata": {
        "id": "878EX5VP0RFK"
      },
      "source": [
        "We have almost 2946 values so we will track how much time it will take a forestregression model.we will instantiate a random forest model with random state 42. It takes about 1.85s to go through the model which took fairly less time considering the data cleaning that we have done in out dataset.In the regression model, the default score value is upto R^2 which is 1 .  When we scored the model it came 0.906...\n"
      ]
    },
    {
      "cell_type": "code",
      "metadata": {
        "colab": {
          "base_uri": "https://localhost:8080/"
        },
        "id": "43B0TbThwy8R",
        "outputId": "05937193-c7d2-4add-ad27-5e5093e8e1ed"
      },
      "source": [
        "# Score the model\n",
        "model.score(data.drop(\"AcresBurned\", axis=1), data.AcresBurned)"
      ],
      "execution_count": null,
      "outputs": [
        {
          "output_type": "execute_result",
          "data": {
            "text/plain": [
              "0.9061603278515105"
            ]
          },
          "metadata": {},
          "execution_count": 26
        }
      ]
    },
    {
      "cell_type": "code",
      "metadata": {
        "id": "P0m6BjQEy7hh"
      },
      "source": [
        "# lets make our training set (Split data into X and y)\n",
        "X = data.drop(\"Fire\", axis=1)\n",
        "\n",
        "y = data[\"Fire\"]"
      ],
      "execution_count": null,
      "outputs": []
    },
    {
      "cell_type": "code",
      "metadata": {
        "colab": {
          "base_uri": "https://localhost:8080/",
          "height": 478
        },
        "id": "lw6Ae-_Y5Zl3",
        "outputId": "a1601eab-b3ff-48cf-89ea-5a1d828f7b23"
      },
      "source": [
        "X"
      ],
      "execution_count": null,
      "outputs": [
        {
          "output_type": "execute_result",
          "data": {
            "text/html": [
              "<div>\n",
              "<style scoped>\n",
              "    .dataframe tbody tr th:only-of-type {\n",
              "        vertical-align: middle;\n",
              "    }\n",
              "\n",
              "    .dataframe tbody tr th {\n",
              "        vertical-align: top;\n",
              "    }\n",
              "\n",
              "    .dataframe thead th {\n",
              "        text-align: right;\n",
              "    }\n",
              "</style>\n",
              "<table border=\"1\" class=\"dataframe\">\n",
              "  <thead>\n",
              "    <tr style=\"text-align: right;\">\n",
              "      <th></th>\n",
              "      <th>AcresBurned</th>\n",
              "      <th>Counties</th>\n",
              "      <th>Latitude</th>\n",
              "      <th>Longitude</th>\n",
              "      <th>Started</th>\n",
              "      <th>FIPS</th>\n",
              "      <th>Temp Day One</th>\n",
              "      <th>Temp Day Two</th>\n",
              "      <th>Temp Day Three</th>\n",
              "      <th>Temp Day Four</th>\n",
              "      <th>Temp Day Five</th>\n",
              "      <th>MaxTemp Day One</th>\n",
              "      <th>MaxTemp Day Two</th>\n",
              "      <th>MaxTemp Day Three</th>\n",
              "      <th>MaxTemp Day Four</th>\n",
              "      <th>MaxTemp Day Five</th>\n",
              "      <th>MinTemp Day One</th>\n",
              "      <th>MinTemp Day Two</th>\n",
              "      <th>MinTemp Day Three</th>\n",
              "      <th>MinTemp Day Four</th>\n",
              "      <th>MinTemp Day Five</th>\n",
              "      <th>Humidity Day One</th>\n",
              "      <th>Humidity Day Two</th>\n",
              "      <th>Humidity Day Three</th>\n",
              "      <th>Humidity Day Four</th>\n",
              "      <th>Humidity Day Five</th>\n",
              "      <th>AcresBurned_is_missing</th>\n",
              "      <th>FIPS_is_missing</th>\n",
              "      <th>Counties_is_missing</th>\n",
              "      <th>Started_is_missing</th>\n",
              "    </tr>\n",
              "  </thead>\n",
              "  <tbody>\n",
              "    <tr>\n",
              "      <th>0</th>\n",
              "      <td>257314.0</td>\n",
              "      <td>56</td>\n",
              "      <td>37.857000</td>\n",
              "      <td>-120.086000</td>\n",
              "      <td>293</td>\n",
              "      <td>6109.0</td>\n",
              "      <td>74.0</td>\n",
              "      <td>78.0</td>\n",
              "      <td>79.0</td>\n",
              "      <td>79.0</td>\n",
              "      <td>80.0</td>\n",
              "      <td>83.0</td>\n",
              "      <td>87.0</td>\n",
              "      <td>88.0</td>\n",
              "      <td>88.0</td>\n",
              "      <td>89.0</td>\n",
              "      <td>50.0</td>\n",
              "      <td>52.0</td>\n",
              "      <td>52.0</td>\n",
              "      <td>52.0</td>\n",
              "      <td>54.0</td>\n",
              "      <td>38.000</td>\n",
              "      <td>33.000</td>\n",
              "      <td>34.000</td>\n",
              "      <td>35.125</td>\n",
              "      <td>33.000</td>\n",
              "      <td>False</td>\n",
              "      <td>False</td>\n",
              "      <td>False</td>\n",
              "      <td>False</td>\n",
              "    </tr>\n",
              "    <tr>\n",
              "      <th>1</th>\n",
              "      <td>30274.0</td>\n",
              "      <td>18</td>\n",
              "      <td>34.585595</td>\n",
              "      <td>-118.423176</td>\n",
              "      <td>187</td>\n",
              "      <td>6037.0</td>\n",
              "      <td>72.0</td>\n",
              "      <td>72.0</td>\n",
              "      <td>75.0</td>\n",
              "      <td>73.0</td>\n",
              "      <td>78.0</td>\n",
              "      <td>82.0</td>\n",
              "      <td>82.0</td>\n",
              "      <td>86.0</td>\n",
              "      <td>83.0</td>\n",
              "      <td>87.0</td>\n",
              "      <td>42.0</td>\n",
              "      <td>43.0</td>\n",
              "      <td>45.0</td>\n",
              "      <td>46.0</td>\n",
              "      <td>47.0</td>\n",
              "      <td>46.000</td>\n",
              "      <td>46.500</td>\n",
              "      <td>40.625</td>\n",
              "      <td>53.875</td>\n",
              "      <td>39.625</td>\n",
              "      <td>False</td>\n",
              "      <td>False</td>\n",
              "      <td>False</td>\n",
              "      <td>False</td>\n",
              "    </tr>\n",
              "    <tr>\n",
              "      <th>2</th>\n",
              "      <td>27531.0</td>\n",
              "      <td>33</td>\n",
              "      <td>33.709500</td>\n",
              "      <td>-116.728850</td>\n",
              "      <td>247</td>\n",
              "      <td>6065.0</td>\n",
              "      <td>82.0</td>\n",
              "      <td>77.0</td>\n",
              "      <td>79.0</td>\n",
              "      <td>82.0</td>\n",
              "      <td>84.0</td>\n",
              "      <td>88.0</td>\n",
              "      <td>82.0</td>\n",
              "      <td>84.0</td>\n",
              "      <td>88.0</td>\n",
              "      <td>90.0</td>\n",
              "      <td>66.0</td>\n",
              "      <td>65.0</td>\n",
              "      <td>65.0</td>\n",
              "      <td>66.0</td>\n",
              "      <td>68.0</td>\n",
              "      <td>34.750</td>\n",
              "      <td>51.375</td>\n",
              "      <td>48.375</td>\n",
              "      <td>27.875</td>\n",
              "      <td>27.000</td>\n",
              "      <td>False</td>\n",
              "      <td>False</td>\n",
              "      <td>False</td>\n",
              "      <td>False</td>\n",
              "    </tr>\n",
              "    <tr>\n",
              "      <th>3</th>\n",
              "      <td>27440.0</td>\n",
              "      <td>31</td>\n",
              "      <td>39.120000</td>\n",
              "      <td>-120.650000</td>\n",
              "      <td>280</td>\n",
              "      <td>6061.0</td>\n",
              "      <td>74.0</td>\n",
              "      <td>73.0</td>\n",
              "      <td>68.0</td>\n",
              "      <td>67.0</td>\n",
              "      <td>67.0</td>\n",
              "      <td>85.0</td>\n",
              "      <td>83.0</td>\n",
              "      <td>77.0</td>\n",
              "      <td>77.0</td>\n",
              "      <td>78.0</td>\n",
              "      <td>45.0</td>\n",
              "      <td>44.0</td>\n",
              "      <td>45.0</td>\n",
              "      <td>41.0</td>\n",
              "      <td>40.0</td>\n",
              "      <td>44.625</td>\n",
              "      <td>42.750</td>\n",
              "      <td>53.125</td>\n",
              "      <td>56.250</td>\n",
              "      <td>53.000</td>\n",
              "      <td>False</td>\n",
              "      <td>False</td>\n",
              "      <td>False</td>\n",
              "      <td>False</td>\n",
              "    </tr>\n",
              "    <tr>\n",
              "      <th>4</th>\n",
              "      <td>22992.0</td>\n",
              "      <td>10</td>\n",
              "      <td>37.279000</td>\n",
              "      <td>-119.318000</td>\n",
              "      <td>255</td>\n",
              "      <td>6019.0</td>\n",
              "      <td>68.0</td>\n",
              "      <td>71.0</td>\n",
              "      <td>74.0</td>\n",
              "      <td>75.0</td>\n",
              "      <td>74.0</td>\n",
              "      <td>76.0</td>\n",
              "      <td>80.0</td>\n",
              "      <td>82.0</td>\n",
              "      <td>84.0</td>\n",
              "      <td>82.0</td>\n",
              "      <td>46.0</td>\n",
              "      <td>52.0</td>\n",
              "      <td>55.0</td>\n",
              "      <td>57.0</td>\n",
              "      <td>54.0</td>\n",
              "      <td>29.375</td>\n",
              "      <td>28.125</td>\n",
              "      <td>27.250</td>\n",
              "      <td>25.000</td>\n",
              "      <td>34.000</td>\n",
              "      <td>False</td>\n",
              "      <td>False</td>\n",
              "      <td>False</td>\n",
              "      <td>False</td>\n",
              "    </tr>\n",
              "    <tr>\n",
              "      <th>...</th>\n",
              "      <td>...</td>\n",
              "      <td>...</td>\n",
              "      <td>...</td>\n",
              "      <td>...</td>\n",
              "      <td>...</td>\n",
              "      <td>...</td>\n",
              "      <td>...</td>\n",
              "      <td>...</td>\n",
              "      <td>...</td>\n",
              "      <td>...</td>\n",
              "      <td>...</td>\n",
              "      <td>...</td>\n",
              "      <td>...</td>\n",
              "      <td>...</td>\n",
              "      <td>...</td>\n",
              "      <td>...</td>\n",
              "      <td>...</td>\n",
              "      <td>...</td>\n",
              "      <td>...</td>\n",
              "      <td>...</td>\n",
              "      <td>...</td>\n",
              "      <td>...</td>\n",
              "      <td>...</td>\n",
              "      <td>...</td>\n",
              "      <td>...</td>\n",
              "      <td>...</td>\n",
              "      <td>...</td>\n",
              "      <td>...</td>\n",
              "      <td>...</td>\n",
              "      <td>...</td>\n",
              "    </tr>\n",
              "    <tr>\n",
              "      <th>2941</th>\n",
              "      <td>0.0</td>\n",
              "      <td>33</td>\n",
              "      <td>33.827979</td>\n",
              "      <td>-117.499619</td>\n",
              "      <td>2547</td>\n",
              "      <td>6065.0</td>\n",
              "      <td>70.0</td>\n",
              "      <td>69.0</td>\n",
              "      <td>77.0</td>\n",
              "      <td>65.0</td>\n",
              "      <td>71.0</td>\n",
              "      <td>74.0</td>\n",
              "      <td>74.0</td>\n",
              "      <td>85.0</td>\n",
              "      <td>67.0</td>\n",
              "      <td>78.0</td>\n",
              "      <td>63.0</td>\n",
              "      <td>63.0</td>\n",
              "      <td>69.0</td>\n",
              "      <td>64.0</td>\n",
              "      <td>64.0</td>\n",
              "      <td>59.500</td>\n",
              "      <td>56.375</td>\n",
              "      <td>48.625</td>\n",
              "      <td>73.750</td>\n",
              "      <td>64.875</td>\n",
              "      <td>False</td>\n",
              "      <td>False</td>\n",
              "      <td>False</td>\n",
              "      <td>False</td>\n",
              "    </tr>\n",
              "    <tr>\n",
              "      <th>2942</th>\n",
              "      <td>0.0</td>\n",
              "      <td>29</td>\n",
              "      <td>39.409722</td>\n",
              "      <td>-121.000556</td>\n",
              "      <td>2221</td>\n",
              "      <td>6057.0</td>\n",
              "      <td>73.0</td>\n",
              "      <td>79.0</td>\n",
              "      <td>87.0</td>\n",
              "      <td>86.0</td>\n",
              "      <td>84.0</td>\n",
              "      <td>79.0</td>\n",
              "      <td>86.0</td>\n",
              "      <td>96.0</td>\n",
              "      <td>93.0</td>\n",
              "      <td>90.0</td>\n",
              "      <td>57.0</td>\n",
              "      <td>58.0</td>\n",
              "      <td>67.0</td>\n",
              "      <td>69.0</td>\n",
              "      <td>66.0</td>\n",
              "      <td>39.250</td>\n",
              "      <td>37.875</td>\n",
              "      <td>27.250</td>\n",
              "      <td>27.375</td>\n",
              "      <td>33.500</td>\n",
              "      <td>False</td>\n",
              "      <td>False</td>\n",
              "      <td>False</td>\n",
              "      <td>False</td>\n",
              "    </tr>\n",
              "    <tr>\n",
              "      <th>2943</th>\n",
              "      <td>0.0</td>\n",
              "      <td>58</td>\n",
              "      <td>38.734634</td>\n",
              "      <td>-121.729691</td>\n",
              "      <td>2616</td>\n",
              "      <td>6113.0</td>\n",
              "      <td>58.0</td>\n",
              "      <td>58.0</td>\n",
              "      <td>55.0</td>\n",
              "      <td>59.0</td>\n",
              "      <td>55.0</td>\n",
              "      <td>64.0</td>\n",
              "      <td>64.0</td>\n",
              "      <td>57.0</td>\n",
              "      <td>63.0</td>\n",
              "      <td>57.0</td>\n",
              "      <td>50.0</td>\n",
              "      <td>50.0</td>\n",
              "      <td>51.0</td>\n",
              "      <td>53.0</td>\n",
              "      <td>51.0</td>\n",
              "      <td>64.250</td>\n",
              "      <td>63.625</td>\n",
              "      <td>86.000</td>\n",
              "      <td>83.875</td>\n",
              "      <td>82.875</td>\n",
              "      <td>False</td>\n",
              "      <td>False</td>\n",
              "      <td>False</td>\n",
              "      <td>False</td>\n",
              "    </tr>\n",
              "    <tr>\n",
              "      <th>2944</th>\n",
              "      <td>0.0</td>\n",
              "      <td>37</td>\n",
              "      <td>33.351145</td>\n",
              "      <td>-117.403719</td>\n",
              "      <td>2573</td>\n",
              "      <td>6073.0</td>\n",
              "      <td>67.0</td>\n",
              "      <td>68.0</td>\n",
              "      <td>71.0</td>\n",
              "      <td>71.0</td>\n",
              "      <td>77.0</td>\n",
              "      <td>72.0</td>\n",
              "      <td>73.0</td>\n",
              "      <td>75.0</td>\n",
              "      <td>76.0</td>\n",
              "      <td>82.0</td>\n",
              "      <td>60.0</td>\n",
              "      <td>60.0</td>\n",
              "      <td>58.0</td>\n",
              "      <td>62.0</td>\n",
              "      <td>65.0</td>\n",
              "      <td>76.625</td>\n",
              "      <td>79.125</td>\n",
              "      <td>79.000</td>\n",
              "      <td>74.500</td>\n",
              "      <td>58.750</td>\n",
              "      <td>False</td>\n",
              "      <td>False</td>\n",
              "      <td>False</td>\n",
              "      <td>False</td>\n",
              "    </tr>\n",
              "    <tr>\n",
              "      <th>2945</th>\n",
              "      <td>0.0</td>\n",
              "      <td>33</td>\n",
              "      <td>33.451480</td>\n",
              "      <td>-116.058980</td>\n",
              "      <td>2563</td>\n",
              "      <td>6065.0</td>\n",
              "      <td>73.0</td>\n",
              "      <td>65.0</td>\n",
              "      <td>65.0</td>\n",
              "      <td>68.0</td>\n",
              "      <td>70.0</td>\n",
              "      <td>79.0</td>\n",
              "      <td>72.0</td>\n",
              "      <td>75.0</td>\n",
              "      <td>76.0</td>\n",
              "      <td>80.0</td>\n",
              "      <td>57.0</td>\n",
              "      <td>50.0</td>\n",
              "      <td>48.0</td>\n",
              "      <td>49.0</td>\n",
              "      <td>49.0</td>\n",
              "      <td>49.375</td>\n",
              "      <td>17.875</td>\n",
              "      <td>18.125</td>\n",
              "      <td>31.125</td>\n",
              "      <td>31.000</td>\n",
              "      <td>False</td>\n",
              "      <td>False</td>\n",
              "      <td>False</td>\n",
              "      <td>False</td>\n",
              "    </tr>\n",
              "  </tbody>\n",
              "</table>\n",
              "<p>2946 rows × 30 columns</p>\n",
              "</div>"
            ],
            "text/plain": [
              "      AcresBurned  Counties  ...  Counties_is_missing  Started_is_missing\n",
              "0        257314.0        56  ...                False               False\n",
              "1         30274.0        18  ...                False               False\n",
              "2         27531.0        33  ...                False               False\n",
              "3         27440.0        31  ...                False               False\n",
              "4         22992.0        10  ...                False               False\n",
              "...           ...       ...  ...                  ...                 ...\n",
              "2941          0.0        33  ...                False               False\n",
              "2942          0.0        29  ...                False               False\n",
              "2943          0.0        58  ...                False               False\n",
              "2944          0.0        37  ...                False               False\n",
              "2945          0.0        33  ...                False               False\n",
              "\n",
              "[2946 rows x 30 columns]"
            ]
          },
          "metadata": {},
          "execution_count": 48
        }
      ]
    },
    {
      "cell_type": "code",
      "metadata": {
        "colab": {
          "base_uri": "https://localhost:8080/"
        },
        "id": "tPjjYP585e4-",
        "outputId": "dd927408-4f5c-45f0-c007-31a477644f48"
      },
      "source": [
        "y"
      ],
      "execution_count": null,
      "outputs": [
        {
          "output_type": "execute_result",
          "data": {
            "text/plain": [
              "0       1\n",
              "1       1\n",
              "2       1\n",
              "3       1\n",
              "4       1\n",
              "       ..\n",
              "2941    0\n",
              "2942    0\n",
              "2943    0\n",
              "2944    0\n",
              "2945    0\n",
              "Name: Fire, Length: 2946, dtype: int64"
            ]
          },
          "metadata": {},
          "execution_count": 49
        }
      ]
    },
    {
      "cell_type": "code",
      "metadata": {
        "id": "2SDWkjlm5p4p"
      },
      "source": [
        "# Split data into train and test sets\n",
        "np.random.seed(42)\n",
        "\n",
        "# Split into train & test set\n",
        "X_train, X_test, y_train, y_test = train_test_split(X,\n",
        "                                                    y,\n",
        "                                                    test_size=0.2)"
      ],
      "execution_count": null,
      "outputs": []
    },
    {
      "cell_type": "code",
      "metadata": {
        "id": "EIvIgoQ16Aaw"
      },
      "source": [
        "# Put all our models in a dictionary\n",
        "models = {\"Logistic Regression\": LogisticRegression(),\n",
        "          \"KNN\": KNeighborsClassifier(),\n",
        "          \"Random Forest\": RandomForestClassifier()}\n",
        "\n",
        "def fit_and_score(models, X_train, X_test, y_train, y_test):\n",
        "    np.random.seed(42)\n",
        "    # Make a dictionary to keep model scores\n",
        "    model_scores = {}\n",
        "    # Loop through models\n",
        "    for name, model in models.items():\n",
        "        # Fit the model to the data\n",
        "        model.fit(X_train, y_train)\n",
        "        # Evaluate the model and append its score to model_scores\n",
        "        model_scores[name] = model.score(X_test, y_test)\n",
        "    return model_scores"
      ],
      "execution_count": null,
      "outputs": []
    },
    {
      "cell_type": "code",
      "metadata": {
        "colab": {
          "base_uri": "https://localhost:8080/"
        },
        "id": "FEuiYtim6WJK",
        "outputId": "4a2541e5-abce-4e58-c74a-680bf80e10fe"
      },
      "source": [
        "%%time\n",
        "model_scores = fit_and_score(models=models,\n",
        "                             X_train=X_train,\n",
        "                             X_test=X_test,\n",
        "                             y_train=y_train,\n",
        "                             y_test=y_test)\n",
        "\n",
        "model_scores"
      ],
      "execution_count": null,
      "outputs": [
        {
          "output_type": "stream",
          "name": "stderr",
          "text": [
            "/usr/local/lib/python3.7/dist-packages/sklearn/linear_model/_logistic.py:818: ConvergenceWarning: lbfgs failed to converge (status=1):\n",
            "STOP: TOTAL NO. of ITERATIONS REACHED LIMIT.\n",
            "\n",
            "Increase the number of iterations (max_iter) or scale the data as shown in:\n",
            "    https://scikit-learn.org/stable/modules/preprocessing.html\n",
            "Please also refer to the documentation for alternative solver options:\n",
            "    https://scikit-learn.org/stable/modules/linear_model.html#logistic-regression\n",
            "  extra_warning_msg=_LOGISTIC_SOLVER_CONVERGENCE_MSG,\n"
          ]
        },
        {
          "output_type": "stream",
          "name": "stdout",
          "text": [
            "CPU times: user 755 ms, sys: 200 ms, total: 955 ms\n",
            "Wall time: 729 ms\n"
          ]
        }
      ]
    },
    {
      "cell_type": "markdown",
      "metadata": {
        "id": "peasyEXX7Moy"
      },
      "source": [
        "Above we have got our data split into training and test sets, it's time to build a machine learning model to find the patterns on the training set and we will use the patterns on the test set.\n",
        "We have looked at three models \n",
        "\n",
        "\n",
        "*   Logistic Regression\n",
        "*   K-Nearest Neighbours Classifier\n",
        "*   Random Forest Classifier   \n",
        "\n",
        "From the result we can see that the Random Forest Classifier has got the highest score.We can Create a visulaization to investigate the result\n"
      ]
    },
    {
      "cell_type": "markdown",
      "metadata": {
        "id": "Ws0EC1GW6zdS"
      },
      "source": [
        "#**Model Comparison**"
      ]
    },
    {
      "cell_type": "code",
      "metadata": {
        "colab": {
          "base_uri": "https://localhost:8080/",
          "height": 334
        },
        "id": "9TTl1WNP65e-",
        "outputId": "fc9d990b-71bd-4eb0-fe4a-329e81f42d9c"
      },
      "source": [
        "model_compare = pd.DataFrame(model_scores, index=[\"Model Accuracy\"])\n",
        "model_compare.plot.bar();\n"
      ],
      "execution_count": null,
      "outputs": [
        {
          "output_type": "display_data",
          "data": {
            "image/png": "[encoded data removed]",
            "text/plain": [
              "<Figure size 432x288 with 1 Axes>"
            ]
          },
          "metadata": {
            "needs_background": "light"
          }
        }
      ]
    },
    {
      "cell_type": "markdown",
      "metadata": {
        "id": "6ze3_meK8O4j"
      },
      "source": [
        "Now we've got a  model running and Let's look at tuning methods, I'd like to quickly revisit the purpose of splitting our data into training, validation, and test data"
      ]
    },
    {
      "cell_type": "code",
      "metadata": {
        "id": "bTAC59T666FN"
      },
      "source": [
        "# Let's tune KNN\n",
        "\n",
        "train_scores = []\n",
        "test_scores = []\n",
        "\n",
        "# Create a list of differnt values for n_neighbors\n",
        "neighbors = range(1, 21)\n",
        "\n",
        "# Setup KNN instance\n",
        "knn = KNeighborsClassifier()\n",
        "\n",
        "# Loop through different n_neighbors\n",
        "for i in neighbors:\n",
        "    knn.set_params(n_neighbors=i)\n",
        "    \n",
        "    # Fit the algorithm\n",
        "    knn.fit(X_train, y_train)\n",
        "    \n",
        "    # Update the training scores list\n",
        "    train_scores.append(knn.score(X_train, y_train))\n",
        "    \n",
        "    # Update the test scores list\n",
        "    test_scores.append(knn.score(X_test, y_test))"
      ],
      "execution_count": null,
      "outputs": []
    },
    {
      "cell_type": "code",
      "metadata": {
        "colab": {
          "base_uri": "https://localhost:8080/"
        },
        "id": "VQ7tnTGG72Re",
        "outputId": "91c423b3-b4d1-4b80-94d6-6c435bb53628"
      },
      "source": [
        "train_scores"
      ],
      "execution_count": null,
      "outputs": [
        {
          "output_type": "execute_result",
          "data": {
            "text/plain": [
              "[1.0,\n",
              " 0.8828522920203735,\n",
              " 0.8866723259762309,\n",
              " 0.8531409168081494,\n",
              " 0.8620543293718166,\n",
              " 0.833616298811545,\n",
              " 0.8404074702886248,\n",
              " 0.8255517826825127,\n",
              " 0.8297962648556876,\n",
              " 0.8183361629881154,\n",
              " 0.815365025466893,\n",
              " 0.816213921901528,\n",
              " 0.8149405772495756,\n",
              " 0.8030560271646859,\n",
              " 0.8026315789473685,\n",
              " 0.7988115449915111,\n",
              " 0.8056027164685908,\n",
              " 0.7971137521222411,\n",
              " 0.799660441426146,\n",
              " 0.7954159592529711]"
            ]
          },
          "metadata": {},
          "execution_count": 59
        }
      ]
    },
    {
      "cell_type": "code",
      "metadata": {
        "colab": {
          "base_uri": "https://localhost:8080/"
        },
        "id": "WElrVjmV79T_",
        "outputId": "a0eff442-0108-41f5-cf9c-58b4df52d076"
      },
      "source": [
        "test_scores"
      ],
      "execution_count": null,
      "outputs": [
        {
          "output_type": "execute_result",
          "data": {
            "text/plain": [
              "[0.7898305084745763,\n",
              " 0.788135593220339,\n",
              " 0.7830508474576271,\n",
              " 0.7762711864406779,\n",
              " 0.7796610169491526,\n",
              " 0.7915254237288135,\n",
              " 0.7949152542372881,\n",
              " 0.7966101694915254,\n",
              " 0.7983050847457627,\n",
              " 0.7830508474576271,\n",
              " 0.7813559322033898,\n",
              " 0.7728813559322034,\n",
              " 0.7728813559322034,\n",
              " 0.7661016949152543,\n",
              " 0.7677966101694915,\n",
              " 0.764406779661017,\n",
              " 0.7745762711864407,\n",
              " 0.7661016949152543,\n",
              " 0.7762711864406779,\n",
              " 0.7762711864406779]"
            ]
          },
          "metadata": {},
          "execution_count": 60
        }
      ]
    },
    {
      "cell_type": "code",
      "metadata": {
        "colab": {
          "base_uri": "https://localhost:8080/",
          "height": 297
        },
        "id": "HN1GglyE7_um",
        "outputId": "b5e458b0-867b-4f91-a1ac-c8bb37dabc01"
      },
      "source": [
        "plt.plot(neighbors, train_scores, label=\"Train score\")\n",
        "plt.plot(neighbors, test_scores, label=\"Test score\")\n",
        "plt.xticks(np.arange(1, 21, 1))\n",
        "plt.xlabel(\"Number of neighbors\")\n",
        "plt.ylabel(\"Model score\")\n",
        "plt.legend()\n",
        "\n",
        "print(f\"Maximum KNN score on the test data: {max(test_scores)*100:.2f}%\")"
      ],
      "execution_count": null,
      "outputs": [
        {
          "output_type": "stream",
          "name": "stdout",
          "text": [
            "Maximum KNN score on the test data: 79.83%\n"
          ]
        },
        {
          "output_type": "display_data",
          "data": {
            "image/png": "[encoded data removed]",
            "text/plain": [
              "<Figure size 432x288 with 1 Axes>"
            ]
          },
          "metadata": {
            "needs_background": "light"
          }
        }
      ]
    },
    {
      "cell_type": "markdown",
      "metadata": {
        "id": "45SIaX9_AjmF"
      },
      "source": [
        "We're going to tune:\n",
        "**RandomForestClassifier()** which got the highest score. In order to acheive that we are going to get hyperparameter grids setup for our best scored model which is **RandomForestClassifier()**and tune it using RandomizedSearchCV."
      ]
    },
    {
      "cell_type": "code",
      "metadata": {
        "id": "DTvj2BY4A6Lk"
      },
      "source": [
        "# Create a hyperparameter grid for LogisticRegression\n",
        "log_reg_grid = {\"C\": np.logspace(-4, 4, 20),\n",
        "                \"solver\": [\"liblinear\"]}\n",
        "\n",
        "# Create a hyperparameter grid for RandomForestClassifier\n",
        "rf_grid = {\"n_estimators\": np.arange(10, 1000, 50),\n",
        "           \"max_depth\": [None, 3, 5, 10],\n",
        "           \"min_samples_split\": np.arange(2, 20, 2),\n",
        "           \"min_samples_leaf\": np.arange(1, 20, 2)}"
      ],
      "execution_count": null,
      "outputs": []
    },
    {
      "cell_type": "code",
      "metadata": {
        "colab": {
          "base_uri": "https://localhost:8080/"
        },
        "id": "ywwATiWHBagt",
        "outputId": "2f8c48c7-9ce7-446d-a7cd-c33310b38884"
      },
      "source": [
        "# Setup random seed\n",
        "np.random.seed(42)\n",
        "\n",
        "# Setup random hyperparameter search for RandomForestClassifier\n",
        "rs_rf = RandomizedSearchCV(RandomForestClassifier(), \n",
        "                           param_distributions=rf_grid,\n",
        "                           cv=5,\n",
        "                           n_iter=20,\n",
        "                           verbose=True)\n",
        "\n",
        "# Fit random hyperparameter search model for RandomForestClassifier()\n",
        "rs_rf.fit(X_train, y_train)"
      ],
      "execution_count": null,
      "outputs": [
        {
          "output_type": "stream",
          "name": "stdout",
          "text": [
            "Fitting 5 folds for each of 20 candidates, totalling 100 fits\n"
          ]
        },
        {
          "output_type": "execute_result",
          "data": {
            "text/plain": [
              "RandomizedSearchCV(cv=5, estimator=RandomForestClassifier(), n_iter=20,\n",
              "                   param_distributions={'max_depth': [None, 3, 5, 10],\n",
              "                                        'min_samples_leaf': array([ 1,  3,  5,  7,  9, 11, 13, 15, 17, 19]),\n",
              "                                        'min_samples_split': array([ 2,  4,  6,  8, 10, 12, 14, 16, 18]),\n",
              "                                        'n_estimators': array([ 10,  60, 110, 160, 210, 260, 310, 360, 410, 460, 510, 560, 610,\n",
              "       660, 710, 760, 810, 860, 910, 960])},\n",
              "                   verbose=True)"
            ]
          },
          "metadata": {},
          "execution_count": 82
        }
      ]
    },
    {
      "cell_type": "markdown",
      "metadata": {
        "id": "AmM0N0p0BMv5"
      },
      "source": [
        ""
      ]
    },
    {
      "cell_type": "code",
      "metadata": {
        "id": "C6SGGKDaAvAU"
      },
      "source": [
        ""
      ],
      "execution_count": null,
      "outputs": []
    },
    {
      "cell_type": "markdown",
      "metadata": {
        "id": "btvoHX7rCN38"
      },
      "source": [
        "#**Evaluating our tuned ML model using Confusion Matrix**"
      ]
    },
    {
      "cell_type": "markdown",
      "metadata": {
        "id": "XFirKONgAUJG"
      },
      "source": [
        "In order To make comparisons and evaluate our trained model, we will look at confusion matrix\n"
      ]
    },
    {
      "cell_type": "code",
      "metadata": {
        "id": "H7jnA1yP8CqQ"
      },
      "source": [
        "|"
      ],
      "execution_count": null,
      "outputs": []
    },
    {
      "cell_type": "markdown",
      "metadata": {
        "id": "a7HziEwF_DXU"
      },
      "source": [
        ""
      ]
    }
  ]
}